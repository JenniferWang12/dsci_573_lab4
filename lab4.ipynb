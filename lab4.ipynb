{
 "cells": [
  {
   "cell_type": "code",
   "execution_count": 1,
   "metadata": {
    "deletable": false,
    "editable": false
   },
   "outputs": [],
   "source": [
    "# Initialize Otter\n",
    "import otter\n",
    "grader = otter.Notebook(\"lab4.ipynb\")"
   ]
  },
  {
   "cell_type": "markdown",
   "metadata": {},
   "source": [
    "# Lab 4: Putting it all together in a mini project\n",
    "\n",
    "For this lab, **you can choose to work alone of in a group of up to four students**. You are in charge of how you want to work and who you want to work with. Maybe you really want to go through all the steps of the ML process yourself or maybe you want to practice your collaboration skills, it is up to you! Just remember to indicate who your group members are (if any) when you submit on Gradescope. If you choose to work in a group, you only need to use one GitHub repo (you can create one on github.ubc.ca and set the visibility to \"public\")."
   ]
  },
  {
   "cell_type": "markdown",
   "metadata": {
    "deletable": false,
    "editable": false
   },
   "source": [
    "<!-- BEGIN QUESTION -->\n",
    "\n",
    "<div class=\"alert alert-info\">\n",
    "\n",
    "## Submission instructions\n",
    "rubric={mechanics}\n",
    "\n",
    "<p>You receive marks for submitting your lab correctly, please follow these instructions:</p>\n",
    "\n",
    "<ul>\n",
    "  <li><a href=\"https://ubc-mds.github.io/resources_pages/general_lab_instructions/\">\n",
    "      Follow the general lab instructions.</a></li>\n",
    "  <li><a href=\"https://github.com/UBC-MDS/public/tree/master/rubric\">\n",
    "      Click here to view a description of the rubrics used to grade the questions</a></li>\n",
    "  <li>Make at least three commits.</li>\n",
    "  <li>Push your <code>.ipynb</code> file to your GitHub repository for this lab and upload it to Gradescope.</li>\n",
    "    <ul>\n",
    "      <li>Before submitting, make sure you restart the kernel and rerun all cells.</li>\n",
    "    </ul>\n",
    "  <li>Also upload a <code>.pdf</code> export of the notebook to facilitate grading of manual questions (preferably WebPDF, you can select two files when uploading to gradescope)</li>\n",
    "  <li>Don't change any variable names that are given to you, don't move cells around, and don't include any code to install packages in the notebook.</li>\n",
    "  <li>The data you download for this lab <b>SHOULD NOT BE PUSHED TO YOUR REPOSITORY</b> (there is also a <code>.gitignore</code> in the repo to prevent this).</li>\n",
    "  <li>Include a clickable link to your GitHub repo for the lab just below this cell\n",
    "    <ul>\n",
    "      <li>It should look something like this https://github.ubc.ca/MDS-2020-21/DSCI_531_labX_yourcwl.</li>\n",
    "    </ul>\n",
    "  </li>\n",
    "</ul>\n",
    "</div>\n",
    "\n",
    "_Points:_ 2"
   ]
  },
  {
   "cell_type": "markdown",
   "metadata": {},
   "source": [
    "https://github.ubc.ca/MDS-2023-24/DSCI_573_lab4_wangcx12"
   ]
  },
  {
   "cell_type": "markdown",
   "metadata": {
    "deletable": false,
    "editable": false
   },
   "source": [
    "<!-- END QUESTION -->\n",
    "\n",
    "## Introduction <a name=\"in\"></a>\n",
    "\n",
    "In this lab you will be working on an open-ended mini-project, where you will put all the different things you have learned so far in 571 and 573 together to solve an interesting problem.\n",
    "\n",
    "A few notes and tips when you work on this mini-project: \n",
    "\n",
    "#### Tips\n",
    "1. Since this mini-project is open-ended there might be some situations where you'll have to use your own judgment and make your own decisions (as you would be doing when you work as a data scientist). Make sure you explain your decisions whenever necessary. \n",
    "2. **Do not include everything you ever tried in your submission** -- it's fine just to have your final code. That said, your code should be reproducible and well-documented. For example, if you chose your hyperparameters based on some hyperparameter optimization experiment, you should leave in the code for that experiment so that someone else could re-run it and obtain the same hyperparameters, rather than mysteriously just setting the hyperparameters to some (carefully chosen) values in your code. \n",
    "3. If you realize that you are repeating a lot of code try to organize it in functions. Clear presentation of your code, experiments, and results is the key to be successful in this lab. You may use code from lecture notes or previous lab solutions with appropriate attributions. \n",
    "\n",
    "#### Assessment\n",
    "We don't have some secret target score that you need to achieve to get a good grade. **You'll be assessed on demonstration of mastery of course topics, clear presentation, and the quality of your analysis and results.** For example, if you just have a bunch of code and no text or figures, that's not good. If you instead do a bunch of sane things and you have clearly motivated your choices, but still get lower model performance than your friend, don't sweat it.\n",
    "\n",
    "\n",
    "#### A final note\n",
    "Finally, the style of this \"project\" question is different from other assignments. It'll be up to you to decide when you're \"done\" -- in fact, this is one of the hardest parts of real projects. But please don't spend WAY too much time on this... perhaps \"several hours\" but not \"many hours\" is a good guideline for a high quality submission. Of course if you're having fun you're welcome to spend as much time as you want! But, if so, try not to do it out of perfectionism or getting the best possible grade. Do it because you're learning and enjoying it. Students from the past cohorts have found such kind of labs useful and fun and we hope you enjoy it as well. "
   ]
  },
  {
   "cell_type": "markdown",
   "metadata": {
    "deletable": false,
    "editable": false
   },
   "source": [
    "<!-- BEGIN QUESTION -->\n",
    "\n",
    "<div class=\"alert alert-info\">\n",
    "\n",
    "## 1. Pick your problem and explain the prediction problem <a name=\"1\"></a>\n",
    "rubric={reasoning}\n",
    "\n",
    "In this mini project, you will pick one of the following problems: \n",
    "\n",
    "1. A classification problem of predicting whether a credit card client will default or not. For this problem, you will use [Default of Credit Card Clients Dataset](https://www.kaggle.com/uciml/default-of-credit-card-clients-dataset). In this data set, there are 30,000 examples and 24 features, and the goal is to estimate whether a person will default (fail to pay) their credit card bills; this column is labeled \"default.payment.next.month\" in the data. The rest of the columns can be used as features. You may take some ideas and compare your results with [the associated research paper](https://www.sciencedirect.com/science/article/pii/S0957417407006719), which is available through [the UBC library](https://www.library.ubc.ca/). \n",
    "\n",
    "OR \n",
    "\n",
    "2. A regression problem of predicting `reviews_per_month`, as a proxy for the popularity of the listing with [New York City Airbnb listings from 2019 dataset](https://www.kaggle.com/dgomonov/new-york-city-airbnb-open-data). Airbnb could use this sort of model to predict how popular future listings might be before they are posted, perhaps to help guide hosts create more appealing listings. In reality they might instead use something like vacancy rate or average rating as their target, but we do not have that available here.\n",
    "\n",
    "**Your tasks:**\n",
    "\n",
    "1. Spend some time understanding the problem and what each feature means. Write a few sentences on your initial thoughts on the problem and the dataset. \n",
    "2. Download the dataset and read it as a pandas dataframe. \n",
    "3. Carry out any preliminary preprocessing, if needed (e.g., changing feature names, handling of NaN values etc.)\n",
    "    \n",
    "</div>\n",
    "\n",
    "_Points:_ 3"
   ]
  },
  {
   "cell_type": "markdown",
   "metadata": {},
   "source": [
    "I picked the first problem of predicting whether a credit card client will default or not. This is a binary classification question, where the target variable is `default.payment.next.month` indicating whether the client will default in the next month (1 for yes, 0 for no). The dataset includes a variety of features, such as credit limit (LIMIT_BAL), demographic information like gender (SEX, 1=male, 2=female), education level (EDUCATION), marital status (MARRIAGE), repayment history for the past six months (PAY_0 to PAY_6), bill amounts (BILL_AMT1 to BILL_AMT6) and previous payment amounts (PAY_AMT1 to PAY_AMT6).  \n",
    "Since this dataset is related to credit card default, I should explore whether there is a class imbalance."
   ]
  },
  {
   "cell_type": "code",
   "execution_count": 2,
   "metadata": {
    "tags": []
   },
   "outputs": [],
   "source": [
    "# import\n",
    "import pandas as pd\n",
    "import altair as alt\n",
    "alt.data_transformers.enable(\"vegafusion\")\n",
    "from sklearn.model_selection import train_test_split\n",
    "\n",
    "from sklearn.preprocessing import StandardScaler, OneHotEncoder\n",
    "from sklearn.compose import make_column_transformer"
   ]
  },
  {
   "cell_type": "code",
   "execution_count": 3,
   "metadata": {},
   "outputs": [],
   "source": [
    "df = pd.read_csv('data/UCI_Credit_Card.csv')\n",
    "df = df.rename(columns={'default.payment.next.month': 'target_default'})\n",
    "df.columns = df.columns.str.lower()"
   ]
  },
  {
   "cell_type": "code",
   "execution_count": 4,
   "metadata": {
    "scrolled": true
   },
   "outputs": [
    {
     "name": "stdout",
     "output_type": "stream",
     "text": [
      "<class 'pandas.core.frame.DataFrame'>\n",
      "RangeIndex: 30000 entries, 0 to 29999\n",
      "Data columns (total 25 columns):\n",
      " #   Column          Non-Null Count  Dtype  \n",
      "---  ------          --------------  -----  \n",
      " 0   id              30000 non-null  int64  \n",
      " 1   limit_bal       30000 non-null  float64\n",
      " 2   sex             30000 non-null  int64  \n",
      " 3   education       30000 non-null  int64  \n",
      " 4   marriage        30000 non-null  int64  \n",
      " 5   age             30000 non-null  int64  \n",
      " 6   pay_0           30000 non-null  int64  \n",
      " 7   pay_2           30000 non-null  int64  \n",
      " 8   pay_3           30000 non-null  int64  \n",
      " 9   pay_4           30000 non-null  int64  \n",
      " 10  pay_5           30000 non-null  int64  \n",
      " 11  pay_6           30000 non-null  int64  \n",
      " 12  bill_amt1       30000 non-null  float64\n",
      " 13  bill_amt2       30000 non-null  float64\n",
      " 14  bill_amt3       30000 non-null  float64\n",
      " 15  bill_amt4       30000 non-null  float64\n",
      " 16  bill_amt5       30000 non-null  float64\n",
      " 17  bill_amt6       30000 non-null  float64\n",
      " 18  pay_amt1        30000 non-null  float64\n",
      " 19  pay_amt2        30000 non-null  float64\n",
      " 20  pay_amt3        30000 non-null  float64\n",
      " 21  pay_amt4        30000 non-null  float64\n",
      " 22  pay_amt5        30000 non-null  float64\n",
      " 23  pay_amt6        30000 non-null  float64\n",
      " 24  target_default  30000 non-null  int64  \n",
      "dtypes: float64(13), int64(12)\n",
      "memory usage: 5.7 MB\n"
     ]
    }
   ],
   "source": [
    "# There are no missing values in the dataset\n",
    "df.info()"
   ]
  },
  {
   "cell_type": "markdown",
   "metadata": {
    "deletable": false,
    "editable": false
   },
   "source": [
    "<!-- END QUESTION -->\n",
    "\n",
    "<!-- BEGIN QUESTION -->\n",
    "\n",
    "<div class=\"alert alert-info\">\n",
    "\n",
    "## 2. Data splitting <a name=\"2\"></a>\n",
    "rubric={reasoning}\n",
    "\n",
    "**Your tasks:**\n",
    "\n",
    "1. Split the data into train and test portions.\n",
    "\n",
    "> Make the decision on the `test_size` based on the capacity of your laptop. \n",
    "    \n",
    "</div>\n",
    "\n",
    "_Points:_ 1"
   ]
  },
  {
   "cell_type": "code",
   "execution_count": 5,
   "metadata": {
    "tags": []
   },
   "outputs": [
    {
     "data": {
      "text/html": [
       "<div>\n",
       "<style scoped>\n",
       "    .dataframe tbody tr th:only-of-type {\n",
       "        vertical-align: middle;\n",
       "    }\n",
       "\n",
       "    .dataframe tbody tr th {\n",
       "        vertical-align: top;\n",
       "    }\n",
       "\n",
       "    .dataframe thead th {\n",
       "        text-align: right;\n",
       "    }\n",
       "</style>\n",
       "<table border=\"1\" class=\"dataframe\">\n",
       "  <thead>\n",
       "    <tr style=\"text-align: right;\">\n",
       "      <th></th>\n",
       "      <th>id</th>\n",
       "      <th>limit_bal</th>\n",
       "      <th>sex</th>\n",
       "      <th>education</th>\n",
       "      <th>marriage</th>\n",
       "      <th>age</th>\n",
       "      <th>pay_0</th>\n",
       "      <th>pay_2</th>\n",
       "      <th>pay_3</th>\n",
       "      <th>pay_4</th>\n",
       "      <th>...</th>\n",
       "      <th>bill_amt4</th>\n",
       "      <th>bill_amt5</th>\n",
       "      <th>bill_amt6</th>\n",
       "      <th>pay_amt1</th>\n",
       "      <th>pay_amt2</th>\n",
       "      <th>pay_amt3</th>\n",
       "      <th>pay_amt4</th>\n",
       "      <th>pay_amt5</th>\n",
       "      <th>pay_amt6</th>\n",
       "      <th>target_default</th>\n",
       "    </tr>\n",
       "  </thead>\n",
       "  <tbody>\n",
       "    <tr>\n",
       "      <th>19682</th>\n",
       "      <td>19683</td>\n",
       "      <td>200000.0</td>\n",
       "      <td>2</td>\n",
       "      <td>2</td>\n",
       "      <td>1</td>\n",
       "      <td>46</td>\n",
       "      <td>0</td>\n",
       "      <td>0</td>\n",
       "      <td>0</td>\n",
       "      <td>0</td>\n",
       "      <td>...</td>\n",
       "      <td>103422.0</td>\n",
       "      <td>95206.0</td>\n",
       "      <td>65108.0</td>\n",
       "      <td>3692.0</td>\n",
       "      <td>5000.0</td>\n",
       "      <td>3300.0</td>\n",
       "      <td>2500.0</td>\n",
       "      <td>2930.0</td>\n",
       "      <td>1500.0</td>\n",
       "      <td>0</td>\n",
       "    </tr>\n",
       "    <tr>\n",
       "      <th>11062</th>\n",
       "      <td>11063</td>\n",
       "      <td>120000.0</td>\n",
       "      <td>2</td>\n",
       "      <td>1</td>\n",
       "      <td>1</td>\n",
       "      <td>32</td>\n",
       "      <td>-1</td>\n",
       "      <td>-1</td>\n",
       "      <td>-1</td>\n",
       "      <td>-1</td>\n",
       "      <td>...</td>\n",
       "      <td>476.0</td>\n",
       "      <td>802.0</td>\n",
       "      <td>326.0</td>\n",
       "      <td>652.0</td>\n",
       "      <td>326.0</td>\n",
       "      <td>476.0</td>\n",
       "      <td>802.0</td>\n",
       "      <td>0.0</td>\n",
       "      <td>326.0</td>\n",
       "      <td>1</td>\n",
       "    </tr>\n",
       "    <tr>\n",
       "      <th>197</th>\n",
       "      <td>198</td>\n",
       "      <td>20000.0</td>\n",
       "      <td>2</td>\n",
       "      <td>1</td>\n",
       "      <td>2</td>\n",
       "      <td>22</td>\n",
       "      <td>0</td>\n",
       "      <td>0</td>\n",
       "      <td>0</td>\n",
       "      <td>0</td>\n",
       "      <td>...</td>\n",
       "      <td>8332.0</td>\n",
       "      <td>18868.0</td>\n",
       "      <td>19247.0</td>\n",
       "      <td>1500.0</td>\n",
       "      <td>1032.0</td>\n",
       "      <td>541.0</td>\n",
       "      <td>20000.0</td>\n",
       "      <td>693.0</td>\n",
       "      <td>1000.0</td>\n",
       "      <td>0</td>\n",
       "    </tr>\n",
       "    <tr>\n",
       "      <th>23620</th>\n",
       "      <td>23621</td>\n",
       "      <td>100000.0</td>\n",
       "      <td>2</td>\n",
       "      <td>5</td>\n",
       "      <td>2</td>\n",
       "      <td>34</td>\n",
       "      <td>0</td>\n",
       "      <td>0</td>\n",
       "      <td>0</td>\n",
       "      <td>0</td>\n",
       "      <td>...</td>\n",
       "      <td>23181.0</td>\n",
       "      <td>7721.0</td>\n",
       "      <td>3219.0</td>\n",
       "      <td>5004.0</td>\n",
       "      <td>3811.0</td>\n",
       "      <td>3002.0</td>\n",
       "      <td>4000.0</td>\n",
       "      <td>3219.0</td>\n",
       "      <td>1864.0</td>\n",
       "      <td>0</td>\n",
       "    </tr>\n",
       "    <tr>\n",
       "      <th>26031</th>\n",
       "      <td>26032</td>\n",
       "      <td>290000.0</td>\n",
       "      <td>2</td>\n",
       "      <td>2</td>\n",
       "      <td>2</td>\n",
       "      <td>29</td>\n",
       "      <td>0</td>\n",
       "      <td>0</td>\n",
       "      <td>0</td>\n",
       "      <td>0</td>\n",
       "      <td>...</td>\n",
       "      <td>8770.0</td>\n",
       "      <td>9145.0</td>\n",
       "      <td>10016.0</td>\n",
       "      <td>1130.0</td>\n",
       "      <td>1502.0</td>\n",
       "      <td>1300.0</td>\n",
       "      <td>500.0</td>\n",
       "      <td>1000.0</td>\n",
       "      <td>1001.0</td>\n",
       "      <td>0</td>\n",
       "    </tr>\n",
       "  </tbody>\n",
       "</table>\n",
       "<p>5 rows × 25 columns</p>\n",
       "</div>"
      ],
      "text/plain": [
       "          id  limit_bal  sex  education  marriage  age  pay_0  pay_2  pay_3  \\\n",
       "19682  19683   200000.0    2          2         1   46      0      0      0   \n",
       "11062  11063   120000.0    2          1         1   32     -1     -1     -1   \n",
       "197      198    20000.0    2          1         2   22      0      0      0   \n",
       "23620  23621   100000.0    2          5         2   34      0      0      0   \n",
       "26031  26032   290000.0    2          2         2   29      0      0      0   \n",
       "\n",
       "       pay_4  ...  bill_amt4  bill_amt5  bill_amt6  pay_amt1  pay_amt2  \\\n",
       "19682      0  ...   103422.0    95206.0    65108.0    3692.0    5000.0   \n",
       "11062     -1  ...      476.0      802.0      326.0     652.0     326.0   \n",
       "197        0  ...     8332.0    18868.0    19247.0    1500.0    1032.0   \n",
       "23620      0  ...    23181.0     7721.0     3219.0    5004.0    3811.0   \n",
       "26031      0  ...     8770.0     9145.0    10016.0    1130.0    1502.0   \n",
       "\n",
       "       pay_amt3  pay_amt4  pay_amt5  pay_amt6  target_default  \n",
       "19682    3300.0    2500.0    2930.0    1500.0               0  \n",
       "11062     476.0     802.0       0.0     326.0               1  \n",
       "197       541.0   20000.0     693.0    1000.0               0  \n",
       "23620    3002.0    4000.0    3219.0    1864.0               0  \n",
       "26031    1300.0     500.0    1000.0    1001.0               0  \n",
       "\n",
       "[5 rows x 25 columns]"
      ]
     },
     "execution_count": 5,
     "metadata": {},
     "output_type": "execute_result"
    }
   ],
   "source": [
    "train_df, test_df = train_test_split(df, test_size=0.2, random_state=123)\n",
    "X_train, y_train = train_df.drop(columns=[\"target_default\"]), train_df[\"target_default\"]\n",
    "X_test, y_test = test_df.drop(columns=[\"target_default\"]), test_df[\"target_default\"]\n",
    "train_df.head()"
   ]
  },
  {
   "cell_type": "markdown",
   "metadata": {
    "deletable": false,
    "editable": false
   },
   "source": [
    "<!-- END QUESTION -->\n",
    "\n",
    "<!-- BEGIN QUESTION -->\n",
    "\n",
    "<div class=\"alert alert-info\">\n",
    "\n",
    "## 3. EDA <a name=\"3\"></a>\n",
    "rubric={viz,reasoning}\n",
    "    \n",
    "Perform exploratory data analysis on the train set.\n",
    "\n",
    "**Your tasks:**\n",
    "\n",
    "1. Include at least two summary statistics and two visualizations that you find useful, and accompany each one with a sentence explaining it.\n",
    "2. Summarize your initial observations about the data. \n",
    "3. Pick appropriate metric/metrics for assessment. \n",
    "    \n",
    "</div>\n",
    "\n",
    "_Points:_ 6"
   ]
  },
  {
   "cell_type": "markdown",
   "metadata": {},
   "source": [
    "_Type your answer here, replacing this text._"
   ]
  },
  {
   "cell_type": "code",
   "execution_count": 6,
   "metadata": {
    "scrolled": true,
    "tags": []
   },
   "outputs": [
    {
     "data": {
      "text/html": [
       "<div>\n",
       "<style scoped>\n",
       "    .dataframe tbody tr th:only-of-type {\n",
       "        vertical-align: middle;\n",
       "    }\n",
       "\n",
       "    .dataframe tbody tr th {\n",
       "        vertical-align: top;\n",
       "    }\n",
       "\n",
       "    .dataframe thead th {\n",
       "        text-align: right;\n",
       "    }\n",
       "</style>\n",
       "<table border=\"1\" class=\"dataframe\">\n",
       "  <thead>\n",
       "    <tr style=\"text-align: right;\">\n",
       "      <th></th>\n",
       "      <th>count</th>\n",
       "      <th>mean</th>\n",
       "      <th>std</th>\n",
       "      <th>min</th>\n",
       "      <th>25%</th>\n",
       "      <th>50%</th>\n",
       "      <th>75%</th>\n",
       "      <th>max</th>\n",
       "    </tr>\n",
       "  </thead>\n",
       "  <tbody>\n",
       "    <tr>\n",
       "      <th>id</th>\n",
       "      <td>24000.0</td>\n",
       "      <td>14964.174292</td>\n",
       "      <td>8660.479272</td>\n",
       "      <td>1.0</td>\n",
       "      <td>7467.75</td>\n",
       "      <td>14975.0</td>\n",
       "      <td>22460.25</td>\n",
       "      <td>30000.0</td>\n",
       "    </tr>\n",
       "    <tr>\n",
       "      <th>limit_bal</th>\n",
       "      <td>24000.0</td>\n",
       "      <td>167893.486667</td>\n",
       "      <td>130109.666875</td>\n",
       "      <td>10000.0</td>\n",
       "      <td>50000.00</td>\n",
       "      <td>140000.0</td>\n",
       "      <td>240000.00</td>\n",
       "      <td>1000000.0</td>\n",
       "    </tr>\n",
       "    <tr>\n",
       "      <th>sex</th>\n",
       "      <td>24000.0</td>\n",
       "      <td>1.603125</td>\n",
       "      <td>0.489260</td>\n",
       "      <td>1.0</td>\n",
       "      <td>1.00</td>\n",
       "      <td>2.0</td>\n",
       "      <td>2.00</td>\n",
       "      <td>2.0</td>\n",
       "    </tr>\n",
       "    <tr>\n",
       "      <th>education</th>\n",
       "      <td>24000.0</td>\n",
       "      <td>1.851958</td>\n",
       "      <td>0.790560</td>\n",
       "      <td>0.0</td>\n",
       "      <td>1.00</td>\n",
       "      <td>2.0</td>\n",
       "      <td>2.00</td>\n",
       "      <td>6.0</td>\n",
       "    </tr>\n",
       "    <tr>\n",
       "      <th>marriage</th>\n",
       "      <td>24000.0</td>\n",
       "      <td>1.553375</td>\n",
       "      <td>0.521452</td>\n",
       "      <td>0.0</td>\n",
       "      <td>1.00</td>\n",
       "      <td>2.0</td>\n",
       "      <td>2.00</td>\n",
       "      <td>3.0</td>\n",
       "    </tr>\n",
       "    <tr>\n",
       "      <th>age</th>\n",
       "      <td>24000.0</td>\n",
       "      <td>35.488458</td>\n",
       "      <td>9.217424</td>\n",
       "      <td>21.0</td>\n",
       "      <td>28.00</td>\n",
       "      <td>34.0</td>\n",
       "      <td>41.00</td>\n",
       "      <td>79.0</td>\n",
       "    </tr>\n",
       "    <tr>\n",
       "      <th>pay_0</th>\n",
       "      <td>24000.0</td>\n",
       "      <td>-0.017542</td>\n",
       "      <td>1.125331</td>\n",
       "      <td>-2.0</td>\n",
       "      <td>-1.00</td>\n",
       "      <td>0.0</td>\n",
       "      <td>0.00</td>\n",
       "      <td>8.0</td>\n",
       "    </tr>\n",
       "    <tr>\n",
       "      <th>pay_2</th>\n",
       "      <td>24000.0</td>\n",
       "      <td>-0.135292</td>\n",
       "      <td>1.199812</td>\n",
       "      <td>-2.0</td>\n",
       "      <td>-1.00</td>\n",
       "      <td>0.0</td>\n",
       "      <td>0.00</td>\n",
       "      <td>8.0</td>\n",
       "    </tr>\n",
       "    <tr>\n",
       "      <th>pay_3</th>\n",
       "      <td>24000.0</td>\n",
       "      <td>-0.170042</td>\n",
       "      <td>1.201709</td>\n",
       "      <td>-2.0</td>\n",
       "      <td>-1.00</td>\n",
       "      <td>0.0</td>\n",
       "      <td>0.00</td>\n",
       "      <td>8.0</td>\n",
       "    </tr>\n",
       "    <tr>\n",
       "      <th>pay_4</th>\n",
       "      <td>24000.0</td>\n",
       "      <td>-0.224292</td>\n",
       "      <td>1.170630</td>\n",
       "      <td>-2.0</td>\n",
       "      <td>-1.00</td>\n",
       "      <td>0.0</td>\n",
       "      <td>0.00</td>\n",
       "      <td>8.0</td>\n",
       "    </tr>\n",
       "    <tr>\n",
       "      <th>pay_5</th>\n",
       "      <td>24000.0</td>\n",
       "      <td>-0.265583</td>\n",
       "      <td>1.136707</td>\n",
       "      <td>-2.0</td>\n",
       "      <td>-1.00</td>\n",
       "      <td>0.0</td>\n",
       "      <td>0.00</td>\n",
       "      <td>8.0</td>\n",
       "    </tr>\n",
       "    <tr>\n",
       "      <th>pay_6</th>\n",
       "      <td>24000.0</td>\n",
       "      <td>-0.294042</td>\n",
       "      <td>1.152014</td>\n",
       "      <td>-2.0</td>\n",
       "      <td>-1.00</td>\n",
       "      <td>0.0</td>\n",
       "      <td>0.00</td>\n",
       "      <td>8.0</td>\n",
       "    </tr>\n",
       "    <tr>\n",
       "      <th>bill_amt1</th>\n",
       "      <td>24000.0</td>\n",
       "      <td>51068.758375</td>\n",
       "      <td>73353.609147</td>\n",
       "      <td>-15308.0</td>\n",
       "      <td>3566.50</td>\n",
       "      <td>22250.0</td>\n",
       "      <td>66910.50</td>\n",
       "      <td>964511.0</td>\n",
       "    </tr>\n",
       "    <tr>\n",
       "      <th>bill_amt2</th>\n",
       "      <td>24000.0</td>\n",
       "      <td>49006.879333</td>\n",
       "      <td>71140.365649</td>\n",
       "      <td>-67526.0</td>\n",
       "      <td>2920.00</td>\n",
       "      <td>20940.5</td>\n",
       "      <td>63428.25</td>\n",
       "      <td>983931.0</td>\n",
       "    </tr>\n",
       "    <tr>\n",
       "      <th>bill_amt3</th>\n",
       "      <td>24000.0</td>\n",
       "      <td>46955.185083</td>\n",
       "      <td>68841.868958</td>\n",
       "      <td>-157264.0</td>\n",
       "      <td>2663.00</td>\n",
       "      <td>20038.0</td>\n",
       "      <td>59970.25</td>\n",
       "      <td>855086.0</td>\n",
       "    </tr>\n",
       "    <tr>\n",
       "      <th>bill_amt4</th>\n",
       "      <td>24000.0</td>\n",
       "      <td>43389.105625</td>\n",
       "      <td>64572.844994</td>\n",
       "      <td>-65167.0</td>\n",
       "      <td>2310.00</td>\n",
       "      <td>19032.0</td>\n",
       "      <td>54591.50</td>\n",
       "      <td>891586.0</td>\n",
       "    </tr>\n",
       "    <tr>\n",
       "      <th>bill_amt5</th>\n",
       "      <td>24000.0</td>\n",
       "      <td>40297.970375</td>\n",
       "      <td>60878.153831</td>\n",
       "      <td>-61372.0</td>\n",
       "      <td>1744.25</td>\n",
       "      <td>18019.0</td>\n",
       "      <td>50237.25</td>\n",
       "      <td>927171.0</td>\n",
       "    </tr>\n",
       "    <tr>\n",
       "      <th>bill_amt6</th>\n",
       "      <td>24000.0</td>\n",
       "      <td>38708.777542</td>\n",
       "      <td>59355.284889</td>\n",
       "      <td>-339603.0</td>\n",
       "      <td>1200.00</td>\n",
       "      <td>16812.5</td>\n",
       "      <td>49132.75</td>\n",
       "      <td>961664.0</td>\n",
       "    </tr>\n",
       "    <tr>\n",
       "      <th>pay_amt1</th>\n",
       "      <td>24000.0</td>\n",
       "      <td>5656.319917</td>\n",
       "      <td>16757.718059</td>\n",
       "      <td>0.0</td>\n",
       "      <td>990.00</td>\n",
       "      <td>2100.0</td>\n",
       "      <td>5009.00</td>\n",
       "      <td>873552.0</td>\n",
       "    </tr>\n",
       "    <tr>\n",
       "      <th>pay_amt2</th>\n",
       "      <td>24000.0</td>\n",
       "      <td>5910.453708</td>\n",
       "      <td>21347.429215</td>\n",
       "      <td>0.0</td>\n",
       "      <td>815.00</td>\n",
       "      <td>2010.0</td>\n",
       "      <td>5000.00</td>\n",
       "      <td>1227082.0</td>\n",
       "    </tr>\n",
       "    <tr>\n",
       "      <th>pay_amt3</th>\n",
       "      <td>24000.0</td>\n",
       "      <td>5280.658708</td>\n",
       "      <td>17973.951980</td>\n",
       "      <td>0.0</td>\n",
       "      <td>390.00</td>\n",
       "      <td>1801.5</td>\n",
       "      <td>4600.00</td>\n",
       "      <td>896040.0</td>\n",
       "    </tr>\n",
       "    <tr>\n",
       "      <th>pay_amt4</th>\n",
       "      <td>24000.0</td>\n",
       "      <td>4763.854250</td>\n",
       "      <td>15162.056345</td>\n",
       "      <td>0.0</td>\n",
       "      <td>281.75</td>\n",
       "      <td>1500.0</td>\n",
       "      <td>4026.00</td>\n",
       "      <td>621000.0</td>\n",
       "    </tr>\n",
       "    <tr>\n",
       "      <th>pay_amt5</th>\n",
       "      <td>24000.0</td>\n",
       "      <td>4805.837667</td>\n",
       "      <td>15251.828322</td>\n",
       "      <td>0.0</td>\n",
       "      <td>234.00</td>\n",
       "      <td>1500.0</td>\n",
       "      <td>4009.25</td>\n",
       "      <td>426529.0</td>\n",
       "    </tr>\n",
       "    <tr>\n",
       "      <th>pay_amt6</th>\n",
       "      <td>24000.0</td>\n",
       "      <td>5277.577958</td>\n",
       "      <td>18222.046645</td>\n",
       "      <td>0.0</td>\n",
       "      <td>110.75</td>\n",
       "      <td>1500.0</td>\n",
       "      <td>4000.00</td>\n",
       "      <td>528666.0</td>\n",
       "    </tr>\n",
       "  </tbody>\n",
       "</table>\n",
       "</div>"
      ],
      "text/plain": [
       "             count           mean            std       min       25%  \\\n",
       "id         24000.0   14964.174292    8660.479272       1.0   7467.75   \n",
       "limit_bal  24000.0  167893.486667  130109.666875   10000.0  50000.00   \n",
       "sex        24000.0       1.603125       0.489260       1.0      1.00   \n",
       "education  24000.0       1.851958       0.790560       0.0      1.00   \n",
       "marriage   24000.0       1.553375       0.521452       0.0      1.00   \n",
       "age        24000.0      35.488458       9.217424      21.0     28.00   \n",
       "pay_0      24000.0      -0.017542       1.125331      -2.0     -1.00   \n",
       "pay_2      24000.0      -0.135292       1.199812      -2.0     -1.00   \n",
       "pay_3      24000.0      -0.170042       1.201709      -2.0     -1.00   \n",
       "pay_4      24000.0      -0.224292       1.170630      -2.0     -1.00   \n",
       "pay_5      24000.0      -0.265583       1.136707      -2.0     -1.00   \n",
       "pay_6      24000.0      -0.294042       1.152014      -2.0     -1.00   \n",
       "bill_amt1  24000.0   51068.758375   73353.609147  -15308.0   3566.50   \n",
       "bill_amt2  24000.0   49006.879333   71140.365649  -67526.0   2920.00   \n",
       "bill_amt3  24000.0   46955.185083   68841.868958 -157264.0   2663.00   \n",
       "bill_amt4  24000.0   43389.105625   64572.844994  -65167.0   2310.00   \n",
       "bill_amt5  24000.0   40297.970375   60878.153831  -61372.0   1744.25   \n",
       "bill_amt6  24000.0   38708.777542   59355.284889 -339603.0   1200.00   \n",
       "pay_amt1   24000.0    5656.319917   16757.718059       0.0    990.00   \n",
       "pay_amt2   24000.0    5910.453708   21347.429215       0.0    815.00   \n",
       "pay_amt3   24000.0    5280.658708   17973.951980       0.0    390.00   \n",
       "pay_amt4   24000.0    4763.854250   15162.056345       0.0    281.75   \n",
       "pay_amt5   24000.0    4805.837667   15251.828322       0.0    234.00   \n",
       "pay_amt6   24000.0    5277.577958   18222.046645       0.0    110.75   \n",
       "\n",
       "                50%        75%        max  \n",
       "id          14975.0   22460.25    30000.0  \n",
       "limit_bal  140000.0  240000.00  1000000.0  \n",
       "sex             2.0       2.00        2.0  \n",
       "education       2.0       2.00        6.0  \n",
       "marriage        2.0       2.00        3.0  \n",
       "age            34.0      41.00       79.0  \n",
       "pay_0           0.0       0.00        8.0  \n",
       "pay_2           0.0       0.00        8.0  \n",
       "pay_3           0.0       0.00        8.0  \n",
       "pay_4           0.0       0.00        8.0  \n",
       "pay_5           0.0       0.00        8.0  \n",
       "pay_6           0.0       0.00        8.0  \n",
       "bill_amt1   22250.0   66910.50   964511.0  \n",
       "bill_amt2   20940.5   63428.25   983931.0  \n",
       "bill_amt3   20038.0   59970.25   855086.0  \n",
       "bill_amt4   19032.0   54591.50   891586.0  \n",
       "bill_amt5   18019.0   50237.25   927171.0  \n",
       "bill_amt6   16812.5   49132.75   961664.0  \n",
       "pay_amt1     2100.0    5009.00   873552.0  \n",
       "pay_amt2     2010.0    5000.00  1227082.0  \n",
       "pay_amt3     1801.5    4600.00   896040.0  \n",
       "pay_amt4     1500.0    4026.00   621000.0  \n",
       "pay_amt5     1500.0    4009.25   426529.0  \n",
       "pay_amt6     1500.0    4000.00   528666.0  "
      ]
     },
     "execution_count": 6,
     "metadata": {},
     "output_type": "execute_result"
    }
   ],
   "source": [
    "# General statistic of features\n",
    "X_train.describe().T"
   ]
  },
  {
   "cell_type": "markdown",
   "metadata": {},
   "source": [
    "- The ranges for different features are very different in this dataset, so scaler is needed.\n",
    "\n",
    "\n",
    "    \n"
   ]
  },
  {
   "cell_type": "code",
   "execution_count": 7,
   "metadata": {},
   "outputs": [
    {
     "data": {
      "text/html": [
       "\n",
       "<style>\n",
       "  #altair-viz-496b59876c224366a9e615ebb488d110.vega-embed {\n",
       "    width: 100%;\n",
       "    display: flex;\n",
       "  }\n",
       "\n",
       "  #altair-viz-496b59876c224366a9e615ebb488d110.vega-embed details,\n",
       "  #altair-viz-496b59876c224366a9e615ebb488d110.vega-embed details summary {\n",
       "    position: relative;\n",
       "  }\n",
       "</style>\n",
       "<div id=\"altair-viz-496b59876c224366a9e615ebb488d110\"></div>\n",
       "<script type=\"text/javascript\">\n",
       "  var VEGA_DEBUG = (typeof VEGA_DEBUG == \"undefined\") ? {} : VEGA_DEBUG;\n",
       "  (function(spec, embedOpt){\n",
       "    let outputDiv = document.currentScript.previousElementSibling;\n",
       "    if (outputDiv.id !== \"altair-viz-496b59876c224366a9e615ebb488d110\") {\n",
       "      outputDiv = document.getElementById(\"altair-viz-496b59876c224366a9e615ebb488d110\");\n",
       "    }\n",
       "    const paths = {\n",
       "      \"vega\": \"https://cdn.jsdelivr.net/npm/vega@5?noext\",\n",
       "      \"vega-lib\": \"https://cdn.jsdelivr.net/npm/vega-lib?noext\",\n",
       "      \"vega-lite\": \"https://cdn.jsdelivr.net/npm/vega-lite@5.15.1?noext\",\n",
       "      \"vega-embed\": \"https://cdn.jsdelivr.net/npm/vega-embed@6?noext\",\n",
       "    };\n",
       "\n",
       "    function maybeLoadScript(lib, version) {\n",
       "      var key = `${lib.replace(\"-\", \"\")}_version`;\n",
       "      return (VEGA_DEBUG[key] == version) ?\n",
       "        Promise.resolve(paths[lib]) :\n",
       "        new Promise(function(resolve, reject) {\n",
       "          var s = document.createElement('script');\n",
       "          document.getElementsByTagName(\"head\")[0].appendChild(s);\n",
       "          s.async = true;\n",
       "          s.onload = () => {\n",
       "            VEGA_DEBUG[key] = version;\n",
       "            return resolve(paths[lib]);\n",
       "          };\n",
       "          s.onerror = () => reject(`Error loading script: ${paths[lib]}`);\n",
       "          s.src = paths[lib];\n",
       "        });\n",
       "    }\n",
       "\n",
       "    function showError(err) {\n",
       "      outputDiv.innerHTML = `<div class=\"error\" style=\"color:red;\">${err}</div>`;\n",
       "      throw err;\n",
       "    }\n",
       "\n",
       "    function displayChart(vegaEmbed) {\n",
       "      vegaEmbed(outputDiv, spec, embedOpt)\n",
       "        .catch(err => showError(`Javascript Error: ${err.message}<br>This usually means there's a typo in your chart specification. See the javascript console for the full traceback.`));\n",
       "    }\n",
       "\n",
       "    if(typeof define === \"function\" && define.amd) {\n",
       "      requirejs.config({paths});\n",
       "      require([\"vega-embed\"], displayChart, err => showError(`Error loading script: ${err.message}`));\n",
       "    } else {\n",
       "      maybeLoadScript(\"vega\", \"5\")\n",
       "        .then(() => maybeLoadScript(\"vega-lite\", \"5.15.1\"))\n",
       "        .then(() => maybeLoadScript(\"vega-embed\", \"6\"))\n",
       "        .catch(showError)\n",
       "        .then(() => displayChart(vegaEmbed));\n",
       "    }\n",
       "  })({\"$schema\": \"https://vega.github.io/schema/vega/v5.json\", \"data\": [{\"name\": \"source_0\", \"values\": [{\"__count\": 18668, \"target_default\": 0}, {\"__count\": 5332, \"target_default\": 1}]}, {\"name\": \"source_0_x_domain_target_default\", \"values\": [{\"target_default\": 0}, {\"target_default\": 1}]}, {\"name\": \"source_0_y_domain___count\", \"values\": [{\"min\": 5332, \"max\": 18668}]}, {\"name\": \"source_0_color_domain_target_default\", \"values\": [{\"target_default\": 0}, {\"target_default\": 1}]}], \"marks\": [{\"type\": \"rect\", \"name\": \"marks\", \"from\": {\"data\": \"source_0\"}, \"encode\": {\"update\": {\"y\": {\"field\": \"__count\", \"scale\": \"y\"}, \"ariaRoleDescription\": {\"value\": \"bar\"}, \"x\": {\"field\": \"target_default\", \"scale\": \"x\"}, \"width\": {\"signal\": \"max(0.25, bandwidth('x'))\"}, \"description\": {\"signal\": \"\\\"1: Yes, 0: No: \\\" + (isValid(datum[\\\"target_default\\\"]) ? datum[\\\"target_default\\\"] : \\\"\\\"+datum[\\\"target_default\\\"]) + \\\"; Count: \\\" + (format(datum[\\\"__count\\\"], \\\"\\\")) + \\\"; target_default: \\\" + (isValid(datum[\\\"target_default\\\"]) ? datum[\\\"target_default\\\"] : \\\"\\\"+datum[\\\"target_default\\\"])\"}, \"fill\": {\"field\": \"target_default\", \"scale\": \"color\"}, \"y2\": {\"value\": 0, \"scale\": \"y\"}}}, \"style\": [\"bar\"]}], \"scales\": [{\"name\": \"x\", \"type\": \"band\", \"domain\": {\"data\": \"source_0_x_domain_target_default\", \"field\": \"target_default\", \"sort\": true}, \"range\": [0, {\"signal\": \"width\"}], \"paddingInner\": 0.1, \"paddingOuter\": 0.05}, {\"name\": \"y\", \"type\": \"linear\", \"domain\": [{\"signal\": \"(data(\\\"source_0_y_domain___count\\\")[0] || {}).min\"}, {\"signal\": \"(data(\\\"source_0_y_domain___count\\\")[0] || {}).max\"}], \"range\": [{\"signal\": \"height\"}, 0], \"nice\": true, \"zero\": true}, {\"name\": \"color\", \"type\": \"ordinal\", \"domain\": {\"data\": \"source_0_color_domain_target_default\", \"field\": \"target_default\", \"sort\": true}, \"range\": \"category\"}], \"axes\": [{\"scale\": \"y\", \"gridScale\": \"x\", \"domain\": false, \"maxExtent\": 0, \"minExtent\": 0, \"orient\": \"left\", \"aria\": false, \"ticks\": false, \"labels\": false, \"zindex\": 0, \"grid\": true, \"tickCount\": {\"signal\": \"ceil(height/40)\"}}, {\"scale\": \"x\", \"title\": \"1: Yes, 0: No\", \"orient\": \"bottom\", \"labelBaseline\": \"middle\", \"grid\": false, \"labelAlign\": \"right\", \"zindex\": 0, \"labelAngle\": 270}, {\"scale\": \"y\", \"tickCount\": {\"signal\": \"ceil(height/40)\"}, \"labelOverlap\": true, \"grid\": false, \"orient\": \"left\", \"title\": \"Count\", \"zindex\": 0}], \"title\": {\"text\": \"Default Payment Next Month\", \"frame\": \"group\"}, \"height\": 300, \"legends\": [{\"fill\": \"color\", \"symbolType\": \"square\", \"title\": \"target_default\"}], \"background\": \"white\", \"padding\": 5, \"width\": 400, \"style\": \"cell\"}, {\"mode\": \"vega\"});\n",
       "</script>"
      ],
      "text/plain": [
       "alt.Chart(...)"
      ]
     },
     "execution_count": 7,
     "metadata": {},
     "output_type": "execute_result"
    }
   ],
   "source": [
    "# Distribution of the Target Variable\n",
    "alt.Chart(train_df).mark_bar().encode(\n",
    "    x=alt.X('target_default:N', title='1: Yes, 0: No'),\n",
    "    y=alt.Y('count()', title='Count'),\n",
    "    color='target_default:N'\n",
    ").properties(\n",
    "    title='Default Payment Next Month',\n",
    "    width=400\n",
    ")"
   ]
  },
  {
   "cell_type": "markdown",
   "metadata": {},
   "source": [
    "- From this visualization of target class, it is clear that the target is imbalanced. There are more clients default than not default."
   ]
  },
  {
   "cell_type": "code",
   "execution_count": 8,
   "metadata": {},
   "outputs": [
    {
     "data": {
      "text/html": [
       "<style type=\"text/css\">\n",
       "#T_a4062_row0_col0, #T_a4062_row1_col1, #T_a4062_row2_col2, #T_a4062_row3_col3, #T_a4062_row4_col4, #T_a4062_row5_col5, #T_a4062_row6_col6, #T_a4062_row7_col7, #T_a4062_row8_col8, #T_a4062_row9_col9, #T_a4062_row10_col10, #T_a4062_row11_col11, #T_a4062_row12_col12, #T_a4062_row13_col13, #T_a4062_row14_col14, #T_a4062_row15_col15, #T_a4062_row16_col16, #T_a4062_row17_col17, #T_a4062_row18_col18, #T_a4062_row19_col19, #T_a4062_row20_col20, #T_a4062_row21_col21, #T_a4062_row22_col22, #T_a4062_row23_col23, #T_a4062_row24_col24 {\n",
       "  background-color: #023858;\n",
       "  color: #f1f1f1;\n",
       "}\n",
       "#T_a4062_row0_col1, #T_a4062_row6_col5 {\n",
       "  background-color: #c8cde4;\n",
       "  color: #000000;\n",
       "}\n",
       "#T_a4062_row0_col2, #T_a4062_row1_col17, #T_a4062_row2_col24, #T_a4062_row3_col2, #T_a4062_row3_col18, #T_a4062_row20_col2 {\n",
       "  background-color: #f0eaf4;\n",
       "  color: #000000;\n",
       "}\n",
       "#T_a4062_row0_col3, #T_a4062_row0_col8, #T_a4062_row4_col6 {\n",
       "  background-color: #d2d2e7;\n",
       "  color: #000000;\n",
       "}\n",
       "#T_a4062_row0_col4, #T_a4062_row2_col1, #T_a4062_row9_col18, #T_a4062_row24_col4 {\n",
       "  background-color: #c0c9e2;\n",
       "  color: #000000;\n",
       "}\n",
       "#T_a4062_row0_col5, #T_a4062_row6_col14, #T_a4062_row9_col3 {\n",
       "  background-color: #b4c4df;\n",
       "  color: #000000;\n",
       "}\n",
       "#T_a4062_row0_col6, #T_a4062_row0_col10, #T_a4062_row8_col20, #T_a4062_row22_col6 {\n",
       "  background-color: #d9d8ea;\n",
       "  color: #000000;\n",
       "}\n",
       "#T_a4062_row0_col7, #T_a4062_row4_col10 {\n",
       "  background-color: #ced0e6;\n",
       "  color: #000000;\n",
       "}\n",
       "#T_a4062_row0_col9, #T_a4062_row1_col4, #T_a4062_row4_col11, #T_a4062_row11_col22 {\n",
       "  background-color: #d3d4e7;\n",
       "  color: #000000;\n",
       "}\n",
       "#T_a4062_row0_col11, #T_a4062_row2_col7 {\n",
       "  background-color: #dbdaeb;\n",
       "  color: #000000;\n",
       "}\n",
       "#T_a4062_row0_col12, #T_a4062_row0_col13, #T_a4062_row0_col15, #T_a4062_row1_col0, #T_a4062_row3_col1, #T_a4062_row3_col23, #T_a4062_row4_col2, #T_a4062_row5_col0, #T_a4062_row6_col18 {\n",
       "  background-color: #f7f0f7;\n",
       "  color: #000000;\n",
       "}\n",
       "#T_a4062_row0_col14, #T_a4062_row2_col0, #T_a4062_row5_col12, #T_a4062_row5_col13, #T_a4062_row10_col1, #T_a4062_row11_col2, #T_a4062_row12_col2, #T_a4062_row13_col2, #T_a4062_row14_col0, #T_a4062_row16_col0, #T_a4062_row17_col0, #T_a4062_row21_col0, #T_a4062_row24_col2 {\n",
       "  background-color: #f8f1f8;\n",
       "  color: #000000;\n",
       "}\n",
       "#T_a4062_row0_col16, #T_a4062_row0_col17, #T_a4062_row9_col2 {\n",
       "  background-color: #fbf3f9;\n",
       "  color: #000000;\n",
       "}\n",
       "#T_a4062_row0_col18, #T_a4062_row5_col20, #T_a4062_row5_col21, #T_a4062_row5_col24 {\n",
       "  background-color: #e7e3f0;\n",
       "  color: #000000;\n",
       "}\n",
       "#T_a4062_row0_col19, #T_a4062_row2_col10, #T_a4062_row3_col24, #T_a4062_row18_col3 {\n",
       "  background-color: #e0dded;\n",
       "  color: #000000;\n",
       "}\n",
       "#T_a4062_row0_col20, #T_a4062_row3_col4, #T_a4062_row7_col19, #T_a4062_row10_col21, #T_a4062_row21_col6 {\n",
       "  background-color: #dad9ea;\n",
       "  color: #000000;\n",
       "}\n",
       "#T_a4062_row0_col21 {\n",
       "  background-color: #ece7f2;\n",
       "  color: #000000;\n",
       "}\n",
       "#T_a4062_row0_col22, #T_a4062_row4_col19, #T_a4062_row20_col0 {\n",
       "  background-color: #eee8f3;\n",
       "  color: #000000;\n",
       "}\n",
       "#T_a4062_row0_col23, #T_a4062_row1_col2, #T_a4062_row2_col19, #T_a4062_row2_col23, #T_a4062_row3_col12, #T_a4062_row16_col24 {\n",
       "  background-color: #e9e5f1;\n",
       "  color: #000000;\n",
       "}\n",
       "#T_a4062_row0_col24, #T_a4062_row3_col13, #T_a4062_row4_col18, #T_a4062_row13_col24, #T_a4062_row14_col24 {\n",
       "  background-color: #ebe6f2;\n",
       "  color: #000000;\n",
       "}\n",
       "#T_a4062_row1_col3, #T_a4062_row1_col6, #T_a4062_row1_col7, #T_a4062_row1_col8, #T_a4062_row1_col9, #T_a4062_row1_col10, #T_a4062_row1_col11, #T_a4062_row1_col24, #T_a4062_row2_col12, #T_a4062_row2_col13, #T_a4062_row2_col14, #T_a4062_row2_col15, #T_a4062_row2_col16, #T_a4062_row2_col17, #T_a4062_row4_col0, #T_a4062_row4_col5, #T_a4062_row5_col2, #T_a4062_row5_col4, #T_a4062_row7_col1, #T_a4062_row24_col18, #T_a4062_row24_col19, #T_a4062_row24_col20, #T_a4062_row24_col21, #T_a4062_row24_col22, #T_a4062_row24_col23 {\n",
       "  background-color: #fff7fb;\n",
       "  color: #000000;\n",
       "}\n",
       "#T_a4062_row1_col5 {\n",
       "  background-color: #8bb2d4;\n",
       "  color: #000000;\n",
       "}\n",
       "#T_a4062_row1_col12, #T_a4062_row1_col16, #T_a4062_row3_col15, #T_a4062_row4_col21, #T_a4062_row4_col22, #T_a4062_row19_col2 {\n",
       "  background-color: #f1ebf5;\n",
       "  color: #000000;\n",
       "}\n",
       "#T_a4062_row1_col13, #T_a4062_row6_col22, #T_a4062_row18_col2, #T_a4062_row19_col0 {\n",
       "  background-color: #f3edf5;\n",
       "  color: #000000;\n",
       "}\n",
       "#T_a4062_row1_col14, #T_a4062_row3_col19, #T_a4062_row3_col20, #T_a4062_row4_col3, #T_a4062_row4_col23, #T_a4062_row6_col21 {\n",
       "  background-color: #f2ecf5;\n",
       "  color: #000000;\n",
       "}\n",
       "#T_a4062_row1_col15, #T_a4062_row21_col2, #T_a4062_row22_col2 {\n",
       "  background-color: #f1ebf4;\n",
       "  color: #000000;\n",
       "}\n",
       "#T_a4062_row1_col18, #T_a4062_row1_col22, #T_a4062_row19_col11, #T_a4062_row24_col9 {\n",
       "  background-color: #a8bedc;\n",
       "  color: #000000;\n",
       "}\n",
       "#T_a4062_row1_col19 {\n",
       "  background-color: #a5bddb;\n",
       "  color: #000000;\n",
       "}\n",
       "#T_a4062_row1_col20, #T_a4062_row3_col8 {\n",
       "  background-color: #a7bddb;\n",
       "  color: #000000;\n",
       "}\n",
       "#T_a4062_row1_col21, #T_a4062_row18_col10 {\n",
       "  background-color: #abbfdc;\n",
       "  color: #000000;\n",
       "}\n",
       "#T_a4062_row1_col23, #T_a4062_row6_col24 {\n",
       "  background-color: #a1bbda;\n",
       "  color: #000000;\n",
       "}\n",
       "#T_a4062_row2_col3 {\n",
       "  background-color: #d6d6e9;\n",
       "  color: #000000;\n",
       "}\n",
       "#T_a4062_row2_col4, #T_a4062_row9_col24, #T_a4062_row10_col18, #T_a4062_row11_col18, #T_a4062_row12_col3, #T_a4062_row20_col9 {\n",
       "  background-color: #c2cbe2;\n",
       "  color: #000000;\n",
       "}\n",
       "#T_a4062_row2_col5 {\n",
       "  background-color: #d0d1e6;\n",
       "  color: #000000;\n",
       "}\n",
       "#T_a4062_row2_col6, #T_a4062_row2_col9, #T_a4062_row5_col8, #T_a4062_row8_col23 {\n",
       "  background-color: #dedcec;\n",
       "  color: #000000;\n",
       "}\n",
       "#T_a4062_row2_col8, #T_a4062_row5_col7, #T_a4062_row7_col20, #T_a4062_row7_col21 {\n",
       "  background-color: #dcdaeb;\n",
       "  color: #000000;\n",
       "}\n",
       "#T_a4062_row2_col11, #T_a4062_row5_col9, #T_a4062_row7_col23, #T_a4062_row19_col6, #T_a4062_row20_col3, #T_a4062_row21_col3 {\n",
       "  background-color: #e0deed;\n",
       "  color: #000000;\n",
       "}\n",
       "#T_a4062_row2_col18, #T_a4062_row15_col24, #T_a4062_row24_col1 {\n",
       "  background-color: #eae6f1;\n",
       "  color: #000000;\n",
       "}\n",
       "#T_a4062_row2_col20, #T_a4062_row5_col22, #T_a4062_row5_col23, #T_a4062_row17_col24 {\n",
       "  background-color: #e8e4f0;\n",
       "  color: #000000;\n",
       "}\n",
       "#T_a4062_row2_col21 {\n",
       "  background-color: #ede7f2;\n",
       "  color: #000000;\n",
       "}\n",
       "#T_a4062_row2_col22, #T_a4062_row4_col24, #T_a4062_row12_col24, #T_a4062_row23_col2 {\n",
       "  background-color: #ede8f3;\n",
       "  color: #000000;\n",
       "}\n",
       "#T_a4062_row3_col0, #T_a4062_row6_col23, #T_a4062_row15_col2, #T_a4062_row23_col0 {\n",
       "  background-color: #f5eff6;\n",
       "  color: #000000;\n",
       "}\n",
       "#T_a4062_row3_col5, #T_a4062_row19_col9, #T_a4062_row20_col10 {\n",
       "  background-color: #93b5d6;\n",
       "  color: #000000;\n",
       "}\n",
       "#T_a4062_row3_col6, #T_a4062_row5_col3, #T_a4062_row7_col4, #T_a4062_row20_col5, #T_a4062_row21_col8 {\n",
       "  background-color: #b3c3de;\n",
       "  color: #000000;\n",
       "}\n",
       "#T_a4062_row3_col7 {\n",
       "  background-color: #a2bcda;\n",
       "  color: #000000;\n",
       "}\n",
       "#T_a4062_row3_col9, #T_a4062_row10_col20, #T_a4062_row23_col10 {\n",
       "  background-color: #adc1dd;\n",
       "  color: #000000;\n",
       "}\n",
       "#T_a4062_row3_col10, #T_a4062_row6_col4, #T_a4062_row11_col20, #T_a4062_row22_col7 {\n",
       "  background-color: #b5c4df;\n",
       "  color: #000000;\n",
       "}\n",
       "#T_a4062_row3_col11, #T_a4062_row8_col24, #T_a4062_row15_col1, #T_a4062_row18_col4 {\n",
       "  background-color: #bcc7e1;\n",
       "  color: #000000;\n",
       "}\n",
       "#T_a4062_row3_col14 {\n",
       "  background-color: #efe9f3;\n",
       "  color: #000000;\n",
       "}\n",
       "#T_a4062_row3_col16, #T_a4062_row6_col19, #T_a4062_row17_col2 {\n",
       "  background-color: #f4edf6;\n",
       "  color: #000000;\n",
       "}\n",
       "#T_a4062_row3_col17 {\n",
       "  background-color: #f5eef6;\n",
       "  color: #000000;\n",
       "}\n",
       "#T_a4062_row3_col21, #T_a4062_row6_col20, #T_a4062_row16_col2 {\n",
       "  background-color: #f4eef6;\n",
       "  color: #000000;\n",
       "}\n",
       "#T_a4062_row3_col22, #T_a4062_row11_col1, #T_a4062_row14_col2, #T_a4062_row15_col0 {\n",
       "  background-color: #f6eff7;\n",
       "  color: #000000;\n",
       "}\n",
       "#T_a4062_row4_col1, #T_a4062_row5_col19, #T_a4062_row8_col19, #T_a4062_row23_col3 {\n",
       "  background-color: #e2dfee;\n",
       "  color: #000000;\n",
       "}\n",
       "#T_a4062_row4_col7, #T_a4062_row4_col8, #T_a4062_row10_col24, #T_a4062_row14_col3, #T_a4062_row19_col8 {\n",
       "  background-color: #c6cce3;\n",
       "  color: #000000;\n",
       "}\n",
       "#T_a4062_row4_col9, #T_a4062_row11_col5, #T_a4062_row11_col24, #T_a4062_row15_col3 {\n",
       "  background-color: #cacee5;\n",
       "  color: #000000;\n",
       "}\n",
       "#T_a4062_row4_col12, #T_a4062_row4_col13, #T_a4062_row13_col0, #T_a4062_row18_col0, #T_a4062_row22_col24, #T_a4062_row23_col24 {\n",
       "  background-color: #f9f2f8;\n",
       "  color: #000000;\n",
       "}\n",
       "#T_a4062_row4_col14, #T_a4062_row7_col0, #T_a4062_row9_col0, #T_a4062_row9_col1, #T_a4062_row24_col13 {\n",
       "  background-color: #fbf4f9;\n",
       "  color: #000000;\n",
       "}\n",
       "#T_a4062_row4_col15, #T_a4062_row5_col15, #T_a4062_row8_col0, #T_a4062_row8_col2, #T_a4062_row11_col0, #T_a4062_row20_col24 {\n",
       "  background-color: #fcf4fa;\n",
       "  color: #000000;\n",
       "}\n",
       "#T_a4062_row4_col16, #T_a4062_row8_col1, #T_a4062_row19_col24, #T_a4062_row24_col16, #T_a4062_row24_col17 {\n",
       "  background-color: #fef6fa;\n",
       "  color: #000000;\n",
       "}\n",
       "#T_a4062_row4_col17, #T_a4062_row6_col0, #T_a4062_row18_col24 {\n",
       "  background-color: #fef6fb;\n",
       "  color: #000000;\n",
       "}\n",
       "#T_a4062_row4_col20 {\n",
       "  background-color: #eee9f3;\n",
       "  color: #000000;\n",
       "}\n",
       "#T_a4062_row5_col1, #T_a4062_row19_col10 {\n",
       "  background-color: #9fbad9;\n",
       "  color: #000000;\n",
       "}\n",
       "#T_a4062_row5_col6, #T_a4062_row9_col20, #T_a4062_row20_col6 {\n",
       "  background-color: #dfddec;\n",
       "  color: #000000;\n",
       "}\n",
       "#T_a4062_row5_col10 {\n",
       "  background-color: #e5e1ef;\n",
       "  color: #000000;\n",
       "}\n",
       "#T_a4062_row5_col11, #T_a4062_row7_col18, #T_a4062_row18_col6 {\n",
       "  background-color: #e6e2ef;\n",
       "  color: #000000;\n",
       "}\n",
       "#T_a4062_row5_col14, #T_a4062_row6_col1, #T_a4062_row6_col2, #T_a4062_row21_col24 {\n",
       "  background-color: #faf3f9;\n",
       "  color: #000000;\n",
       "}\n",
       "#T_a4062_row5_col16, #T_a4062_row5_col17, #T_a4062_row7_col2, #T_a4062_row10_col0, #T_a4062_row24_col0, #T_a4062_row24_col12, #T_a4062_row24_col14, #T_a4062_row24_col15 {\n",
       "  background-color: #fdf5fa;\n",
       "  color: #000000;\n",
       "}\n",
       "#T_a4062_row5_col18 {\n",
       "  background-color: #e3e0ee;\n",
       "  color: #000000;\n",
       "}\n",
       "#T_a4062_row6_col3, #T_a4062_row10_col3, #T_a4062_row12_col5, #T_a4062_row13_col5, #T_a4062_row14_col5, #T_a4062_row17_col1, #T_a4062_row22_col11, #T_a4062_row23_col8, #T_a4062_row24_col5, #T_a4062_row24_col11 {\n",
       "  background-color: #b8c6e0;\n",
       "  color: #000000;\n",
       "}\n",
       "#T_a4062_row6_col7 {\n",
       "  background-color: #1077b4;\n",
       "  color: #f1f1f1;\n",
       "}\n",
       "#T_a4062_row6_col8, #T_a4062_row16_col9 {\n",
       "  background-color: #2786bb;\n",
       "  color: #f1f1f1;\n",
       "}\n",
       "#T_a4062_row6_col9, #T_a4062_row9_col14, #T_a4062_row11_col17, #T_a4062_row16_col8 {\n",
       "  background-color: #348ebf;\n",
       "  color: #f1f1f1;\n",
       "}\n",
       "#T_a4062_row6_col10, #T_a4062_row9_col15, #T_a4062_row10_col14, #T_a4062_row22_col23, #T_a4062_row23_col22 {\n",
       "  background-color: #4295c3;\n",
       "  color: #f1f1f1;\n",
       "}\n",
       "#T_a4062_row6_col11, #T_a4062_row7_col13, #T_a4062_row8_col14, #T_a4062_row11_col14, #T_a4062_row12_col18, #T_a4062_row19_col21, #T_a4062_row20_col21 {\n",
       "  background-color: #509ac6;\n",
       "  color: #f1f1f1;\n",
       "}\n",
       "#T_a4062_row6_col12, #T_a4062_row10_col4, #T_a4062_row19_col5, #T_a4062_row21_col5, #T_a4062_row21_col9, #T_a4062_row22_col8, #T_a4062_row24_col10 {\n",
       "  background-color: #b0c2de;\n",
       "  color: #000000;\n",
       "}\n",
       "#T_a4062_row6_col13, #T_a4062_row22_col9 {\n",
       "  background-color: #acc0dd;\n",
       "  color: #000000;\n",
       "}\n",
       "#T_a4062_row6_col15, #T_a4062_row13_col4, #T_a4062_row15_col5, #T_a4062_row16_col5, #T_a4062_row17_col5, #T_a4062_row19_col7, #T_a4062_row20_col7 {\n",
       "  background-color: #b9c6e0;\n",
       "  color: #000000;\n",
       "}\n",
       "#T_a4062_row6_col16, #T_a4062_row11_col19, #T_a4062_row20_col4 {\n",
       "  background-color: #bdc8e1;\n",
       "  color: #000000;\n",
       "}\n",
       "#T_a4062_row6_col17, #T_a4062_row12_col1 {\n",
       "  background-color: #c1cae2;\n",
       "  color: #000000;\n",
       "}\n",
       "#T_a4062_row7_col3, #T_a4062_row9_col19, #T_a4062_row18_col11 {\n",
       "  background-color: #afc1dd;\n",
       "  color: #000000;\n",
       "}\n",
       "#T_a4062_row7_col5, #T_a4062_row8_col5, #T_a4062_row9_col5, #T_a4062_row10_col5, #T_a4062_row16_col3 {\n",
       "  background-color: #cccfe5;\n",
       "  color: #000000;\n",
       "}\n",
       "#T_a4062_row7_col6 {\n",
       "  background-color: #1379b5;\n",
       "  color: #f1f1f1;\n",
       "}\n",
       "#T_a4062_row7_col8, #T_a4062_row8_col7, #T_a4062_row9_col8, #T_a4062_row13_col15, #T_a4062_row15_col13, #T_a4062_row16_col14 {\n",
       "  background-color: #045e93;\n",
       "  color: #f1f1f1;\n",
       "}\n",
       "#T_a4062_row7_col9 {\n",
       "  background-color: #056aa6;\n",
       "  color: #f1f1f1;\n",
       "}\n",
       "#T_a4062_row7_col10 {\n",
       "  background-color: #0570b0;\n",
       "  color: #f1f1f1;\n",
       "}\n",
       "#T_a4062_row7_col11, #T_a4062_row14_col9 {\n",
       "  background-color: #157ab5;\n",
       "  color: #f1f1f1;\n",
       "}\n",
       "#T_a4062_row7_col12, #T_a4062_row12_col11 {\n",
       "  background-color: #4697c4;\n",
       "  color: #f1f1f1;\n",
       "}\n",
       "#T_a4062_row7_col14, #T_a4062_row9_col12, #T_a4062_row9_col17, #T_a4062_row13_col20, #T_a4062_row14_col22, #T_a4062_row15_col23, #T_a4062_row17_col18, #T_a4062_row22_col16, #T_a4062_row23_col17 {\n",
       "  background-color: #63a2cb;\n",
       "  color: #f1f1f1;\n",
       "}\n",
       "#T_a4062_row7_col15, #T_a4062_row13_col22 {\n",
       "  background-color: #71a8ce;\n",
       "  color: #f1f1f1;\n",
       "}\n",
       "#T_a4062_row7_col16 {\n",
       "  background-color: #7bacd1;\n",
       "  color: #f1f1f1;\n",
       "}\n",
       "#T_a4062_row7_col17, #T_a4062_row15_col6, #T_a4062_row18_col17, #T_a4062_row19_col1, #T_a4062_row21_col12 {\n",
       "  background-color: #83afd3;\n",
       "  color: #f1f1f1;\n",
       "}\n",
       "#T_a4062_row7_col22, #T_a4062_row23_col6 {\n",
       "  background-color: #dddbec;\n",
       "  color: #000000;\n",
       "}\n",
       "#T_a4062_row7_col24, #T_a4062_row8_col18, #T_a4062_row10_col19, #T_a4062_row20_col8, #T_a4062_row21_col7 {\n",
       "  background-color: #b7c5df;\n",
       "  color: #000000;\n",
       "}\n",
       "#T_a4062_row8_col3, #T_a4062_row8_col4, #T_a4062_row9_col4, #T_a4062_row11_col4, #T_a4062_row18_col5, #T_a4062_row22_col5, #T_a4062_row23_col5, #T_a4062_row23_col9 {\n",
       "  background-color: #b1c2de;\n",
       "  color: #000000;\n",
       "}\n",
       "#T_a4062_row8_col6, #T_a4062_row14_col11, #T_a4062_row18_col13 {\n",
       "  background-color: #2c89bd;\n",
       "  color: #f1f1f1;\n",
       "}\n",
       "#T_a4062_row8_col9, #T_a4062_row14_col16, #T_a4062_row17_col15 {\n",
       "  background-color: #045e94;\n",
       "  color: #f1f1f1;\n",
       "}\n",
       "#T_a4062_row8_col10 {\n",
       "  background-color: #056ba7;\n",
       "  color: #f1f1f1;\n",
       "}\n",
       "#T_a4062_row8_col11, #T_a4062_row17_col12 {\n",
       "  background-color: #0872b1;\n",
       "  color: #f1f1f1;\n",
       "}\n",
       "#T_a4062_row8_col12, #T_a4062_row14_col21, #T_a4062_row19_col23 {\n",
       "  background-color: #5ea0ca;\n",
       "  color: #f1f1f1;\n",
       "}\n",
       "#T_a4062_row8_col13, #T_a4062_row16_col20 {\n",
       "  background-color: #3f93c2;\n",
       "  color: #f1f1f1;\n",
       "}\n",
       "#T_a4062_row8_col15, #T_a4062_row11_col13, #T_a4062_row12_col19, #T_a4062_row18_col21, #T_a4062_row22_col18 {\n",
       "  background-color: #60a1ca;\n",
       "  color: #f1f1f1;\n",
       "}\n",
       "#T_a4062_row8_col16, #T_a4062_row12_col20, #T_a4062_row14_col23, #T_a4062_row19_col13, #T_a4062_row23_col16 {\n",
       "  background-color: #6da6cd;\n",
       "  color: #f1f1f1;\n",
       "}\n",
       "#T_a4062_row8_col17, #T_a4062_row19_col17, #T_a4062_row20_col13, #T_a4062_row22_col14, #T_a4062_row23_col1, #T_a4062_row23_col15 {\n",
       "  background-color: #78abd0;\n",
       "  color: #f1f1f1;\n",
       "}\n",
       "#T_a4062_row8_col21 {\n",
       "  background-color: #d8d7e9;\n",
       "  color: #000000;\n",
       "}\n",
       "#T_a4062_row8_col22 {\n",
       "  background-color: #d7d6e9;\n",
       "  color: #000000;\n",
       "}\n",
       "#T_a4062_row9_col6, #T_a4062_row12_col9, #T_a4062_row15_col7 {\n",
       "  background-color: #358fc0;\n",
       "  color: #f1f1f1;\n",
       "}\n",
       "#T_a4062_row9_col7, #T_a4062_row9_col11, #T_a4062_row10_col8 {\n",
       "  background-color: #0569a5;\n",
       "  color: #f1f1f1;\n",
       "}\n",
       "#T_a4062_row9_col10, #T_a4062_row12_col14 {\n",
       "  background-color: #045c90;\n",
       "  color: #f1f1f1;\n",
       "}\n",
       "#T_a4062_row9_col13, #T_a4062_row10_col17, #T_a4062_row16_col19, #T_a4062_row17_col20, #T_a4062_row17_col23, #T_a4062_row19_col18, #T_a4062_row19_col20 {\n",
       "  background-color: #4c99c5;\n",
       "  color: #f1f1f1;\n",
       "}\n",
       "#T_a4062_row9_col16, #T_a4062_row15_col21, #T_a4062_row18_col14, #T_a4062_row19_col15, #T_a4062_row23_col20 {\n",
       "  background-color: #549cc7;\n",
       "  color: #f1f1f1;\n",
       "}\n",
       "#T_a4062_row9_col21 {\n",
       "  background-color: #d2d3e7;\n",
       "  color: #000000;\n",
       "}\n",
       "#T_a4062_row9_col22, #T_a4062_row24_col3 {\n",
       "  background-color: #d1d2e6;\n",
       "  color: #000000;\n",
       "}\n",
       "#T_a4062_row9_col23 {\n",
       "  background-color: #d4d4e8;\n",
       "  color: #000000;\n",
       "}\n",
       "#T_a4062_row10_col2, #T_a4062_row12_col0, #T_a4062_row22_col0 {\n",
       "  background-color: #faf2f8;\n",
       "  color: #000000;\n",
       "}\n",
       "#T_a4062_row10_col6 {\n",
       "  background-color: #4094c3;\n",
       "  color: #f1f1f1;\n",
       "}\n",
       "#T_a4062_row10_col7 {\n",
       "  background-color: #056ead;\n",
       "  color: #f1f1f1;\n",
       "}\n",
       "#T_a4062_row10_col9, #T_a4062_row14_col12 {\n",
       "  background-color: #045b8f;\n",
       "  color: #f1f1f1;\n",
       "}\n",
       "#T_a4062_row10_col11, #T_a4062_row11_col10 {\n",
       "  background-color: #045d92;\n",
       "  color: #f1f1f1;\n",
       "}\n",
       "#T_a4062_row10_col12, #T_a4062_row19_col16, #T_a4062_row21_col15 {\n",
       "  background-color: #69a5cc;\n",
       "  color: #f1f1f1;\n",
       "}\n",
       "#T_a4062_row10_col13, #T_a4062_row14_col20, #T_a4062_row16_col18, #T_a4062_row20_col16, #T_a4062_row20_col23, #T_a4062_row21_col18 {\n",
       "  background-color: #589ec8;\n",
       "  color: #f1f1f1;\n",
       "}\n",
       "#T_a4062_row10_col15, #T_a4062_row21_col16 {\n",
       "  background-color: #2a88bc;\n",
       "  color: #f1f1f1;\n",
       "}\n",
       "#T_a4062_row10_col16, #T_a4062_row13_col11 {\n",
       "  background-color: #3790c0;\n",
       "  color: #f1f1f1;\n",
       "}\n",
       "#T_a4062_row10_col22, #T_a4062_row18_col7 {\n",
       "  background-color: #c9cee4;\n",
       "  color: #000000;\n",
       "}\n",
       "#T_a4062_row10_col23, #T_a4062_row17_col3 {\n",
       "  background-color: #cdd0e5;\n",
       "  color: #000000;\n",
       "}\n",
       "#T_a4062_row11_col3, #T_a4062_row12_col4, #T_a4062_row14_col4, #T_a4062_row15_col4, #T_a4062_row16_col1, #T_a4062_row16_col4, #T_a4062_row17_col4, #T_a4062_row23_col7 {\n",
       "  background-color: #bbc7e0;\n",
       "  color: #000000;\n",
       "}\n",
       "#T_a4062_row11_col6, #T_a4062_row15_col18, #T_a4062_row18_col20, #T_a4062_row20_col19, #T_a4062_row21_col19 {\n",
       "  background-color: #4a98c5;\n",
       "  color: #f1f1f1;\n",
       "}\n",
       "#T_a4062_row11_col7 {\n",
       "  background-color: #0d75b3;\n",
       "  color: #f1f1f1;\n",
       "}\n",
       "#T_a4062_row11_col8 {\n",
       "  background-color: #056faf;\n",
       "  color: #f1f1f1;\n",
       "}\n",
       "#T_a4062_row11_col9 {\n",
       "  background-color: #0568a3;\n",
       "  color: #f1f1f1;\n",
       "}\n",
       "#T_a4062_row11_col12, #T_a4062_row18_col23, #T_a4062_row20_col14 {\n",
       "  background-color: #6fa7ce;\n",
       "  color: #f1f1f1;\n",
       "}\n",
       "#T_a4062_row11_col15, #T_a4062_row12_col10, #T_a4062_row14_col18, #T_a4062_row16_col7, #T_a4062_row17_col8 {\n",
       "  background-color: #3d93c2;\n",
       "  color: #f1f1f1;\n",
       "}\n",
       "#T_a4062_row11_col16, #T_a4062_row22_col17 {\n",
       "  background-color: #2383ba;\n",
       "  color: #f1f1f1;\n",
       "}\n",
       "#T_a4062_row11_col21, #T_a4062_row22_col10, #T_a4062_row23_col11 {\n",
       "  background-color: #a9bfdc;\n",
       "  color: #000000;\n",
       "}\n",
       "#T_a4062_row11_col23 {\n",
       "  background-color: #c5cce3;\n",
       "  color: #000000;\n",
       "}\n",
       "#T_a4062_row12_col6, #T_a4062_row12_col23, #T_a4062_row14_col6, #T_a4062_row23_col14 {\n",
       "  background-color: #80aed2;\n",
       "  color: #f1f1f1;\n",
       "}\n",
       "#T_a4062_row12_col7, #T_a4062_row15_col20 {\n",
       "  background-color: #2081b9;\n",
       "  color: #f1f1f1;\n",
       "}\n",
       "#T_a4062_row12_col8, #T_a4062_row15_col8, #T_a4062_row19_col14, #T_a4062_row20_col15 {\n",
       "  background-color: #2d8abd;\n",
       "  color: #f1f1f1;\n",
       "}\n",
       "#T_a4062_row12_col13, #T_a4062_row13_col12 {\n",
       "  background-color: #034e7b;\n",
       "  color: #f1f1f1;\n",
       "}\n",
       "#T_a4062_row12_col15, #T_a4062_row16_col13 {\n",
       "  background-color: #05659f;\n",
       "  color: #f1f1f1;\n",
       "}\n",
       "#T_a4062_row12_col16 {\n",
       "  background-color: #056dab;\n",
       "  color: #f1f1f1;\n",
       "}\n",
       "#T_a4062_row12_col17 {\n",
       "  background-color: #0c74b2;\n",
       "  color: #f1f1f1;\n",
       "}\n",
       "#T_a4062_row12_col21, #T_a4062_row21_col14 {\n",
       "  background-color: #73a9cf;\n",
       "  color: #f1f1f1;\n",
       "}\n",
       "#T_a4062_row12_col22, #T_a4062_row13_col6, #T_a4062_row13_col23 {\n",
       "  background-color: #79abd0;\n",
       "  color: #f1f1f1;\n",
       "}\n",
       "#T_a4062_row13_col1, #T_a4062_row13_col3 {\n",
       "  background-color: #c4cbe3;\n",
       "  color: #000000;\n",
       "}\n",
       "#T_a4062_row13_col7, #T_a4062_row14_col8, #T_a4062_row17_col10 {\n",
       "  background-color: #2484ba;\n",
       "  color: #f1f1f1;\n",
       "}\n",
       "#T_a4062_row13_col8 {\n",
       "  background-color: #1b7eb7;\n",
       "  color: #f1f1f1;\n",
       "}\n",
       "#T_a4062_row13_col9 {\n",
       "  background-color: #2685bb;\n",
       "  color: #f1f1f1;\n",
       "}\n",
       "#T_a4062_row13_col10, #T_a4062_row14_col7 {\n",
       "  background-color: #2f8bbe;\n",
       "  color: #f1f1f1;\n",
       "}\n",
       "#T_a4062_row13_col14, #T_a4062_row15_col14 {\n",
       "  background-color: #03517e;\n",
       "  color: #f1f1f1;\n",
       "}\n",
       "#T_a4062_row13_col16, #T_a4062_row14_col17 {\n",
       "  background-color: #0567a1;\n",
       "  color: #f1f1f1;\n",
       "}\n",
       "#T_a4062_row13_col17 {\n",
       "  background-color: #056dac;\n",
       "  color: #f1f1f1;\n",
       "}\n",
       "#T_a4062_row13_col18, #T_a4062_row14_col19, #T_a4062_row15_col11 {\n",
       "  background-color: #1e80b8;\n",
       "  color: #f1f1f1;\n",
       "}\n",
       "#T_a4062_row13_col19, #T_a4062_row15_col22, #T_a4062_row16_col23, #T_a4062_row22_col19, #T_a4062_row23_col19 {\n",
       "  background-color: #569dc8;\n",
       "  color: #f1f1f1;\n",
       "}\n",
       "#T_a4062_row13_col21, #T_a4062_row22_col15 {\n",
       "  background-color: #6ba5cd;\n",
       "  color: #f1f1f1;\n",
       "}\n",
       "#T_a4062_row14_col1, #T_a4062_row19_col4, #T_a4062_row21_col4, #T_a4062_row21_col10, #T_a4062_row22_col4, #T_a4062_row23_col4 {\n",
       "  background-color: #bfc9e1;\n",
       "  color: #000000;\n",
       "}\n",
       "#T_a4062_row14_col10 {\n",
       "  background-color: #2182b9;\n",
       "  color: #f1f1f1;\n",
       "}\n",
       "#T_a4062_row14_col13 {\n",
       "  background-color: #034f7d;\n",
       "  color: #f1f1f1;\n",
       "}\n",
       "#T_a4062_row14_col15, #T_a4062_row15_col16, #T_a4062_row16_col15 {\n",
       "  background-color: #045280;\n",
       "  color: #f1f1f1;\n",
       "}\n",
       "#T_a4062_row15_col9, #T_a4062_row16_col21 {\n",
       "  background-color: #1c7fb8;\n",
       "  color: #f1f1f1;\n",
       "}\n",
       "#T_a4062_row15_col10 {\n",
       "  background-color: #0f76b3;\n",
       "  color: #f1f1f1;\n",
       "}\n",
       "#T_a4062_row15_col12 {\n",
       "  background-color: #04649e;\n",
       "  color: #f1f1f1;\n",
       "}\n",
       "#T_a4062_row15_col17 {\n",
       "  background-color: #045f95;\n",
       "  color: #f1f1f1;\n",
       "}\n",
       "#T_a4062_row15_col19 {\n",
       "  background-color: #3b92c1;\n",
       "  color: #f1f1f1;\n",
       "}\n",
       "#T_a4062_row16_col6 {\n",
       "  background-color: #84b0d3;\n",
       "  color: #f1f1f1;\n",
       "}\n",
       "#T_a4062_row16_col10 {\n",
       "  background-color: #187cb6;\n",
       "  color: #f1f1f1;\n",
       "}\n",
       "#T_a4062_row16_col11 {\n",
       "  background-color: #0a73b2;\n",
       "  color: #f1f1f1;\n",
       "}\n",
       "#T_a4062_row16_col12 {\n",
       "  background-color: #056ba9;\n",
       "  color: #f1f1f1;\n",
       "}\n",
       "#T_a4062_row16_col17, #T_a4062_row17_col16 {\n",
       "  background-color: #045382;\n",
       "  color: #f1f1f1;\n",
       "}\n",
       "#T_a4062_row16_col22, #T_a4062_row18_col19, #T_a4062_row21_col17, #T_a4062_row21_col20 {\n",
       "  background-color: #4e9ac6;\n",
       "  color: #f1f1f1;\n",
       "}\n",
       "#T_a4062_row17_col6, #T_a4062_row24_col6 {\n",
       "  background-color: #88b1d4;\n",
       "  color: #000000;\n",
       "}\n",
       "#T_a4062_row17_col7, #T_a4062_row21_col23, #T_a4062_row22_col20, #T_a4062_row23_col21 {\n",
       "  background-color: #4496c3;\n",
       "  color: #f1f1f1;\n",
       "}\n",
       "#T_a4062_row17_col9 {\n",
       "  background-color: #308cbe;\n",
       "  color: #f1f1f1;\n",
       "}\n",
       "#T_a4062_row17_col11, #T_a4062_row17_col22 {\n",
       "  background-color: #167bb6;\n",
       "  color: #f1f1f1;\n",
       "}\n",
       "#T_a4062_row17_col13 {\n",
       "  background-color: #056caa;\n",
       "  color: #f1f1f1;\n",
       "}\n",
       "#T_a4062_row17_col14 {\n",
       "  background-color: #0566a0;\n",
       "  color: #f1f1f1;\n",
       "}\n",
       "#T_a4062_row17_col19 {\n",
       "  background-color: #5a9ec9;\n",
       "  color: #f1f1f1;\n",
       "}\n",
       "#T_a4062_row17_col21 {\n",
       "  background-color: #3991c1;\n",
       "  color: #f1f1f1;\n",
       "}\n",
       "#T_a4062_row18_col1 {\n",
       "  background-color: #86b0d3;\n",
       "  color: #000000;\n",
       "}\n",
       "#T_a4062_row18_col8 {\n",
       "  background-color: #97b7d7;\n",
       "  color: #000000;\n",
       "}\n",
       "#T_a4062_row18_col9 {\n",
       "  background-color: #a4bcda;\n",
       "  color: #000000;\n",
       "}\n",
       "#T_a4062_row18_col12, #T_a4062_row18_col22, #T_a4062_row20_col17 {\n",
       "  background-color: #67a4cc;\n",
       "  color: #f1f1f1;\n",
       "}\n",
       "#T_a4062_row18_col15, #T_a4062_row23_col18 {\n",
       "  background-color: #65a3cb;\n",
       "  color: #f1f1f1;\n",
       "}\n",
       "#T_a4062_row18_col16, #T_a4062_row19_col12 {\n",
       "  background-color: #76aad0;\n",
       "  color: #f1f1f1;\n",
       "}\n",
       "#T_a4062_row19_col3, #T_a4062_row22_col3 {\n",
       "  background-color: #e1dfed;\n",
       "  color: #000000;\n",
       "}\n",
       "#T_a4062_row19_col22 {\n",
       "  background-color: #5c9fc9;\n",
       "  color: #f1f1f1;\n",
       "}\n",
       "#T_a4062_row20_col1, #T_a4062_row20_col12, #T_a4062_row21_col1, #T_a4062_row22_col13 {\n",
       "  background-color: #81aed2;\n",
       "  color: #f1f1f1;\n",
       "}\n",
       "#T_a4062_row20_col11, #T_a4062_row24_col8 {\n",
       "  background-color: #9ebad9;\n",
       "  color: #000000;\n",
       "}\n",
       "#T_a4062_row20_col18, #T_a4062_row20_col22, #T_a4062_row21_col22, #T_a4062_row22_col21 {\n",
       "  background-color: #4897c4;\n",
       "  color: #f1f1f1;\n",
       "}\n",
       "#T_a4062_row21_col11 {\n",
       "  background-color: #8eb3d5;\n",
       "  color: #000000;\n",
       "}\n",
       "#T_a4062_row21_col13 {\n",
       "  background-color: #7dacd1;\n",
       "  color: #f1f1f1;\n",
       "}\n",
       "#T_a4062_row22_col1 {\n",
       "  background-color: #7eadd1;\n",
       "  color: #f1f1f1;\n",
       "}\n",
       "#T_a4062_row22_col12, #T_a4062_row23_col13 {\n",
       "  background-color: #89b1d4;\n",
       "  color: #000000;\n",
       "}\n",
       "#T_a4062_row23_col12 {\n",
       "  background-color: #8fb4d6;\n",
       "  color: #000000;\n",
       "}\n",
       "#T_a4062_row24_col7 {\n",
       "  background-color: #96b6d7;\n",
       "  color: #000000;\n",
       "}\n",
       "</style>\n",
       "<table id=\"T_a4062\">\n",
       "  <thead>\n",
       "    <tr>\n",
       "      <th class=\"blank level0\" >&nbsp;</th>\n",
       "      <th id=\"T_a4062_level0_col0\" class=\"col_heading level0 col0\" >id</th>\n",
       "      <th id=\"T_a4062_level0_col1\" class=\"col_heading level0 col1\" >limit_bal</th>\n",
       "      <th id=\"T_a4062_level0_col2\" class=\"col_heading level0 col2\" >sex</th>\n",
       "      <th id=\"T_a4062_level0_col3\" class=\"col_heading level0 col3\" >education</th>\n",
       "      <th id=\"T_a4062_level0_col4\" class=\"col_heading level0 col4\" >marriage</th>\n",
       "      <th id=\"T_a4062_level0_col5\" class=\"col_heading level0 col5\" >age</th>\n",
       "      <th id=\"T_a4062_level0_col6\" class=\"col_heading level0 col6\" >pay_0</th>\n",
       "      <th id=\"T_a4062_level0_col7\" class=\"col_heading level0 col7\" >pay_2</th>\n",
       "      <th id=\"T_a4062_level0_col8\" class=\"col_heading level0 col8\" >pay_3</th>\n",
       "      <th id=\"T_a4062_level0_col9\" class=\"col_heading level0 col9\" >pay_4</th>\n",
       "      <th id=\"T_a4062_level0_col10\" class=\"col_heading level0 col10\" >pay_5</th>\n",
       "      <th id=\"T_a4062_level0_col11\" class=\"col_heading level0 col11\" >pay_6</th>\n",
       "      <th id=\"T_a4062_level0_col12\" class=\"col_heading level0 col12\" >bill_amt1</th>\n",
       "      <th id=\"T_a4062_level0_col13\" class=\"col_heading level0 col13\" >bill_amt2</th>\n",
       "      <th id=\"T_a4062_level0_col14\" class=\"col_heading level0 col14\" >bill_amt3</th>\n",
       "      <th id=\"T_a4062_level0_col15\" class=\"col_heading level0 col15\" >bill_amt4</th>\n",
       "      <th id=\"T_a4062_level0_col16\" class=\"col_heading level0 col16\" >bill_amt5</th>\n",
       "      <th id=\"T_a4062_level0_col17\" class=\"col_heading level0 col17\" >bill_amt6</th>\n",
       "      <th id=\"T_a4062_level0_col18\" class=\"col_heading level0 col18\" >pay_amt1</th>\n",
       "      <th id=\"T_a4062_level0_col19\" class=\"col_heading level0 col19\" >pay_amt2</th>\n",
       "      <th id=\"T_a4062_level0_col20\" class=\"col_heading level0 col20\" >pay_amt3</th>\n",
       "      <th id=\"T_a4062_level0_col21\" class=\"col_heading level0 col21\" >pay_amt4</th>\n",
       "      <th id=\"T_a4062_level0_col22\" class=\"col_heading level0 col22\" >pay_amt5</th>\n",
       "      <th id=\"T_a4062_level0_col23\" class=\"col_heading level0 col23\" >pay_amt6</th>\n",
       "      <th id=\"T_a4062_level0_col24\" class=\"col_heading level0 col24\" >target_default</th>\n",
       "    </tr>\n",
       "  </thead>\n",
       "  <tbody>\n",
       "    <tr>\n",
       "      <th id=\"T_a4062_level0_row0\" class=\"row_heading level0 row0\" >id</th>\n",
       "      <td id=\"T_a4062_row0_col0\" class=\"data row0 col0\" >1.000000</td>\n",
       "      <td id=\"T_a4062_row0_col1\" class=\"data row0 col1\" >0.028469</td>\n",
       "      <td id=\"T_a4062_row0_col2\" class=\"data row0 col2\" >0.021694</td>\n",
       "      <td id=\"T_a4062_row0_col3\" class=\"data row0 col3\" >0.039377</td>\n",
       "      <td id=\"T_a4062_row0_col4\" class=\"data row0 col4\" >-0.027409</td>\n",
       "      <td id=\"T_a4062_row0_col5\" class=\"data row0 col5\" >0.026562</td>\n",
       "      <td id=\"T_a4062_row0_col6\" class=\"data row0 col6\" >-0.020636</td>\n",
       "      <td id=\"T_a4062_row0_col7\" class=\"data row0 col7\" >-0.001546</td>\n",
       "      <td id=\"T_a4062_row0_col8\" class=\"data row0 col8\" >-0.006584</td>\n",
       "      <td id=\"T_a4062_row0_col9\" class=\"data row0 col9\" >-0.000507</td>\n",
       "      <td id=\"T_a4062_row0_col10\" class=\"data row0 col10\" >-0.014848</td>\n",
       "      <td id=\"T_a4062_row0_col11\" class=\"data row0 col11\" >-0.005927</td>\n",
       "      <td id=\"T_a4062_row0_col12\" class=\"data row0 col12\" >0.012719</td>\n",
       "      <td id=\"T_a4062_row0_col13\" class=\"data row0 col13\" >0.012799</td>\n",
       "      <td id=\"T_a4062_row0_col14\" class=\"data row0 col14\" >0.019714</td>\n",
       "      <td id=\"T_a4062_row0_col15\" class=\"data row0 col15\" >0.035414</td>\n",
       "      <td id=\"T_a4062_row0_col16\" class=\"data row0 col16\" >0.017515</td>\n",
       "      <td id=\"T_a4062_row0_col17\" class=\"data row0 col17\" >0.021229</td>\n",
       "      <td id=\"T_a4062_row0_col18\" class=\"data row0 col18\" >0.014044</td>\n",
       "      <td id=\"T_a4062_row0_col19\" class=\"data row0 col19\" >0.054245</td>\n",
       "      <td id=\"T_a4062_row0_col20\" class=\"data row0 col20\" >0.092890</td>\n",
       "      <td id=\"T_a4062_row0_col21\" class=\"data row0 col21\" >0.019025</td>\n",
       "      <td id=\"T_a4062_row0_col22\" class=\"data row0 col22\" >0.011364</td>\n",
       "      <td id=\"T_a4062_row0_col23\" class=\"data row0 col23\" >0.037639</td>\n",
       "      <td id=\"T_a4062_row0_col24\" class=\"data row0 col24\" >-0.013663</td>\n",
       "    </tr>\n",
       "    <tr>\n",
       "      <th id=\"T_a4062_level0_row1\" class=\"row_heading level0 row1\" >limit_bal</th>\n",
       "      <td id=\"T_a4062_row1_col0\" class=\"data row1 col0\" >0.028469</td>\n",
       "      <td id=\"T_a4062_row1_col1\" class=\"data row1 col1\" >1.000000</td>\n",
       "      <td id=\"T_a4062_row1_col2\" class=\"data row1 col2\" >0.060169</td>\n",
       "      <td id=\"T_a4062_row1_col3\" class=\"data row1 col3\" >-0.269342</td>\n",
       "      <td id=\"T_a4062_row1_col4\" class=\"data row1 col4\" >-0.115429</td>\n",
       "      <td id=\"T_a4062_row1_col5\" class=\"data row1 col5\" >0.185045</td>\n",
       "      <td id=\"T_a4062_row1_col6\" class=\"data row1 col6\" >-0.297013</td>\n",
       "      <td id=\"T_a4062_row1_col7\" class=\"data row1 col7\" >-0.343210</td>\n",
       "      <td id=\"T_a4062_row1_col8\" class=\"data row1 col8\" >-0.332020</td>\n",
       "      <td id=\"T_a4062_row1_col9\" class=\"data row1 col9\" >-0.308016</td>\n",
       "      <td id=\"T_a4062_row1_col10\" class=\"data row1 col10\" >-0.281681</td>\n",
       "      <td id=\"T_a4062_row1_col11\" class=\"data row1 col11\" >-0.261785</td>\n",
       "      <td id=\"T_a4062_row1_col12\" class=\"data row1 col12\" >0.052238</td>\n",
       "      <td id=\"T_a4062_row1_col13\" class=\"data row1 col13\" >0.044509</td>\n",
       "      <td id=\"T_a4062_row1_col14\" class=\"data row1 col14\" >0.061552</td>\n",
       "      <td id=\"T_a4062_row1_col15\" class=\"data row1 col15\" >0.075757</td>\n",
       "      <td id=\"T_a4062_row1_col16\" class=\"data row1 col16\" >0.081559</td>\n",
       "      <td id=\"T_a4062_row1_col17\" class=\"data row1 col17\" >0.090824</td>\n",
       "      <td id=\"T_a4062_row1_col18\" class=\"data row1 col18\" >0.270676</td>\n",
       "      <td id=\"T_a4062_row1_col19\" class=\"data row1 col19\" >0.280822</td>\n",
       "      <td id=\"T_a4062_row1_col20\" class=\"data row1 col20\" >0.286323</td>\n",
       "      <td id=\"T_a4062_row1_col21\" class=\"data row1 col21\" >0.283519</td>\n",
       "      <td id=\"T_a4062_row1_col22\" class=\"data row1 col22\" >0.294502</td>\n",
       "      <td id=\"T_a4062_row1_col23\" class=\"data row1 col23\" >0.316610</td>\n",
       "      <td id=\"T_a4062_row1_col24\" class=\"data row1 col24\" >-0.164635</td>\n",
       "    </tr>\n",
       "    <tr>\n",
       "      <th id=\"T_a4062_level0_row2\" class=\"row_heading level0 row2\" >sex</th>\n",
       "      <td id=\"T_a4062_row2_col0\" class=\"data row2 col0\" >0.021694</td>\n",
       "      <td id=\"T_a4062_row2_col1\" class=\"data row2 col1\" >0.060169</td>\n",
       "      <td id=\"T_a4062_row2_col2\" class=\"data row2 col2\" >1.000000</td>\n",
       "      <td id=\"T_a4062_row2_col3\" class=\"data row2 col3\" >0.016446</td>\n",
       "      <td id=\"T_a4062_row2_col4\" class=\"data row2 col4\" >-0.034660</td>\n",
       "      <td id=\"T_a4062_row2_col5\" class=\"data row2 col5\" >-0.091806</td>\n",
       "      <td id=\"T_a4062_row2_col6\" class=\"data row2 col6\" >-0.053721</td>\n",
       "      <td id=\"T_a4062_row2_col7\" class=\"data row2 col7\" >-0.072805</td>\n",
       "      <td id=\"T_a4062_row2_col8\" class=\"data row2 col8\" >-0.066877</td>\n",
       "      <td id=\"T_a4062_row2_col9\" class=\"data row2 col9\" >-0.059852</td>\n",
       "      <td id=\"T_a4062_row2_col10\" class=\"data row2 col10\" >-0.050116</td>\n",
       "      <td id=\"T_a4062_row2_col11\" class=\"data row2 col11\" >-0.038584</td>\n",
       "      <td id=\"T_a4062_row2_col12\" class=\"data row2 col12\" >-0.043248</td>\n",
       "      <td id=\"T_a4062_row2_col13\" class=\"data row2 col13\" >-0.040394</td>\n",
       "      <td id=\"T_a4062_row2_col14\" class=\"data row2 col14\" >-0.027774</td>\n",
       "      <td id=\"T_a4062_row2_col15\" class=\"data row2 col15\" >-0.021388</td>\n",
       "      <td id=\"T_a4062_row2_col16\" class=\"data row2 col16\" >-0.012566</td>\n",
       "      <td id=\"T_a4062_row2_col17\" class=\"data row2 col17\" >-0.008118</td>\n",
       "      <td id=\"T_a4062_row2_col18\" class=\"data row2 col18\" >-0.003166</td>\n",
       "      <td id=\"T_a4062_row2_col19\" class=\"data row2 col19\" >0.008268</td>\n",
       "      <td id=\"T_a4062_row2_col20\" class=\"data row2 col20\" >0.022290</td>\n",
       "      <td id=\"T_a4062_row2_col21\" class=\"data row2 col21\" >0.013667</td>\n",
       "      <td id=\"T_a4062_row2_col22\" class=\"data row2 col22\" >0.013616</td>\n",
       "      <td id=\"T_a4062_row2_col23\" class=\"data row2 col23\" >0.036850</td>\n",
       "      <td id=\"T_a4062_row2_col24\" class=\"data row2 col24\" >-0.043814</td>\n",
       "    </tr>\n",
       "    <tr>\n",
       "      <th id=\"T_a4062_level0_row3\" class=\"row_heading level0 row3\" >education</th>\n",
       "      <td id=\"T_a4062_row3_col0\" class=\"data row3 col0\" >0.039377</td>\n",
       "      <td id=\"T_a4062_row3_col1\" class=\"data row3 col1\" >-0.269342</td>\n",
       "      <td id=\"T_a4062_row3_col2\" class=\"data row3 col2\" >0.016446</td>\n",
       "      <td id=\"T_a4062_row3_col3\" class=\"data row3 col3\" >1.000000</td>\n",
       "      <td id=\"T_a4062_row3_col4\" class=\"data row3 col4\" >-0.162820</td>\n",
       "      <td id=\"T_a4062_row3_col5\" class=\"data row3 col5\" >0.158310</td>\n",
       "      <td id=\"T_a4062_row3_col6\" class=\"data row3 col6\" >0.139335</td>\n",
       "      <td id=\"T_a4062_row3_col7\" class=\"data row3 col7\" >0.173029</td>\n",
       "      <td id=\"T_a4062_row3_col8\" class=\"data row3 col8\" >0.166247</td>\n",
       "      <td id=\"T_a4062_row3_col9\" class=\"data row3 col9\" >0.156070</td>\n",
       "      <td id=\"T_a4062_row3_col10\" class=\"data row3 col10\" >0.140858</td>\n",
       "      <td id=\"T_a4062_row3_col11\" class=\"data row3 col11\" >0.128574</td>\n",
       "      <td id=\"T_a4062_row3_col12\" class=\"data row3 col12\" >0.100161</td>\n",
       "      <td id=\"T_a4062_row3_col13\" class=\"data row3 col13\" >0.097232</td>\n",
       "      <td id=\"T_a4062_row3_col14\" class=\"data row3 col14\" >0.083805</td>\n",
       "      <td id=\"T_a4062_row3_col15\" class=\"data row3 col15\" >0.072518</td>\n",
       "      <td id=\"T_a4062_row3_col16\" class=\"data row3 col16\" >0.064001</td>\n",
       "      <td id=\"T_a4062_row3_col17\" class=\"data row3 col17\" >0.059661</td>\n",
       "      <td id=\"T_a4062_row3_col18\" class=\"data row3 col18\" >-0.040496</td>\n",
       "      <td id=\"T_a4062_row3_col19\" class=\"data row3 col19\" >-0.050552</td>\n",
       "      <td id=\"T_a4062_row3_col20\" class=\"data row3 col20\" >-0.041430</td>\n",
       "      <td id=\"T_a4062_row3_col21\" class=\"data row3 col21\" >-0.041826</td>\n",
       "      <td id=\"T_a4062_row3_col22\" class=\"data row3 col22\" >-0.049480</td>\n",
       "      <td id=\"T_a4062_row3_col23\" class=\"data row3 col23\" >-0.053618</td>\n",
       "      <td id=\"T_a4062_row3_col24\" class=\"data row3 col24\" >0.047575</td>\n",
       "    </tr>\n",
       "    <tr>\n",
       "      <th id=\"T_a4062_level0_row4\" class=\"row_heading level0 row4\" >marriage</th>\n",
       "      <td id=\"T_a4062_row4_col0\" class=\"data row4 col0\" >-0.027409</td>\n",
       "      <td id=\"T_a4062_row4_col1\" class=\"data row4 col1\" >-0.115429</td>\n",
       "      <td id=\"T_a4062_row4_col2\" class=\"data row4 col2\" >-0.034660</td>\n",
       "      <td id=\"T_a4062_row4_col3\" class=\"data row4 col3\" >-0.162820</td>\n",
       "      <td id=\"T_a4062_row4_col4\" class=\"data row4 col4\" >1.000000</td>\n",
       "      <td id=\"T_a4062_row4_col5\" class=\"data row4 col5\" >-0.462261</td>\n",
       "      <td id=\"T_a4062_row4_col6\" class=\"data row4 col6\" >0.019997</td>\n",
       "      <td id=\"T_a4062_row4_col7\" class=\"data row4 col7\" >0.033960</td>\n",
       "      <td id=\"T_a4062_row4_col8\" class=\"data row4 col8\" >0.040346</td>\n",
       "      <td id=\"T_a4062_row4_col9\" class=\"data row4 col9\" >0.039739</td>\n",
       "      <td id=\"T_a4062_row4_col10\" class=\"data row4 col10\" >0.044412</td>\n",
       "      <td id=\"T_a4062_row4_col11\" class=\"data row4 col11\" >0.038160</td>\n",
       "      <td id=\"T_a4062_row4_col12\" class=\"data row4 col12\" >-0.001109</td>\n",
       "      <td id=\"T_a4062_row4_col13\" class=\"data row4 col13\" >0.001563</td>\n",
       "      <td id=\"T_a4062_row4_col14\" class=\"data row4 col14\" >-0.003423</td>\n",
       "      <td id=\"T_a4062_row4_col15\" class=\"data row4 col15\" >0.000362</td>\n",
       "      <td id=\"T_a4062_row4_col16\" class=\"data row4 col16\" >-0.003043</td>\n",
       "      <td id=\"T_a4062_row4_col17\" class=\"data row4 col17\" >-0.001289</td>\n",
       "      <td id=\"T_a4062_row4_col18\" class=\"data row4 col18\" >-0.008185</td>\n",
       "      <td id=\"T_a4062_row4_col19\" class=\"data row4 col19\" >-0.018980</td>\n",
       "      <td id=\"T_a4062_row4_col20\" class=\"data row4 col20\" >-0.014063</td>\n",
       "      <td id=\"T_a4062_row4_col21\" class=\"data row4 col21\" >-0.021571</td>\n",
       "      <td id=\"T_a4062_row4_col22\" class=\"data row4 col22\" >-0.017768</td>\n",
       "      <td id=\"T_a4062_row4_col23\" class=\"data row4 col23\" >-0.021047</td>\n",
       "      <td id=\"T_a4062_row4_col24\" class=\"data row4 col24\" >-0.025359</td>\n",
       "    </tr>\n",
       "    <tr>\n",
       "      <th id=\"T_a4062_level0_row5\" class=\"row_heading level0 row5\" >age</th>\n",
       "      <td id=\"T_a4062_row5_col0\" class=\"data row5 col0\" >0.026562</td>\n",
       "      <td id=\"T_a4062_row5_col1\" class=\"data row5 col1\" >0.185045</td>\n",
       "      <td id=\"T_a4062_row5_col2\" class=\"data row5 col2\" >-0.091806</td>\n",
       "      <td id=\"T_a4062_row5_col3\" class=\"data row5 col3\" >0.158310</td>\n",
       "      <td id=\"T_a4062_row5_col4\" class=\"data row5 col4\" >-0.462261</td>\n",
       "      <td id=\"T_a4062_row5_col5\" class=\"data row5 col5\" >1.000000</td>\n",
       "      <td id=\"T_a4062_row5_col6\" class=\"data row5 col6\" >-0.056751</td>\n",
       "      <td id=\"T_a4062_row5_col7\" class=\"data row5 col7\" >-0.078259</td>\n",
       "      <td id=\"T_a4062_row5_col8\" class=\"data row5 col8\" >-0.079111</td>\n",
       "      <td id=\"T_a4062_row5_col9\" class=\"data row5 col9\" >-0.075554</td>\n",
       "      <td id=\"T_a4062_row5_col10\" class=\"data row5 col10\" >-0.078913</td>\n",
       "      <td id=\"T_a4062_row5_col11\" class=\"data row5 col11\" >-0.069302</td>\n",
       "      <td id=\"T_a4062_row5_col12\" class=\"data row5 col12\" >0.007471</td>\n",
       "      <td id=\"T_a4062_row5_col13\" class=\"data row5 col13\" >0.007098</td>\n",
       "      <td id=\"T_a4062_row5_col14\" class=\"data row5 col14\" >0.006361</td>\n",
       "      <td id=\"T_a4062_row5_col15\" class=\"data row5 col15\" >0.001605</td>\n",
       "      <td id=\"T_a4062_row5_col16\" class=\"data row5 col16\" >0.005877</td>\n",
       "      <td id=\"T_a4062_row5_col17\" class=\"data row5 col17\" >0.005530</td>\n",
       "      <td id=\"T_a4062_row5_col18\" class=\"data row5 col18\" >0.035641</td>\n",
       "      <td id=\"T_a4062_row5_col19\" class=\"data row5 col19\" >0.043351</td>\n",
       "      <td id=\"T_a4062_row5_col20\" class=\"data row5 col20\" >0.033097</td>\n",
       "      <td id=\"T_a4062_row5_col21\" class=\"data row5 col21\" >0.043230</td>\n",
       "      <td id=\"T_a4062_row5_col22\" class=\"data row5 col22\" >0.039578</td>\n",
       "      <td id=\"T_a4062_row5_col23\" class=\"data row5 col23\" >0.040332</td>\n",
       "      <td id=\"T_a4062_row5_col24\" class=\"data row5 col24\" >0.006196</td>\n",
       "    </tr>\n",
       "    <tr>\n",
       "      <th id=\"T_a4062_level0_row6\" class=\"row_heading level0 row6\" >pay_0</th>\n",
       "      <td id=\"T_a4062_row6_col0\" class=\"data row6 col0\" >-0.020636</td>\n",
       "      <td id=\"T_a4062_row6_col1\" class=\"data row6 col1\" >-0.297013</td>\n",
       "      <td id=\"T_a4062_row6_col2\" class=\"data row6 col2\" >-0.053721</td>\n",
       "      <td id=\"T_a4062_row6_col3\" class=\"data row6 col3\" >0.139335</td>\n",
       "      <td id=\"T_a4062_row6_col4\" class=\"data row6 col4\" >0.019997</td>\n",
       "      <td id=\"T_a4062_row6_col5\" class=\"data row6 col5\" >-0.056751</td>\n",
       "      <td id=\"T_a4062_row6_col6\" class=\"data row6 col6\" >1.000000</td>\n",
       "      <td id=\"T_a4062_row6_col7\" class=\"data row6 col7\" >0.626059</td>\n",
       "      <td id=\"T_a4062_row6_col8\" class=\"data row6 col8\" >0.548310</td>\n",
       "      <td id=\"T_a4062_row6_col9\" class=\"data row6 col9\" >0.516108</td>\n",
       "      <td id=\"T_a4062_row6_col10\" class=\"data row6 col10\" >0.484550</td>\n",
       "      <td id=\"T_a4062_row6_col11\" class=\"data row6 col11\" >0.461945</td>\n",
       "      <td id=\"T_a4062_row6_col12\" class=\"data row6 col12\" >0.315844</td>\n",
       "      <td id=\"T_a4062_row6_col13\" class=\"data row6 col13\" >0.332046</td>\n",
       "      <td id=\"T_a4062_row6_col14\" class=\"data row6 col14\" >0.314524</td>\n",
       "      <td id=\"T_a4062_row6_col15\" class=\"data row6 col15\" >0.304603</td>\n",
       "      <td id=\"T_a4062_row6_col16\" class=\"data row6 col16\" >0.299338</td>\n",
       "      <td id=\"T_a4062_row6_col17\" class=\"data row6 col17\" >0.287858</td>\n",
       "      <td id=\"T_a4062_row6_col18\" class=\"data row6 col18\" >-0.096829</td>\n",
       "      <td id=\"T_a4062_row6_col19\" class=\"data row6 col19\" >-0.064678</td>\n",
       "      <td id=\"T_a4062_row6_col20\" class=\"data row6 col20\" >-0.057278</td>\n",
       "      <td id=\"T_a4062_row6_col21\" class=\"data row6 col21\" >-0.031067</td>\n",
       "      <td id=\"T_a4062_row6_col22\" class=\"data row6 col22\" >-0.028266</td>\n",
       "      <td id=\"T_a4062_row6_col23\" class=\"data row6 col23\" >-0.046358</td>\n",
       "      <td id=\"T_a4062_row6_col24\" class=\"data row6 col24\" >0.288651</td>\n",
       "    </tr>\n",
       "    <tr>\n",
       "      <th id=\"T_a4062_level0_row7\" class=\"row_heading level0 row7\" >pay_2</th>\n",
       "      <td id=\"T_a4062_row7_col0\" class=\"data row7 col0\" >-0.001546</td>\n",
       "      <td id=\"T_a4062_row7_col1\" class=\"data row7 col1\" >-0.343210</td>\n",
       "      <td id=\"T_a4062_row7_col2\" class=\"data row7 col2\" >-0.072805</td>\n",
       "      <td id=\"T_a4062_row7_col3\" class=\"data row7 col3\" >0.173029</td>\n",
       "      <td id=\"T_a4062_row7_col4\" class=\"data row7 col4\" >0.033960</td>\n",
       "      <td id=\"T_a4062_row7_col5\" class=\"data row7 col5\" >-0.078259</td>\n",
       "      <td id=\"T_a4062_row7_col6\" class=\"data row7 col6\" >0.626059</td>\n",
       "      <td id=\"T_a4062_row7_col7\" class=\"data row7 col7\" >1.000000</td>\n",
       "      <td id=\"T_a4062_row7_col8\" class=\"data row7 col8\" >0.802436</td>\n",
       "      <td id=\"T_a4062_row7_col9\" class=\"data row7 col9\" >0.715323</td>\n",
       "      <td id=\"T_a4062_row7_col10\" class=\"data row7 col10\" >0.674924</td>\n",
       "      <td id=\"T_a4062_row7_col11\" class=\"data row7 col11\" >0.632789</td>\n",
       "      <td id=\"T_a4062_row7_col12\" class=\"data row7 col12\" >0.572869</td>\n",
       "      <td id=\"T_a4062_row7_col13\" class=\"data row7 col13\" >0.554516</td>\n",
       "      <td id=\"T_a4062_row7_col14\" class=\"data row7 col14\" >0.520239</td>\n",
       "      <td id=\"T_a4062_row7_col15\" class=\"data row7 col15\" >0.496316</td>\n",
       "      <td id=\"T_a4062_row7_col16\" class=\"data row7 col16\" >0.476632</td>\n",
       "      <td id=\"T_a4062_row7_col17\" class=\"data row7 col17\" >0.457259</td>\n",
       "      <td id=\"T_a4062_row7_col18\" class=\"data row7 col18\" >0.022447</td>\n",
       "      <td id=\"T_a4062_row7_col19\" class=\"data row7 col19\" >0.084354</td>\n",
       "      <td id=\"T_a4062_row7_col20\" class=\"data row7 col20\" >0.085765</td>\n",
       "      <td id=\"T_a4062_row7_col21\" class=\"data row7 col21\" >0.095336</td>\n",
       "      <td id=\"T_a4062_row7_col22\" class=\"data row7 col22\" >0.099057</td>\n",
       "      <td id=\"T_a4062_row7_col23\" class=\"data row7 col23\" >0.080687</td>\n",
       "      <td id=\"T_a4062_row7_col24\" class=\"data row7 col24\" >0.215009</td>\n",
       "    </tr>\n",
       "    <tr>\n",
       "      <th id=\"T_a4062_level0_row8\" class=\"row_heading level0 row8\" >pay_3</th>\n",
       "      <td id=\"T_a4062_row8_col0\" class=\"data row8 col0\" >-0.006584</td>\n",
       "      <td id=\"T_a4062_row8_col1\" class=\"data row8 col1\" >-0.332020</td>\n",
       "      <td id=\"T_a4062_row8_col2\" class=\"data row8 col2\" >-0.066877</td>\n",
       "      <td id=\"T_a4062_row8_col3\" class=\"data row8 col3\" >0.166247</td>\n",
       "      <td id=\"T_a4062_row8_col4\" class=\"data row8 col4\" >0.040346</td>\n",
       "      <td id=\"T_a4062_row8_col5\" class=\"data row8 col5\" >-0.079111</td>\n",
       "      <td id=\"T_a4062_row8_col6\" class=\"data row8 col6\" >0.548310</td>\n",
       "      <td id=\"T_a4062_row8_col7\" class=\"data row8 col7\" >0.802436</td>\n",
       "      <td id=\"T_a4062_row8_col8\" class=\"data row8 col8\" >1.000000</td>\n",
       "      <td id=\"T_a4062_row8_col9\" class=\"data row8 col9\" >0.803100</td>\n",
       "      <td id=\"T_a4062_row8_col10\" class=\"data row8 col10\" >0.718232</td>\n",
       "      <td id=\"T_a4062_row8_col11\" class=\"data row8 col11\" >0.670359</td>\n",
       "      <td id=\"T_a4062_row8_col12\" class=\"data row8 col12\" >0.526818</td>\n",
       "      <td id=\"T_a4062_row8_col13\" class=\"data row8 col13\" >0.593251</td>\n",
       "      <td id=\"T_a4062_row8_col14\" class=\"data row8 col14\" >0.560372</td>\n",
       "      <td id=\"T_a4062_row8_col15\" class=\"data row8 col15\" >0.531695</td>\n",
       "      <td id=\"T_a4062_row8_col16\" class=\"data row8 col16\" >0.507870</td>\n",
       "      <td id=\"T_a4062_row8_col17\" class=\"data row8 col17\" >0.484343</td>\n",
       "      <td id=\"T_a4062_row8_col18\" class=\"data row8 col18\" >0.218532</td>\n",
       "      <td id=\"T_a4062_row8_col19\" class=\"data row8 col19\" >0.040167</td>\n",
       "      <td id=\"T_a4062_row8_col20\" class=\"data row8 col20\" >0.103918</td>\n",
       "      <td id=\"T_a4062_row8_col21\" class=\"data row8 col21\" >0.120145</td>\n",
       "      <td id=\"T_a4062_row8_col22\" class=\"data row8 col22\" >0.127454</td>\n",
       "      <td id=\"T_a4062_row8_col23\" class=\"data row8 col23\" >0.094928</td>\n",
       "      <td id=\"T_a4062_row8_col24\" class=\"data row8 col24\" >0.195484</td>\n",
       "    </tr>\n",
       "    <tr>\n",
       "      <th id=\"T_a4062_level0_row9\" class=\"row_heading level0 row9\" >pay_4</th>\n",
       "      <td id=\"T_a4062_row9_col0\" class=\"data row9 col0\" >-0.000507</td>\n",
       "      <td id=\"T_a4062_row9_col1\" class=\"data row9 col1\" >-0.308016</td>\n",
       "      <td id=\"T_a4062_row9_col2\" class=\"data row9 col2\" >-0.059852</td>\n",
       "      <td id=\"T_a4062_row9_col3\" class=\"data row9 col3\" >0.156070</td>\n",
       "      <td id=\"T_a4062_row9_col4\" class=\"data row9 col4\" >0.039739</td>\n",
       "      <td id=\"T_a4062_row9_col5\" class=\"data row9 col5\" >-0.075554</td>\n",
       "      <td id=\"T_a4062_row9_col6\" class=\"data row9 col6\" >0.516108</td>\n",
       "      <td id=\"T_a4062_row9_col7\" class=\"data row9 col7\" >0.715323</td>\n",
       "      <td id=\"T_a4062_row9_col8\" class=\"data row9 col8\" >0.803100</td>\n",
       "      <td id=\"T_a4062_row9_col9\" class=\"data row9 col9\" >1.000000</td>\n",
       "      <td id=\"T_a4062_row9_col10\" class=\"data row9 col10\" >0.821506</td>\n",
       "      <td id=\"T_a4062_row9_col11\" class=\"data row9 col11\" >0.729281</td>\n",
       "      <td id=\"T_a4062_row9_col12\" class=\"data row9 col12\" >0.513242</td>\n",
       "      <td id=\"T_a4062_row9_col13\" class=\"data row9 col13\" >0.561968</td>\n",
       "      <td id=\"T_a4062_row9_col14\" class=\"data row9 col14\" >0.620096</td>\n",
       "      <td id=\"T_a4062_row9_col15\" class=\"data row9 col15\" >0.591472</td>\n",
       "      <td id=\"T_a4062_row9_col16\" class=\"data row9 col16\" >0.559134</td>\n",
       "      <td id=\"T_a4062_row9_col17\" class=\"data row9 col17\" >0.529446</td>\n",
       "      <td id=\"T_a4062_row9_col18\" class=\"data row9 col18\" >0.188553</td>\n",
       "      <td id=\"T_a4062_row9_col19\" class=\"data row9 col19\" >0.247401</td>\n",
       "      <td id=\"T_a4062_row9_col20\" class=\"data row9 col20\" >0.070495</td>\n",
       "      <td id=\"T_a4062_row9_col21\" class=\"data row9 col21\" >0.144809</td>\n",
       "      <td id=\"T_a4062_row9_col22\" class=\"data row9 col22\" >0.160479</td>\n",
       "      <td id=\"T_a4062_row9_col23\" class=\"data row9 col23\" >0.140376</td>\n",
       "      <td id=\"T_a4062_row9_col24\" class=\"data row9 col24\" >0.173174</td>\n",
       "    </tr>\n",
       "    <tr>\n",
       "      <th id=\"T_a4062_level0_row10\" class=\"row_heading level0 row10\" >pay_5</th>\n",
       "      <td id=\"T_a4062_row10_col0\" class=\"data row10 col0\" >-0.014848</td>\n",
       "      <td id=\"T_a4062_row10_col1\" class=\"data row10 col1\" >-0.281681</td>\n",
       "      <td id=\"T_a4062_row10_col2\" class=\"data row10 col2\" >-0.050116</td>\n",
       "      <td id=\"T_a4062_row10_col3\" class=\"data row10 col3\" >0.140858</td>\n",
       "      <td id=\"T_a4062_row10_col4\" class=\"data row10 col4\" >0.044412</td>\n",
       "      <td id=\"T_a4062_row10_col5\" class=\"data row10 col5\" >-0.078913</td>\n",
       "      <td id=\"T_a4062_row10_col6\" class=\"data row10 col6\" >0.484550</td>\n",
       "      <td id=\"T_a4062_row10_col7\" class=\"data row10 col7\" >0.674924</td>\n",
       "      <td id=\"T_a4062_row10_col8\" class=\"data row10 col8\" >0.718232</td>\n",
       "      <td id=\"T_a4062_row10_col9\" class=\"data row10 col9\" >0.821506</td>\n",
       "      <td id=\"T_a4062_row10_col10\" class=\"data row10 col10\" >1.000000</td>\n",
       "      <td id=\"T_a4062_row10_col11\" class=\"data row10 col11\" >0.819014</td>\n",
       "      <td id=\"T_a4062_row10_col12\" class=\"data row10 col12\" >0.500245</td>\n",
       "      <td id=\"T_a4062_row10_col13\" class=\"data row10 col13\" >0.540468</td>\n",
       "      <td id=\"T_a4062_row10_col14\" class=\"data row10 col14\" >0.587086</td>\n",
       "      <td id=\"T_a4062_row10_col15\" class=\"data row10 col15\" >0.647446</td>\n",
       "      <td id=\"T_a4062_row10_col16\" class=\"data row10 col16\" >0.617200</td>\n",
       "      <td id=\"T_a4062_row10_col17\" class=\"data row10 col17\" >0.576346</td>\n",
       "      <td id=\"T_a4062_row10_col18\" class=\"data row10 col18\" >0.180122</td>\n",
       "      <td id=\"T_a4062_row10_col19\" class=\"data row10 col19\" >0.223764</td>\n",
       "      <td id=\"T_a4062_row10_col20\" class=\"data row10 col20\" >0.260984</td>\n",
       "      <td id=\"T_a4062_row10_col21\" class=\"data row10 col21\" >0.107628</td>\n",
       "      <td id=\"T_a4062_row10_col22\" class=\"data row10 col22\" >0.186140</td>\n",
       "      <td id=\"T_a4062_row10_col23\" class=\"data row10 col23\" >0.171324</td>\n",
       "      <td id=\"T_a4062_row10_col24\" class=\"data row10 col24\" >0.160608</td>\n",
       "    </tr>\n",
       "    <tr>\n",
       "      <th id=\"T_a4062_level0_row11\" class=\"row_heading level0 row11\" >pay_6</th>\n",
       "      <td id=\"T_a4062_row11_col0\" class=\"data row11 col0\" >-0.005927</td>\n",
       "      <td id=\"T_a4062_row11_col1\" class=\"data row11 col1\" >-0.261785</td>\n",
       "      <td id=\"T_a4062_row11_col2\" class=\"data row11 col2\" >-0.038584</td>\n",
       "      <td id=\"T_a4062_row11_col3\" class=\"data row11 col3\" >0.128574</td>\n",
       "      <td id=\"T_a4062_row11_col4\" class=\"data row11 col4\" >0.038160</td>\n",
       "      <td id=\"T_a4062_row11_col5\" class=\"data row11 col5\" >-0.069302</td>\n",
       "      <td id=\"T_a4062_row11_col6\" class=\"data row11 col6\" >0.461945</td>\n",
       "      <td id=\"T_a4062_row11_col7\" class=\"data row11 col7\" >0.632789</td>\n",
       "      <td id=\"T_a4062_row11_col8\" class=\"data row11 col8\" >0.670359</td>\n",
       "      <td id=\"T_a4062_row11_col9\" class=\"data row11 col9\" >0.729281</td>\n",
       "      <td id=\"T_a4062_row11_col10\" class=\"data row11 col10\" >0.819014</td>\n",
       "      <td id=\"T_a4062_row11_col11\" class=\"data row11 col11\" >1.000000</td>\n",
       "      <td id=\"T_a4062_row11_col12\" class=\"data row11 col12\" >0.487014</td>\n",
       "      <td id=\"T_a4062_row11_col13\" class=\"data row11 col13\" >0.524340</td>\n",
       "      <td id=\"T_a4062_row11_col14\" class=\"data row11 col14\" >0.560757</td>\n",
       "      <td id=\"T_a4062_row11_col15\" class=\"data row11 col15\" >0.604880</td>\n",
       "      <td id=\"T_a4062_row11_col16\" class=\"data row11 col16\" >0.668170</td>\n",
       "      <td id=\"T_a4062_row11_col17\" class=\"data row11 col17\" >0.629537</td>\n",
       "      <td id=\"T_a4062_row11_col18\" class=\"data row11 col18\" >0.180538</td>\n",
       "      <td id=\"T_a4062_row11_col19\" class=\"data row11 col19\" >0.201806</td>\n",
       "      <td id=\"T_a4062_row11_col20\" class=\"data row11 col20\" >0.237673</td>\n",
       "      <td id=\"T_a4062_row11_col21\" class=\"data row11 col21\" >0.285908</td>\n",
       "      <td id=\"T_a4062_row11_col22\" class=\"data row11 col22\" >0.143262</td>\n",
       "      <td id=\"T_a4062_row11_col23\" class=\"data row11 col23\" >0.197405</td>\n",
       "      <td id=\"T_a4062_row11_col24\" class=\"data row11 col24\" >0.146320</td>\n",
       "    </tr>\n",
       "    <tr>\n",
       "      <th id=\"T_a4062_level0_row12\" class=\"row_heading level0 row12\" >bill_amt1</th>\n",
       "      <td id=\"T_a4062_row12_col0\" class=\"data row12 col0\" >0.012719</td>\n",
       "      <td id=\"T_a4062_row12_col1\" class=\"data row12 col1\" >0.052238</td>\n",
       "      <td id=\"T_a4062_row12_col2\" class=\"data row12 col2\" >-0.043248</td>\n",
       "      <td id=\"T_a4062_row12_col3\" class=\"data row12 col3\" >0.100161</td>\n",
       "      <td id=\"T_a4062_row12_col4\" class=\"data row12 col4\" >-0.001109</td>\n",
       "      <td id=\"T_a4062_row12_col5\" class=\"data row12 col5\" >0.007471</td>\n",
       "      <td id=\"T_a4062_row12_col6\" class=\"data row12 col6\" >0.315844</td>\n",
       "      <td id=\"T_a4062_row12_col7\" class=\"data row12 col7\" >0.572869</td>\n",
       "      <td id=\"T_a4062_row12_col8\" class=\"data row12 col8\" >0.526818</td>\n",
       "      <td id=\"T_a4062_row12_col9\" class=\"data row12 col9\" >0.513242</td>\n",
       "      <td id=\"T_a4062_row12_col10\" class=\"data row12 col10\" >0.500245</td>\n",
       "      <td id=\"T_a4062_row12_col11\" class=\"data row12 col11\" >0.487014</td>\n",
       "      <td id=\"T_a4062_row12_col12\" class=\"data row12 col12\" >1.000000</td>\n",
       "      <td id=\"T_a4062_row12_col13\" class=\"data row12 col13\" >0.910785</td>\n",
       "      <td id=\"T_a4062_row12_col14\" class=\"data row12 col14\" >0.857921</td>\n",
       "      <td id=\"T_a4062_row12_col15\" class=\"data row12 col15\" >0.806439</td>\n",
       "      <td id=\"T_a4062_row12_col16\" class=\"data row12 col16\" >0.765950</td>\n",
       "      <td id=\"T_a4062_row12_col17\" class=\"data row12 col17\" >0.729307</td>\n",
       "      <td id=\"T_a4062_row12_col18\" class=\"data row12 col18\" >0.503493</td>\n",
       "      <td id=\"T_a4062_row12_col19\" class=\"data row12 col19\" >0.471869</td>\n",
       "      <td id=\"T_a4062_row12_col20\" class=\"data row12 col20\" >0.443412</td>\n",
       "      <td id=\"T_a4062_row12_col21\" class=\"data row12 col21\" >0.439299</td>\n",
       "      <td id=\"T_a4062_row12_col22\" class=\"data row12 col22\" >0.423434</td>\n",
       "      <td id=\"T_a4062_row12_col23\" class=\"data row12 col23\" >0.408397</td>\n",
       "      <td id=\"T_a4062_row12_col24\" class=\"data row12 col24\" >-0.023735</td>\n",
       "    </tr>\n",
       "    <tr>\n",
       "      <th id=\"T_a4062_level0_row13\" class=\"row_heading level0 row13\" >bill_amt2</th>\n",
       "      <td id=\"T_a4062_row13_col0\" class=\"data row13 col0\" >0.012799</td>\n",
       "      <td id=\"T_a4062_row13_col1\" class=\"data row13 col1\" >0.044509</td>\n",
       "      <td id=\"T_a4062_row13_col2\" class=\"data row13 col2\" >-0.040394</td>\n",
       "      <td id=\"T_a4062_row13_col3\" class=\"data row13 col3\" >0.097232</td>\n",
       "      <td id=\"T_a4062_row13_col4\" class=\"data row13 col4\" >0.001563</td>\n",
       "      <td id=\"T_a4062_row13_col5\" class=\"data row13 col5\" >0.007098</td>\n",
       "      <td id=\"T_a4062_row13_col6\" class=\"data row13 col6\" >0.332046</td>\n",
       "      <td id=\"T_a4062_row13_col7\" class=\"data row13 col7\" >0.554516</td>\n",
       "      <td id=\"T_a4062_row13_col8\" class=\"data row13 col8\" >0.593251</td>\n",
       "      <td id=\"T_a4062_row13_col9\" class=\"data row13 col9\" >0.561968</td>\n",
       "      <td id=\"T_a4062_row13_col10\" class=\"data row13 col10\" >0.540468</td>\n",
       "      <td id=\"T_a4062_row13_col11\" class=\"data row13 col11\" >0.524340</td>\n",
       "      <td id=\"T_a4062_row13_col12\" class=\"data row13 col12\" >0.910785</td>\n",
       "      <td id=\"T_a4062_row13_col13\" class=\"data row13 col13\" >1.000000</td>\n",
       "      <td id=\"T_a4062_row13_col14\" class=\"data row13 col14\" >0.906951</td>\n",
       "      <td id=\"T_a4062_row13_col15\" class=\"data row13 col15\" >0.848389</td>\n",
       "      <td id=\"T_a4062_row13_col16\" class=\"data row13 col16\" >0.801622</td>\n",
       "      <td id=\"T_a4062_row13_col17\" class=\"data row13 col17\" >0.761490</td>\n",
       "      <td id=\"T_a4062_row13_col18\" class=\"data row13 col18\" >0.636183</td>\n",
       "      <td id=\"T_a4062_row13_col19\" class=\"data row13 col19\" >0.495158</td>\n",
       "      <td id=\"T_a4062_row13_col20\" class=\"data row13 col20\" >0.469246</td>\n",
       "      <td id=\"T_a4062_row13_col21\" class=\"data row13 col21\" >0.457782</td>\n",
       "      <td id=\"T_a4062_row13_col22\" class=\"data row13 col22\" >0.446900</td>\n",
       "      <td id=\"T_a4062_row13_col23\" class=\"data row13 col23\" >0.425532</td>\n",
       "      <td id=\"T_a4062_row13_col24\" class=\"data row13 col24\" >-0.012825</td>\n",
       "    </tr>\n",
       "    <tr>\n",
       "      <th id=\"T_a4062_level0_row14\" class=\"row_heading level0 row14\" >bill_amt3</th>\n",
       "      <td id=\"T_a4062_row14_col0\" class=\"data row14 col0\" >0.019714</td>\n",
       "      <td id=\"T_a4062_row14_col1\" class=\"data row14 col1\" >0.061552</td>\n",
       "      <td id=\"T_a4062_row14_col2\" class=\"data row14 col2\" >-0.027774</td>\n",
       "      <td id=\"T_a4062_row14_col3\" class=\"data row14 col3\" >0.083805</td>\n",
       "      <td id=\"T_a4062_row14_col4\" class=\"data row14 col4\" >-0.003423</td>\n",
       "      <td id=\"T_a4062_row14_col5\" class=\"data row14 col5\" >0.006361</td>\n",
       "      <td id=\"T_a4062_row14_col6\" class=\"data row14 col6\" >0.314524</td>\n",
       "      <td id=\"T_a4062_row14_col7\" class=\"data row14 col7\" >0.520239</td>\n",
       "      <td id=\"T_a4062_row14_col8\" class=\"data row14 col8\" >0.560372</td>\n",
       "      <td id=\"T_a4062_row14_col9\" class=\"data row14 col9\" >0.620096</td>\n",
       "      <td id=\"T_a4062_row14_col10\" class=\"data row14 col10\" >0.587086</td>\n",
       "      <td id=\"T_a4062_row14_col11\" class=\"data row14 col11\" >0.560757</td>\n",
       "      <td id=\"T_a4062_row14_col12\" class=\"data row14 col12\" >0.857921</td>\n",
       "      <td id=\"T_a4062_row14_col13\" class=\"data row14 col13\" >0.906951</td>\n",
       "      <td id=\"T_a4062_row14_col14\" class=\"data row14 col14\" >1.000000</td>\n",
       "      <td id=\"T_a4062_row14_col15\" class=\"data row14 col15\" >0.904053</td>\n",
       "      <td id=\"T_a4062_row14_col16\" class=\"data row14 col16\" >0.848784</td>\n",
       "      <td id=\"T_a4062_row14_col17\" class=\"data row14 col17\" >0.800594</td>\n",
       "      <td id=\"T_a4062_row14_col18\" class=\"data row14 col18\" >0.550432</td>\n",
       "      <td id=\"T_a4062_row14_col19\" class=\"data row14 col19\" >0.638172</td>\n",
       "      <td id=\"T_a4062_row14_col20\" class=\"data row14 col20\" >0.494517</td>\n",
       "      <td id=\"T_a4062_row14_col21\" class=\"data row14 col21\" >0.488459</td>\n",
       "      <td id=\"T_a4062_row14_col22\" class=\"data row14 col22\" >0.476392</td>\n",
       "      <td id=\"T_a4062_row14_col23\" class=\"data row14 col23\" >0.456064</td>\n",
       "      <td id=\"T_a4062_row14_col24\" class=\"data row14 col24\" >-0.011623</td>\n",
       "    </tr>\n",
       "    <tr>\n",
       "      <th id=\"T_a4062_level0_row15\" class=\"row_heading level0 row15\" >bill_amt4</th>\n",
       "      <td id=\"T_a4062_row15_col0\" class=\"data row15 col0\" >0.035414</td>\n",
       "      <td id=\"T_a4062_row15_col1\" class=\"data row15 col1\" >0.075757</td>\n",
       "      <td id=\"T_a4062_row15_col2\" class=\"data row15 col2\" >-0.021388</td>\n",
       "      <td id=\"T_a4062_row15_col3\" class=\"data row15 col3\" >0.072518</td>\n",
       "      <td id=\"T_a4062_row15_col4\" class=\"data row15 col4\" >0.000362</td>\n",
       "      <td id=\"T_a4062_row15_col5\" class=\"data row15 col5\" >0.001605</td>\n",
       "      <td id=\"T_a4062_row15_col6\" class=\"data row15 col6\" >0.304603</td>\n",
       "      <td id=\"T_a4062_row15_col7\" class=\"data row15 col7\" >0.496316</td>\n",
       "      <td id=\"T_a4062_row15_col8\" class=\"data row15 col8\" >0.531695</td>\n",
       "      <td id=\"T_a4062_row15_col9\" class=\"data row15 col9\" >0.591472</td>\n",
       "      <td id=\"T_a4062_row15_col10\" class=\"data row15 col10\" >0.647446</td>\n",
       "      <td id=\"T_a4062_row15_col11\" class=\"data row15 col11\" >0.604880</td>\n",
       "      <td id=\"T_a4062_row15_col12\" class=\"data row15 col12\" >0.806439</td>\n",
       "      <td id=\"T_a4062_row15_col13\" class=\"data row15 col13\" >0.848389</td>\n",
       "      <td id=\"T_a4062_row15_col14\" class=\"data row15 col14\" >0.904053</td>\n",
       "      <td id=\"T_a4062_row15_col15\" class=\"data row15 col15\" >1.000000</td>\n",
       "      <td id=\"T_a4062_row15_col16\" class=\"data row15 col16\" >0.903874</td>\n",
       "      <td id=\"T_a4062_row15_col17\" class=\"data row15 col17\" >0.846207</td>\n",
       "      <td id=\"T_a4062_row15_col18\" class=\"data row15 col18\" >0.517508</td>\n",
       "      <td id=\"T_a4062_row15_col19\" class=\"data row15 col19\" >0.556869</td>\n",
       "      <td id=\"T_a4062_row15_col20\" class=\"data row15 col20\" >0.637250</td>\n",
       "      <td id=\"T_a4062_row15_col21\" class=\"data row15 col21\" >0.510077</td>\n",
       "      <td id=\"T_a4062_row15_col22\" class=\"data row15 col22\" >0.506268</td>\n",
       "      <td id=\"T_a4062_row15_col23\" class=\"data row15 col23\" >0.480514</td>\n",
       "      <td id=\"T_a4062_row15_col24\" class=\"data row15 col24\" >-0.007717</td>\n",
       "    </tr>\n",
       "    <tr>\n",
       "      <th id=\"T_a4062_level0_row16\" class=\"row_heading level0 row16\" >bill_amt5</th>\n",
       "      <td id=\"T_a4062_row16_col0\" class=\"data row16 col0\" >0.017515</td>\n",
       "      <td id=\"T_a4062_row16_col1\" class=\"data row16 col1\" >0.081559</td>\n",
       "      <td id=\"T_a4062_row16_col2\" class=\"data row16 col2\" >-0.012566</td>\n",
       "      <td id=\"T_a4062_row16_col3\" class=\"data row16 col3\" >0.064001</td>\n",
       "      <td id=\"T_a4062_row16_col4\" class=\"data row16 col4\" >-0.003043</td>\n",
       "      <td id=\"T_a4062_row16_col5\" class=\"data row16 col5\" >0.005877</td>\n",
       "      <td id=\"T_a4062_row16_col6\" class=\"data row16 col6\" >0.299338</td>\n",
       "      <td id=\"T_a4062_row16_col7\" class=\"data row16 col7\" >0.476632</td>\n",
       "      <td id=\"T_a4062_row16_col8\" class=\"data row16 col8\" >0.507870</td>\n",
       "      <td id=\"T_a4062_row16_col9\" class=\"data row16 col9\" >0.559134</td>\n",
       "      <td id=\"T_a4062_row16_col10\" class=\"data row16 col10\" >0.617200</td>\n",
       "      <td id=\"T_a4062_row16_col11\" class=\"data row16 col11\" >0.668170</td>\n",
       "      <td id=\"T_a4062_row16_col12\" class=\"data row16 col12\" >0.765950</td>\n",
       "      <td id=\"T_a4062_row16_col13\" class=\"data row16 col13\" >0.801622</td>\n",
       "      <td id=\"T_a4062_row16_col14\" class=\"data row16 col14\" >0.848784</td>\n",
       "      <td id=\"T_a4062_row16_col15\" class=\"data row16 col15\" >0.903874</td>\n",
       "      <td id=\"T_a4062_row16_col16\" class=\"data row16 col16\" >1.000000</td>\n",
       "      <td id=\"T_a4062_row16_col17\" class=\"data row16 col17\" >0.899805</td>\n",
       "      <td id=\"T_a4062_row16_col18\" class=\"data row16 col18\" >0.485964</td>\n",
       "      <td id=\"T_a4062_row16_col19\" class=\"data row16 col19\" >0.517364</td>\n",
       "      <td id=\"T_a4062_row16_col20\" class=\"data row16 col20\" >0.552131</td>\n",
       "      <td id=\"T_a4062_row16_col21\" class=\"data row16 col21\" >0.648896</td>\n",
       "      <td id=\"T_a4062_row16_col22\" class=\"data row16 col22\" >0.526219</td>\n",
       "      <td id=\"T_a4062_row16_col23\" class=\"data row16 col23\" >0.508499</td>\n",
       "      <td id=\"T_a4062_row16_col24\" class=\"data row16 col24\" >-0.003814</td>\n",
       "    </tr>\n",
       "    <tr>\n",
       "      <th id=\"T_a4062_level0_row17\" class=\"row_heading level0 row17\" >bill_amt6</th>\n",
       "      <td id=\"T_a4062_row17_col0\" class=\"data row17 col0\" >0.021229</td>\n",
       "      <td id=\"T_a4062_row17_col1\" class=\"data row17 col1\" >0.090824</td>\n",
       "      <td id=\"T_a4062_row17_col2\" class=\"data row17 col2\" >-0.008118</td>\n",
       "      <td id=\"T_a4062_row17_col3\" class=\"data row17 col3\" >0.059661</td>\n",
       "      <td id=\"T_a4062_row17_col4\" class=\"data row17 col4\" >-0.001289</td>\n",
       "      <td id=\"T_a4062_row17_col5\" class=\"data row17 col5\" >0.005530</td>\n",
       "      <td id=\"T_a4062_row17_col6\" class=\"data row17 col6\" >0.287858</td>\n",
       "      <td id=\"T_a4062_row17_col7\" class=\"data row17 col7\" >0.457259</td>\n",
       "      <td id=\"T_a4062_row17_col8\" class=\"data row17 col8\" >0.484343</td>\n",
       "      <td id=\"T_a4062_row17_col9\" class=\"data row17 col9\" >0.529446</td>\n",
       "      <td id=\"T_a4062_row17_col10\" class=\"data row17 col10\" >0.576346</td>\n",
       "      <td id=\"T_a4062_row17_col11\" class=\"data row17 col11\" >0.629537</td>\n",
       "      <td id=\"T_a4062_row17_col12\" class=\"data row17 col12\" >0.729307</td>\n",
       "      <td id=\"T_a4062_row17_col13\" class=\"data row17 col13\" >0.761490</td>\n",
       "      <td id=\"T_a4062_row17_col14\" class=\"data row17 col14\" >0.800594</td>\n",
       "      <td id=\"T_a4062_row17_col15\" class=\"data row17 col15\" >0.846207</td>\n",
       "      <td id=\"T_a4062_row17_col16\" class=\"data row17 col16\" >0.899805</td>\n",
       "      <td id=\"T_a4062_row17_col17\" class=\"data row17 col17\" >1.000000</td>\n",
       "      <td id=\"T_a4062_row17_col18\" class=\"data row17 col18\" >0.457129</td>\n",
       "      <td id=\"T_a4062_row17_col19\" class=\"data row17 col19\" >0.485211</td>\n",
       "      <td id=\"T_a4062_row17_col20\" class=\"data row17 col20\" >0.521612</td>\n",
       "      <td id=\"T_a4062_row17_col21\" class=\"data row17 col21\" >0.572010</td>\n",
       "      <td id=\"T_a4062_row17_col22\" class=\"data row17 col22\" >0.669533</td>\n",
       "      <td id=\"T_a4062_row17_col23\" class=\"data row17 col23\" >0.530459</td>\n",
       "      <td id=\"T_a4062_row17_col24\" class=\"data row17 col24\" >0.001304</td>\n",
       "    </tr>\n",
       "    <tr>\n",
       "      <th id=\"T_a4062_level0_row18\" class=\"row_heading level0 row18\" >pay_amt1</th>\n",
       "      <td id=\"T_a4062_row18_col0\" class=\"data row18 col0\" >0.014044</td>\n",
       "      <td id=\"T_a4062_row18_col1\" class=\"data row18 col1\" >0.270676</td>\n",
       "      <td id=\"T_a4062_row18_col2\" class=\"data row18 col2\" >-0.003166</td>\n",
       "      <td id=\"T_a4062_row18_col3\" class=\"data row18 col3\" >-0.040496</td>\n",
       "      <td id=\"T_a4062_row18_col4\" class=\"data row18 col4\" >-0.008185</td>\n",
       "      <td id=\"T_a4062_row18_col5\" class=\"data row18 col5\" >0.035641</td>\n",
       "      <td id=\"T_a4062_row18_col6\" class=\"data row18 col6\" >-0.096829</td>\n",
       "      <td id=\"T_a4062_row18_col7\" class=\"data row18 col7\" >0.022447</td>\n",
       "      <td id=\"T_a4062_row18_col8\" class=\"data row18 col8\" >0.218532</td>\n",
       "      <td id=\"T_a4062_row18_col9\" class=\"data row18 col9\" >0.188553</td>\n",
       "      <td id=\"T_a4062_row18_col10\" class=\"data row18 col10\" >0.180122</td>\n",
       "      <td id=\"T_a4062_row18_col11\" class=\"data row18 col11\" >0.180538</td>\n",
       "      <td id=\"T_a4062_row18_col12\" class=\"data row18 col12\" >0.503493</td>\n",
       "      <td id=\"T_a4062_row18_col13\" class=\"data row18 col13\" >0.636183</td>\n",
       "      <td id=\"T_a4062_row18_col14\" class=\"data row18 col14\" >0.550432</td>\n",
       "      <td id=\"T_a4062_row18_col15\" class=\"data row18 col15\" >0.517508</td>\n",
       "      <td id=\"T_a4062_row18_col16\" class=\"data row18 col16\" >0.485964</td>\n",
       "      <td id=\"T_a4062_row18_col17\" class=\"data row18 col17\" >0.457129</td>\n",
       "      <td id=\"T_a4062_row18_col18\" class=\"data row18 col18\" >1.000000</td>\n",
       "      <td id=\"T_a4062_row18_col19\" class=\"data row18 col19\" >0.511524</td>\n",
       "      <td id=\"T_a4062_row18_col20\" class=\"data row18 col20\" >0.524567</td>\n",
       "      <td id=\"T_a4062_row18_col21\" class=\"data row18 col21\" >0.484567</td>\n",
       "      <td id=\"T_a4062_row18_col22\" class=\"data row18 col22\" >0.469239</td>\n",
       "      <td id=\"T_a4062_row18_col23\" class=\"data row18 col23\" >0.453987</td>\n",
       "      <td id=\"T_a4062_row18_col24\" class=\"data row18 col24\" >-0.158395</td>\n",
       "    </tr>\n",
       "    <tr>\n",
       "      <th id=\"T_a4062_level0_row19\" class=\"row_heading level0 row19\" >pay_amt2</th>\n",
       "      <td id=\"T_a4062_row19_col0\" class=\"data row19 col0\" >0.054245</td>\n",
       "      <td id=\"T_a4062_row19_col1\" class=\"data row19 col1\" >0.280822</td>\n",
       "      <td id=\"T_a4062_row19_col2\" class=\"data row19 col2\" >0.008268</td>\n",
       "      <td id=\"T_a4062_row19_col3\" class=\"data row19 col3\" >-0.050552</td>\n",
       "      <td id=\"T_a4062_row19_col4\" class=\"data row19 col4\" >-0.018980</td>\n",
       "      <td id=\"T_a4062_row19_col5\" class=\"data row19 col5\" >0.043351</td>\n",
       "      <td id=\"T_a4062_row19_col6\" class=\"data row19 col6\" >-0.064678</td>\n",
       "      <td id=\"T_a4062_row19_col7\" class=\"data row19 col7\" >0.084354</td>\n",
       "      <td id=\"T_a4062_row19_col8\" class=\"data row19 col8\" >0.040167</td>\n",
       "      <td id=\"T_a4062_row19_col9\" class=\"data row19 col9\" >0.247401</td>\n",
       "      <td id=\"T_a4062_row19_col10\" class=\"data row19 col10\" >0.223764</td>\n",
       "      <td id=\"T_a4062_row19_col11\" class=\"data row19 col11\" >0.201806</td>\n",
       "      <td id=\"T_a4062_row19_col12\" class=\"data row19 col12\" >0.471869</td>\n",
       "      <td id=\"T_a4062_row19_col13\" class=\"data row19 col13\" >0.495158</td>\n",
       "      <td id=\"T_a4062_row19_col14\" class=\"data row19 col14\" >0.638172</td>\n",
       "      <td id=\"T_a4062_row19_col15\" class=\"data row19 col15\" >0.556869</td>\n",
       "      <td id=\"T_a4062_row19_col16\" class=\"data row19 col16\" >0.517364</td>\n",
       "      <td id=\"T_a4062_row19_col17\" class=\"data row19 col17\" >0.485211</td>\n",
       "      <td id=\"T_a4062_row19_col18\" class=\"data row19 col18\" >0.511524</td>\n",
       "      <td id=\"T_a4062_row19_col19\" class=\"data row19 col19\" >1.000000</td>\n",
       "      <td id=\"T_a4062_row19_col20\" class=\"data row19 col20\" >0.520023</td>\n",
       "      <td id=\"T_a4062_row19_col21\" class=\"data row19 col21\" >0.519929</td>\n",
       "      <td id=\"T_a4062_row19_col22\" class=\"data row19 col22\" >0.494314</td>\n",
       "      <td id=\"T_a4062_row19_col23\" class=\"data row19 col23\" >0.491152</td>\n",
       "      <td id=\"T_a4062_row19_col24\" class=\"data row19 col24\" >-0.153873</td>\n",
       "    </tr>\n",
       "    <tr>\n",
       "      <th id=\"T_a4062_level0_row20\" class=\"row_heading level0 row20\" >pay_amt3</th>\n",
       "      <td id=\"T_a4062_row20_col0\" class=\"data row20 col0\" >0.092890</td>\n",
       "      <td id=\"T_a4062_row20_col1\" class=\"data row20 col1\" >0.286323</td>\n",
       "      <td id=\"T_a4062_row20_col2\" class=\"data row20 col2\" >0.022290</td>\n",
       "      <td id=\"T_a4062_row20_col3\" class=\"data row20 col3\" >-0.041430</td>\n",
       "      <td id=\"T_a4062_row20_col4\" class=\"data row20 col4\" >-0.014063</td>\n",
       "      <td id=\"T_a4062_row20_col5\" class=\"data row20 col5\" >0.033097</td>\n",
       "      <td id=\"T_a4062_row20_col6\" class=\"data row20 col6\" >-0.057278</td>\n",
       "      <td id=\"T_a4062_row20_col7\" class=\"data row20 col7\" >0.085765</td>\n",
       "      <td id=\"T_a4062_row20_col8\" class=\"data row20 col8\" >0.103918</td>\n",
       "      <td id=\"T_a4062_row20_col9\" class=\"data row20 col9\" >0.070495</td>\n",
       "      <td id=\"T_a4062_row20_col10\" class=\"data row20 col10\" >0.260984</td>\n",
       "      <td id=\"T_a4062_row20_col11\" class=\"data row20 col11\" >0.237673</td>\n",
       "      <td id=\"T_a4062_row20_col12\" class=\"data row20 col12\" >0.443412</td>\n",
       "      <td id=\"T_a4062_row20_col13\" class=\"data row20 col13\" >0.469246</td>\n",
       "      <td id=\"T_a4062_row20_col14\" class=\"data row20 col14\" >0.494517</td>\n",
       "      <td id=\"T_a4062_row20_col15\" class=\"data row20 col15\" >0.637250</td>\n",
       "      <td id=\"T_a4062_row20_col16\" class=\"data row20 col16\" >0.552131</td>\n",
       "      <td id=\"T_a4062_row20_col17\" class=\"data row20 col17\" >0.521612</td>\n",
       "      <td id=\"T_a4062_row20_col18\" class=\"data row20 col18\" >0.524567</td>\n",
       "      <td id=\"T_a4062_row20_col19\" class=\"data row20 col19\" >0.520023</td>\n",
       "      <td id=\"T_a4062_row20_col20\" class=\"data row20 col20\" >1.000000</td>\n",
       "      <td id=\"T_a4062_row20_col21\" class=\"data row20 col21\" >0.517068</td>\n",
       "      <td id=\"T_a4062_row20_col22\" class=\"data row20 col22\" >0.537496</td>\n",
       "      <td id=\"T_a4062_row20_col23\" class=\"data row20 col23\" >0.504445</td>\n",
       "      <td id=\"T_a4062_row20_col24\" class=\"data row20 col24\" >-0.140402</td>\n",
       "    </tr>\n",
       "    <tr>\n",
       "      <th id=\"T_a4062_level0_row21\" class=\"row_heading level0 row21\" >pay_amt4</th>\n",
       "      <td id=\"T_a4062_row21_col0\" class=\"data row21 col0\" >0.019025</td>\n",
       "      <td id=\"T_a4062_row21_col1\" class=\"data row21 col1\" >0.283519</td>\n",
       "      <td id=\"T_a4062_row21_col2\" class=\"data row21 col2\" >0.013667</td>\n",
       "      <td id=\"T_a4062_row21_col3\" class=\"data row21 col3\" >-0.041826</td>\n",
       "      <td id=\"T_a4062_row21_col4\" class=\"data row21 col4\" >-0.021571</td>\n",
       "      <td id=\"T_a4062_row21_col5\" class=\"data row21 col5\" >0.043230</td>\n",
       "      <td id=\"T_a4062_row21_col6\" class=\"data row21 col6\" >-0.031067</td>\n",
       "      <td id=\"T_a4062_row21_col7\" class=\"data row21 col7\" >0.095336</td>\n",
       "      <td id=\"T_a4062_row21_col8\" class=\"data row21 col8\" >0.120145</td>\n",
       "      <td id=\"T_a4062_row21_col9\" class=\"data row21 col9\" >0.144809</td>\n",
       "      <td id=\"T_a4062_row21_col10\" class=\"data row21 col10\" >0.107628</td>\n",
       "      <td id=\"T_a4062_row21_col11\" class=\"data row21 col11\" >0.285908</td>\n",
       "      <td id=\"T_a4062_row21_col12\" class=\"data row21 col12\" >0.439299</td>\n",
       "      <td id=\"T_a4062_row21_col13\" class=\"data row21 col13\" >0.457782</td>\n",
       "      <td id=\"T_a4062_row21_col14\" class=\"data row21 col14\" >0.488459</td>\n",
       "      <td id=\"T_a4062_row21_col15\" class=\"data row21 col15\" >0.510077</td>\n",
       "      <td id=\"T_a4062_row21_col16\" class=\"data row21 col16\" >0.648896</td>\n",
       "      <td id=\"T_a4062_row21_col17\" class=\"data row21 col17\" >0.572010</td>\n",
       "      <td id=\"T_a4062_row21_col18\" class=\"data row21 col18\" >0.484567</td>\n",
       "      <td id=\"T_a4062_row21_col19\" class=\"data row21 col19\" >0.519929</td>\n",
       "      <td id=\"T_a4062_row21_col20\" class=\"data row21 col20\" >0.517068</td>\n",
       "      <td id=\"T_a4062_row21_col21\" class=\"data row21 col21\" >1.000000</td>\n",
       "      <td id=\"T_a4062_row21_col22\" class=\"data row21 col22\" >0.537762</td>\n",
       "      <td id=\"T_a4062_row21_col23\" class=\"data row21 col23\" >0.546656</td>\n",
       "      <td id=\"T_a4062_row21_col24\" class=\"data row21 col24\" >-0.125164</td>\n",
       "    </tr>\n",
       "    <tr>\n",
       "      <th id=\"T_a4062_level0_row22\" class=\"row_heading level0 row22\" >pay_amt5</th>\n",
       "      <td id=\"T_a4062_row22_col0\" class=\"data row22 col0\" >0.011364</td>\n",
       "      <td id=\"T_a4062_row22_col1\" class=\"data row22 col1\" >0.294502</td>\n",
       "      <td id=\"T_a4062_row22_col2\" class=\"data row22 col2\" >0.013616</td>\n",
       "      <td id=\"T_a4062_row22_col3\" class=\"data row22 col3\" >-0.049480</td>\n",
       "      <td id=\"T_a4062_row22_col4\" class=\"data row22 col4\" >-0.017768</td>\n",
       "      <td id=\"T_a4062_row22_col5\" class=\"data row22 col5\" >0.039578</td>\n",
       "      <td id=\"T_a4062_row22_col6\" class=\"data row22 col6\" >-0.028266</td>\n",
       "      <td id=\"T_a4062_row22_col7\" class=\"data row22 col7\" >0.099057</td>\n",
       "      <td id=\"T_a4062_row22_col8\" class=\"data row22 col8\" >0.127454</td>\n",
       "      <td id=\"T_a4062_row22_col9\" class=\"data row22 col9\" >0.160479</td>\n",
       "      <td id=\"T_a4062_row22_col10\" class=\"data row22 col10\" >0.186140</td>\n",
       "      <td id=\"T_a4062_row22_col11\" class=\"data row22 col11\" >0.143262</td>\n",
       "      <td id=\"T_a4062_row22_col12\" class=\"data row22 col12\" >0.423434</td>\n",
       "      <td id=\"T_a4062_row22_col13\" class=\"data row22 col13\" >0.446900</td>\n",
       "      <td id=\"T_a4062_row22_col14\" class=\"data row22 col14\" >0.476392</td>\n",
       "      <td id=\"T_a4062_row22_col15\" class=\"data row22 col15\" >0.506268</td>\n",
       "      <td id=\"T_a4062_row22_col16\" class=\"data row22 col16\" >0.526219</td>\n",
       "      <td id=\"T_a4062_row22_col17\" class=\"data row22 col17\" >0.669533</td>\n",
       "      <td id=\"T_a4062_row22_col18\" class=\"data row22 col18\" >0.469239</td>\n",
       "      <td id=\"T_a4062_row22_col19\" class=\"data row22 col19\" >0.494314</td>\n",
       "      <td id=\"T_a4062_row22_col20\" class=\"data row22 col20\" >0.537496</td>\n",
       "      <td id=\"T_a4062_row22_col21\" class=\"data row22 col21\" >0.537762</td>\n",
       "      <td id=\"T_a4062_row22_col22\" class=\"data row22 col22\" >1.000000</td>\n",
       "      <td id=\"T_a4062_row22_col23\" class=\"data row22 col23\" >0.553199</td>\n",
       "      <td id=\"T_a4062_row22_col24\" class=\"data row22 col24\" >-0.119116</td>\n",
       "    </tr>\n",
       "    <tr>\n",
       "      <th id=\"T_a4062_level0_row23\" class=\"row_heading level0 row23\" >pay_amt6</th>\n",
       "      <td id=\"T_a4062_row23_col0\" class=\"data row23 col0\" >0.037639</td>\n",
       "      <td id=\"T_a4062_row23_col1\" class=\"data row23 col1\" >0.316610</td>\n",
       "      <td id=\"T_a4062_row23_col2\" class=\"data row23 col2\" >0.036850</td>\n",
       "      <td id=\"T_a4062_row23_col3\" class=\"data row23 col3\" >-0.053618</td>\n",
       "      <td id=\"T_a4062_row23_col4\" class=\"data row23 col4\" >-0.021047</td>\n",
       "      <td id=\"T_a4062_row23_col5\" class=\"data row23 col5\" >0.040332</td>\n",
       "      <td id=\"T_a4062_row23_col6\" class=\"data row23 col6\" >-0.046358</td>\n",
       "      <td id=\"T_a4062_row23_col7\" class=\"data row23 col7\" >0.080687</td>\n",
       "      <td id=\"T_a4062_row23_col8\" class=\"data row23 col8\" >0.094928</td>\n",
       "      <td id=\"T_a4062_row23_col9\" class=\"data row23 col9\" >0.140376</td>\n",
       "      <td id=\"T_a4062_row23_col10\" class=\"data row23 col10\" >0.171324</td>\n",
       "      <td id=\"T_a4062_row23_col11\" class=\"data row23 col11\" >0.197405</td>\n",
       "      <td id=\"T_a4062_row23_col12\" class=\"data row23 col12\" >0.408397</td>\n",
       "      <td id=\"T_a4062_row23_col13\" class=\"data row23 col13\" >0.425532</td>\n",
       "      <td id=\"T_a4062_row23_col14\" class=\"data row23 col14\" >0.456064</td>\n",
       "      <td id=\"T_a4062_row23_col15\" class=\"data row23 col15\" >0.480514</td>\n",
       "      <td id=\"T_a4062_row23_col16\" class=\"data row23 col16\" >0.508499</td>\n",
       "      <td id=\"T_a4062_row23_col17\" class=\"data row23 col17\" >0.530459</td>\n",
       "      <td id=\"T_a4062_row23_col18\" class=\"data row23 col18\" >0.453987</td>\n",
       "      <td id=\"T_a4062_row23_col19\" class=\"data row23 col19\" >0.491152</td>\n",
       "      <td id=\"T_a4062_row23_col20\" class=\"data row23 col20\" >0.504445</td>\n",
       "      <td id=\"T_a4062_row23_col21\" class=\"data row23 col21\" >0.546656</td>\n",
       "      <td id=\"T_a4062_row23_col22\" class=\"data row23 col22\" >0.553199</td>\n",
       "      <td id=\"T_a4062_row23_col23\" class=\"data row23 col23\" >1.000000</td>\n",
       "      <td id=\"T_a4062_row23_col24\" class=\"data row23 col24\" >-0.117298</td>\n",
       "    </tr>\n",
       "    <tr>\n",
       "      <th id=\"T_a4062_level0_row24\" class=\"row_heading level0 row24\" >target_default</th>\n",
       "      <td id=\"T_a4062_row24_col0\" class=\"data row24 col0\" >-0.013663</td>\n",
       "      <td id=\"T_a4062_row24_col1\" class=\"data row24 col1\" >-0.164635</td>\n",
       "      <td id=\"T_a4062_row24_col2\" class=\"data row24 col2\" >-0.043814</td>\n",
       "      <td id=\"T_a4062_row24_col3\" class=\"data row24 col3\" >0.047575</td>\n",
       "      <td id=\"T_a4062_row24_col4\" class=\"data row24 col4\" >-0.025359</td>\n",
       "      <td id=\"T_a4062_row24_col5\" class=\"data row24 col5\" >0.006196</td>\n",
       "      <td id=\"T_a4062_row24_col6\" class=\"data row24 col6\" >0.288651</td>\n",
       "      <td id=\"T_a4062_row24_col7\" class=\"data row24 col7\" >0.215009</td>\n",
       "      <td id=\"T_a4062_row24_col8\" class=\"data row24 col8\" >0.195484</td>\n",
       "      <td id=\"T_a4062_row24_col9\" class=\"data row24 col9\" >0.173174</td>\n",
       "      <td id=\"T_a4062_row24_col10\" class=\"data row24 col10\" >0.160608</td>\n",
       "      <td id=\"T_a4062_row24_col11\" class=\"data row24 col11\" >0.146320</td>\n",
       "      <td id=\"T_a4062_row24_col12\" class=\"data row24 col12\" >-0.023735</td>\n",
       "      <td id=\"T_a4062_row24_col13\" class=\"data row24 col13\" >-0.012825</td>\n",
       "      <td id=\"T_a4062_row24_col14\" class=\"data row24 col14\" >-0.011623</td>\n",
       "      <td id=\"T_a4062_row24_col15\" class=\"data row24 col15\" >-0.007717</td>\n",
       "      <td id=\"T_a4062_row24_col16\" class=\"data row24 col16\" >-0.003814</td>\n",
       "      <td id=\"T_a4062_row24_col17\" class=\"data row24 col17\" >0.001304</td>\n",
       "      <td id=\"T_a4062_row24_col18\" class=\"data row24 col18\" >-0.158395</td>\n",
       "      <td id=\"T_a4062_row24_col19\" class=\"data row24 col19\" >-0.153873</td>\n",
       "      <td id=\"T_a4062_row24_col20\" class=\"data row24 col20\" >-0.140402</td>\n",
       "      <td id=\"T_a4062_row24_col21\" class=\"data row24 col21\" >-0.125164</td>\n",
       "      <td id=\"T_a4062_row24_col22\" class=\"data row24 col22\" >-0.119116</td>\n",
       "      <td id=\"T_a4062_row24_col23\" class=\"data row24 col23\" >-0.117298</td>\n",
       "      <td id=\"T_a4062_row24_col24\" class=\"data row24 col24\" >1.000000</td>\n",
       "    </tr>\n",
       "  </tbody>\n",
       "</table>\n"
      ],
      "text/plain": [
       "<pandas.io.formats.style.Styler at 0x16a06ecd0>"
      ]
     },
     "execution_count": 8,
     "metadata": {},
     "output_type": "execute_result"
    }
   ],
   "source": [
    "train_df.corr('spearman').style.background_gradient()"
   ]
  },
  {
   "cell_type": "markdown",
   "metadata": {
    "tags": []
   },
   "source": [
    "- The correlation heatmap shows the pairwise correlation coefficients between numerical features. From this plot, we notice that correlation between repayments, correlation between bill amounts, and correlation between payment amounts are relatively high. "
   ]
  },
  {
   "cell_type": "code",
   "execution_count": 9,
   "metadata": {
    "tags": []
   },
   "outputs": [
    {
     "data": {
      "text/html": [
       "\n",
       "<style>\n",
       "  #altair-viz-97db8c86a206414fb39b023204f0299b.vega-embed {\n",
       "    width: 100%;\n",
       "    display: flex;\n",
       "  }\n",
       "\n",
       "  #altair-viz-97db8c86a206414fb39b023204f0299b.vega-embed details,\n",
       "  #altair-viz-97db8c86a206414fb39b023204f0299b.vega-embed details summary {\n",
       "    position: relative;\n",
       "  }\n",
       "</style>\n",
       "<div id=\"altair-viz-97db8c86a206414fb39b023204f0299b\"></div>\n",
       "<script type=\"text/javascript\">\n",
       "  var VEGA_DEBUG = (typeof VEGA_DEBUG == \"undefined\") ? {} : VEGA_DEBUG;\n",
       "  (function(spec, embedOpt){\n",
       "    let outputDiv = document.currentScript.previousElementSibling;\n",
       "    if (outputDiv.id !== \"altair-viz-97db8c86a206414fb39b023204f0299b\") {\n",
       "      outputDiv = document.getElementById(\"altair-viz-97db8c86a206414fb39b023204f0299b\");\n",
       "    }\n",
       "    const paths = {\n",
       "      \"vega\": \"https://cdn.jsdelivr.net/npm/vega@5?noext\",\n",
       "      \"vega-lib\": \"https://cdn.jsdelivr.net/npm/vega-lib?noext\",\n",
       "      \"vega-lite\": \"https://cdn.jsdelivr.net/npm/vega-lite@5.15.1?noext\",\n",
       "      \"vega-embed\": \"https://cdn.jsdelivr.net/npm/vega-embed@6?noext\",\n",
       "    };\n",
       "\n",
       "    function maybeLoadScript(lib, version) {\n",
       "      var key = `${lib.replace(\"-\", \"\")}_version`;\n",
       "      return (VEGA_DEBUG[key] == version) ?\n",
       "        Promise.resolve(paths[lib]) :\n",
       "        new Promise(function(resolve, reject) {\n",
       "          var s = document.createElement('script');\n",
       "          document.getElementsByTagName(\"head\")[0].appendChild(s);\n",
       "          s.async = true;\n",
       "          s.onload = () => {\n",
       "            VEGA_DEBUG[key] = version;\n",
       "            return resolve(paths[lib]);\n",
       "          };\n",
       "          s.onerror = () => reject(`Error loading script: ${paths[lib]}`);\n",
       "          s.src = paths[lib];\n",
       "        });\n",
       "    }\n",
       "\n",
       "    function showError(err) {\n",
       "      outputDiv.innerHTML = `<div class=\"error\" style=\"color:red;\">${err}</div>`;\n",
       "      throw err;\n",
       "    }\n",
       "\n",
       "    function displayChart(vegaEmbed) {\n",
       "      vegaEmbed(outputDiv, spec, embedOpt)\n",
       "        .catch(err => showError(`Javascript Error: ${err.message}<br>This usually means there's a typo in your chart specification. See the javascript console for the full traceback.`));\n",
       "    }\n",
       "\n",
       "    if(typeof define === \"function\" && define.amd) {\n",
       "      requirejs.config({paths});\n",
       "      require([\"vega-embed\"], displayChart, err => showError(`Error loading script: ${err.message}`));\n",
       "    } else {\n",
       "      maybeLoadScript(\"vega\", \"5\")\n",
       "        .then(() => maybeLoadScript(\"vega-lite\", \"5.15.1\"))\n",
       "        .then(() => maybeLoadScript(\"vega-embed\", \"6\"))\n",
       "        .catch(showError)\n",
       "        .then(() => displayChart(vegaEmbed));\n",
       "    }\n",
       "  })({\"$schema\": \"https://vega.github.io/schema/vega/v5.json\", \"data\": [{\"name\": \"source_0\"}, {\"name\": \"data_0\", \"values\": [{\"__count\": 1470, \"bin_maxbins_50_limit_bal\": 200000.0, \"bin_maxbins_50_limit_bal_end\": 220000.0, \"target_default\": 0}, {\"__count\": 272, \"bin_maxbins_50_limit_bal\": 120000.0, \"bin_maxbins_50_limit_bal_end\": 140000.0, \"target_default\": 1}, {\"__count\": 1863, \"bin_maxbins_50_limit_bal\": 20000.0, \"bin_maxbins_50_limit_bal_end\": 40000.0, \"target_default\": 0}, {\"__count\": 987, \"bin_maxbins_50_limit_bal\": 100000.0, \"bin_maxbins_50_limit_bal_end\": 120000.0, \"target_default\": 0}, {\"__count\": 573, \"bin_maxbins_50_limit_bal\": 280000.0, \"bin_maxbins_50_limit_bal_end\": 300000.0, \"target_default\": 0}, {\"__count\": 2096, \"bin_maxbins_50_limit_bal\": 40000.0, \"bin_maxbins_50_limit_bal_end\": 60000.0, \"target_default\": 0}, {\"__count\": 1198, \"bin_maxbins_50_limit_bal\": 140000.0, \"bin_maxbins_50_limit_bal_end\": 160000.0, \"target_default\": 0}, {\"__count\": 536, \"bin_maxbins_50_limit_bal\": 300000.0, \"bin_maxbins_50_limit_bal_end\": 320000.0, \"target_default\": 0}, {\"__count\": 10, \"bin_maxbins_50_limit_bal\": 700000.0, \"bin_maxbins_50_limit_bal_end\": 720000.0, \"target_default\": 0}, {\"__count\": 796, \"bin_maxbins_50_limit_bal\": 220000.0, \"bin_maxbins_50_limit_bal_end\": 240000.0, \"target_default\": 0}, {\"__count\": 246, \"bin_maxbins_50_limit_bal\": 0.0, \"bin_maxbins_50_limit_bal_end\": 20000.0, \"target_default\": 0}, {\"__count\": 106, \"bin_maxbins_50_limit_bal\": 480000.0, \"bin_maxbins_50_limit_bal_end\": 500000.0, \"target_default\": 0}, {\"__count\": 992, \"bin_maxbins_50_limit_bal\": 20000.0, \"bin_maxbins_50_limit_bal_end\": 40000.0, \"target_default\": 1}, {\"__count\": 815, \"bin_maxbins_50_limit_bal\": 160000.0, \"bin_maxbins_50_limit_bal_end\": 180000.0, \"target_default\": 0}, {\"__count\": 360, \"bin_maxbins_50_limit_bal\": 60000.0, \"bin_maxbins_50_limit_bal_end\": 80000.0, \"target_default\": 1}, {\"__count\": 885, \"bin_maxbins_50_limit_bal\": 120000.0, \"bin_maxbins_50_limit_bal_end\": 140000.0, \"target_default\": 0}, {\"__count\": 1349, \"bin_maxbins_50_limit_bal\": 80000.0, \"bin_maxbins_50_limit_bal_end\": 100000.0, \"target_default\": 0}, {\"__count\": 336, \"bin_maxbins_50_limit_bal\": 320000.0, \"bin_maxbins_50_limit_bal_end\": 340000.0, \"target_default\": 0}, {\"__count\": 316, \"bin_maxbins_50_limit_bal\": 340000.0, \"bin_maxbins_50_limit_bal_end\": 360000.0, \"target_default\": 0}, {\"__count\": 635, \"bin_maxbins_50_limit_bal\": 240000.0, \"bin_maxbins_50_limit_bal_end\": 260000.0, \"target_default\": 0}, {\"__count\": 511, \"bin_maxbins_50_limit_bal\": 260000.0, \"bin_maxbins_50_limit_bal_end\": 280000.0, \"target_default\": 0}, {\"__count\": 306, \"bin_maxbins_50_limit_bal\": 200000.0, \"bin_maxbins_50_limit_bal_end\": 220000.0, \"target_default\": 1}, {\"__count\": 163, \"bin_maxbins_50_limit_bal\": 220000.0, \"bin_maxbins_50_limit_bal_end\": 240000.0, \"target_default\": 1}, {\"__count\": 781, \"bin_maxbins_50_limit_bal\": 40000.0, \"bin_maxbins_50_limit_bal_end\": 60000.0, \"target_default\": 1}, {\"__count\": 877, \"bin_maxbins_50_limit_bal\": 60000.0, \"bin_maxbins_50_limit_bal_end\": 80000.0, \"target_default\": 0}, {\"__count\": 6, \"bin_maxbins_50_limit_bal\": 660000.0, \"bin_maxbins_50_limit_bal_end\": 680000.0, \"target_default\": 0}, {\"__count\": 545, \"bin_maxbins_50_limit_bal\": 500000.0, \"bin_maxbins_50_limit_bal_end\": 520000.0, \"target_default\": 0}, {\"__count\": 806, \"bin_maxbins_50_limit_bal\": 180000.0, \"bin_maxbins_50_limit_bal_end\": 200000.0, \"target_default\": 0}, {\"__count\": 664, \"bin_maxbins_50_limit_bal\": 360000.0, \"bin_maxbins_50_limit_bal_end\": 380000.0, \"target_default\": 0}, {\"__count\": 413, \"bin_maxbins_50_limit_bal\": 80000.0, \"bin_maxbins_50_limit_bal_end\": 100000.0, \"target_default\": 1}, {\"__count\": 65, \"bin_maxbins_50_limit_bal\": 500000.0, \"bin_maxbins_50_limit_bal_end\": 520000.0, \"target_default\": 1}, {\"__count\": 186, \"bin_maxbins_50_limit_bal\": 180000.0, \"bin_maxbins_50_limit_bal_end\": 200000.0, \"target_default\": 1}, {\"__count\": 238, \"bin_maxbins_50_limit_bal\": 380000.0, \"bin_maxbins_50_limit_bal_end\": 400000.0, \"target_default\": 0}, {\"__count\": 161, \"bin_maxbins_50_limit_bal\": 440000.0, \"bin_maxbins_50_limit_bal_end\": 460000.0, \"target_default\": 0}, {\"__count\": 176, \"bin_maxbins_50_limit_bal\": 420000.0, \"bin_maxbins_50_limit_bal_end\": 440000.0, \"target_default\": 0}, {\"__count\": 335, \"bin_maxbins_50_limit_bal\": 100000.0, \"bin_maxbins_50_limit_bal_end\": 120000.0, \"target_default\": 1}, {\"__count\": 161, \"bin_maxbins_50_limit_bal\": 0.0, \"bin_maxbins_50_limit_bal_end\": 20000.0, \"target_default\": 1}, {\"__count\": 37, \"bin_maxbins_50_limit_bal\": 400000.0, \"bin_maxbins_50_limit_bal_end\": 420000.0, \"target_default\": 1}, {\"__count\": 249, \"bin_maxbins_50_limit_bal\": 400000.0, \"bin_maxbins_50_limit_bal_end\": 420000.0, \"target_default\": 0}, {\"__count\": 132, \"bin_maxbins_50_limit_bal\": 360000.0, \"bin_maxbins_50_limit_bal_end\": 380000.0, \"target_default\": 1}, {\"__count\": 91, \"bin_maxbins_50_limit_bal\": 260000.0, \"bin_maxbins_50_limit_bal_end\": 280000.0, \"target_default\": 1}, {\"__count\": 109, \"bin_maxbins_50_limit_bal\": 460000.0, \"bin_maxbins_50_limit_bal_end\": 480000.0, \"target_default\": 0}, {\"__count\": 167, \"bin_maxbins_50_limit_bal\": 160000.0, \"bin_maxbins_50_limit_bal_end\": 180000.0, \"target_default\": 1}, {\"__count\": 295, \"bin_maxbins_50_limit_bal\": 140000.0, \"bin_maxbins_50_limit_bal_end\": 160000.0, \"target_default\": 1}, {\"__count\": 11, \"bin_maxbins_50_limit_bal\": 580000.0, \"bin_maxbins_50_limit_bal_end\": 600000.0, \"target_default\": 0}, {\"__count\": 49, \"bin_maxbins_50_limit_bal\": 340000.0, \"bin_maxbins_50_limit_bal_end\": 360000.0, \"target_default\": 1}, {\"__count\": 32, \"bin_maxbins_50_limit_bal\": 440000.0, \"bin_maxbins_50_limit_bal_end\": 460000.0, \"target_default\": 1}, {\"__count\": 102, \"bin_maxbins_50_limit_bal\": 280000.0, \"bin_maxbins_50_limit_bal_end\": 300000.0, \"target_default\": 1}, {\"__count\": 105, \"bin_maxbins_50_limit_bal\": 300000.0, \"bin_maxbins_50_limit_bal_end\": 320000.0, \"target_default\": 1}, {\"__count\": 24, \"bin_maxbins_50_limit_bal\": 520000.0, \"bin_maxbins_50_limit_bal_end\": 540000.0, \"target_default\": 0}, {\"__count\": 130, \"bin_maxbins_50_limit_bal\": 240000.0, \"bin_maxbins_50_limit_bal_end\": 260000.0, \"target_default\": 1}, {\"__count\": 23, \"bin_maxbins_50_limit_bal\": 420000.0, \"bin_maxbins_50_limit_bal_end\": 440000.0, \"target_default\": 1}, {\"__count\": 16, \"bin_maxbins_50_limit_bal\": 540000.0, \"bin_maxbins_50_limit_bal_end\": 560000.0, \"target_default\": 0}, {\"__count\": 18, \"bin_maxbins_50_limit_bal\": 460000.0, \"bin_maxbins_50_limit_bal_end\": 480000.0, \"target_default\": 1}, {\"__count\": 14, \"bin_maxbins_50_limit_bal\": 600000.0, \"bin_maxbins_50_limit_bal_end\": 620000.0, \"target_default\": 0}, {\"__count\": 11, \"bin_maxbins_50_limit_bal\": 480000.0, \"bin_maxbins_50_limit_bal_end\": 500000.0, \"target_default\": 1}, {\"__count\": 1, \"bin_maxbins_50_limit_bal\": 740000.0, \"bin_maxbins_50_limit_bal_end\": 760000.0, \"target_default\": 1}, {\"__count\": 6, \"bin_maxbins_50_limit_bal\": 540000.0, \"bin_maxbins_50_limit_bal_end\": 560000.0, \"target_default\": 1}, {\"__count\": 3, \"bin_maxbins_50_limit_bal\": 600000.0, \"bin_maxbins_50_limit_bal_end\": 620000.0, \"target_default\": 1}, {\"__count\": 32, \"bin_maxbins_50_limit_bal\": 380000.0, \"bin_maxbins_50_limit_bal_end\": 400000.0, \"target_default\": 1}, {\"__count\": 7, \"bin_maxbins_50_limit_bal\": 640000.0, \"bin_maxbins_50_limit_bal_end\": 660000.0, \"target_default\": 0}, {\"__count\": 56, \"bin_maxbins_50_limit_bal\": 320000.0, \"bin_maxbins_50_limit_bal_end\": 340000.0, \"target_default\": 1}, {\"__count\": 11, \"bin_maxbins_50_limit_bal\": 560000.0, \"bin_maxbins_50_limit_bal_end\": 580000.0, \"target_default\": 0}, {\"__count\": 11, \"bin_maxbins_50_limit_bal\": 620000.0, \"bin_maxbins_50_limit_bal_end\": 640000.0, \"target_default\": 0}, {\"__count\": 4, \"bin_maxbins_50_limit_bal\": 740000.0, \"bin_maxbins_50_limit_bal_end\": 760000.0, \"target_default\": 0}, {\"__count\": 1, \"bin_maxbins_50_limit_bal\": 980000.0, \"bin_maxbins_50_limit_bal_end\": 1000000.0, \"target_default\": 0}, {\"__count\": 1, \"bin_maxbins_50_limit_bal\": 680000.0, \"bin_maxbins_50_limit_bal_end\": 700000.0, \"target_default\": 1}, {\"__count\": 1, \"bin_maxbins_50_limit_bal\": 760000.0, \"bin_maxbins_50_limit_bal_end\": 780000.0, \"target_default\": 0}, {\"__count\": 1, \"bin_maxbins_50_limit_bal\": 720000.0, \"bin_maxbins_50_limit_bal_end\": 740000.0, \"target_default\": 1}, {\"__count\": 1, \"bin_maxbins_50_limit_bal\": 700000.0, \"bin_maxbins_50_limit_bal_end\": 720000.0, \"target_default\": 1}, {\"__count\": 3, \"bin_maxbins_50_limit_bal\": 720000.0, \"bin_maxbins_50_limit_bal_end\": 740000.0, \"target_default\": 0}, {\"__count\": 2, \"bin_maxbins_50_limit_bal\": 780000.0, \"bin_maxbins_50_limit_bal_end\": 800000.0, \"target_default\": 0}, {\"__count\": 1, \"bin_maxbins_50_limit_bal\": 560000.0, \"bin_maxbins_50_limit_bal_end\": 580000.0, \"target_default\": 1}, {\"__count\": 1, \"bin_maxbins_50_limit_bal\": 620000.0, \"bin_maxbins_50_limit_bal_end\": 640000.0, \"target_default\": 1}, {\"__count\": 1, \"bin_maxbins_50_limit_bal\": 580000.0, \"bin_maxbins_50_limit_bal_end\": 600000.0, \"target_default\": 1}, {\"__count\": 3, \"bin_maxbins_50_limit_bal\": 680000.0, \"bin_maxbins_50_limit_bal_end\": 700000.0, \"target_default\": 0}, {\"__count\": 2, \"bin_maxbins_50_limit_bal\": 520000.0, \"bin_maxbins_50_limit_bal_end\": 540000.0, \"target_default\": 1}, {\"__count\": 1, \"bin_maxbins_50_limit_bal\": 800000.0, \"bin_maxbins_50_limit_bal_end\": 820000.0, \"target_default\": 0}]}, {\"name\": \"data_1\", \"values\": [{\"__count\": 615, \"bin_maxbins_50_age\": 46.0, \"bin_maxbins_50_age_end\": 48.0, \"target_default\": 0}, {\"__count\": 363, \"bin_maxbins_50_age\": 32.0, \"bin_maxbins_50_age_end\": 34.0, \"target_default\": 1}, {\"__count\": 861, \"bin_maxbins_50_age\": 22.0, \"bin_maxbins_50_age_end\": 24.0, \"target_default\": 0}, {\"__count\": 1462, \"bin_maxbins_50_age\": 34.0, \"bin_maxbins_50_age_end\": 36.0, \"target_default\": 0}, {\"__count\": 1934, \"bin_maxbins_50_age\": 28.0, \"bin_maxbins_50_age_end\": 30.0, \"target_default\": 0}, {\"__count\": 448, \"bin_maxbins_50_age\": 50.0, \"bin_maxbins_50_age_end\": 52.0, \"target_default\": 0}, {\"__count\": 562, \"bin_maxbins_50_age\": 48.0, \"bin_maxbins_50_age_end\": 50.0, \"target_default\": 0}, {\"__count\": 846, \"bin_maxbins_50_age\": 44.0, \"bin_maxbins_50_age_end\": 46.0, \"target_default\": 0}, {\"__count\": 182, \"bin_maxbins_50_age\": 56.0, \"bin_maxbins_50_age_end\": 58.0, \"target_default\": 0}, {\"__count\": 1079, \"bin_maxbins_50_age\": 40.0, \"bin_maxbins_50_age_end\": 42.0, \"target_default\": 0}, {\"__count\": 1373, \"bin_maxbins_50_age\": 24.0, \"bin_maxbins_50_age_end\": 26.0, \"target_default\": 0}, {\"__count\": 1665, \"bin_maxbins_50_age\": 30.0, \"bin_maxbins_50_age_end\": 32.0, \"target_default\": 0}, {\"__count\": 1492, \"bin_maxbins_50_age\": 32.0, \"bin_maxbins_50_age_end\": 34.0, \"target_default\": 0}, {\"__count\": 1192, \"bin_maxbins_50_age\": 38.0, \"bin_maxbins_50_age_end\": 40.0, \"target_default\": 0}, {\"__count\": 120, \"bin_maxbins_50_age\": 52.0, \"bin_maxbins_50_age_end\": 54.0, \"target_default\": 1}, {\"__count\": 893, \"bin_maxbins_50_age\": 42.0, \"bin_maxbins_50_age_end\": 44.0, \"target_default\": 0}, {\"__count\": 1337, \"bin_maxbins_50_age\": 36.0, \"bin_maxbins_50_age_end\": 38.0, \"target_default\": 0}, {\"__count\": 395, \"bin_maxbins_50_age\": 36.0, \"bin_maxbins_50_age_end\": 38.0, \"target_default\": 1}, {\"__count\": 379, \"bin_maxbins_50_age\": 52.0, \"bin_maxbins_50_age_end\": 54.0, \"target_default\": 0}, {\"__count\": 488, \"bin_maxbins_50_age\": 24.0, \"bin_maxbins_50_age_end\": 26.0, \"target_default\": 1}, {\"__count\": 412, \"bin_maxbins_50_age\": 30.0, \"bin_maxbins_50_age_end\": 32.0, \"target_default\": 1}, {\"__count\": 299, \"bin_maxbins_50_age\": 40.0, \"bin_maxbins_50_age_end\": 42.0, \"target_default\": 1}, {\"__count\": 449, \"bin_maxbins_50_age\": 26.0, \"bin_maxbins_50_age_end\": 28.0, \"target_default\": 1}, {\"__count\": 275, \"bin_maxbins_50_age\": 54.0, \"bin_maxbins_50_age_end\": 56.0, \"target_default\": 0}, {\"__count\": 473, \"bin_maxbins_50_age\": 28.0, \"bin_maxbins_50_age_end\": 30.0, \"target_default\": 1}, {\"__count\": 1726, \"bin_maxbins_50_age\": 26.0, \"bin_maxbins_50_age_end\": 28.0, \"target_default\": 0}, {\"__count\": 273, \"bin_maxbins_50_age\": 42.0, \"bin_maxbins_50_age_end\": 44.0, \"target_default\": 1}, {\"__count\": 214, \"bin_maxbins_50_age\": 44.0, \"bin_maxbins_50_age_end\": 46.0, \"target_default\": 1}, {\"__count\": 328, \"bin_maxbins_50_age\": 22.0, \"bin_maxbins_50_age_end\": 24.0, \"target_default\": 1}, {\"__count\": 63, \"bin_maxbins_50_age\": 56.0, \"bin_maxbins_50_age_end\": 58.0, \"target_default\": 1}, {\"__count\": 367, \"bin_maxbins_50_age\": 34.0, \"bin_maxbins_50_age_end\": 36.0, \"target_default\": 1}, {\"__count\": 221, \"bin_maxbins_50_age\": 46.0, \"bin_maxbins_50_age_end\": 48.0, \"target_default\": 1}, {\"__count\": 62, \"bin_maxbins_50_age\": 60.0, \"bin_maxbins_50_age_end\": 62.0, \"target_default\": 0}, {\"__count\": 116, \"bin_maxbins_50_age\": 58.0, \"bin_maxbins_50_age_end\": 60.0, \"target_default\": 0}, {\"__count\": 23, \"bin_maxbins_50_age\": 66.0, \"bin_maxbins_50_age_end\": 68.0, \"target_default\": 0}, {\"__count\": 313, \"bin_maxbins_50_age\": 38.0, \"bin_maxbins_50_age_end\": 40.0, \"target_default\": 1}, {\"__count\": 11, \"bin_maxbins_50_age\": 64.0, \"bin_maxbins_50_age_end\": 66.0, \"target_default\": 1}, {\"__count\": 148, \"bin_maxbins_50_age\": 50.0, \"bin_maxbins_50_age_end\": 52.0, \"target_default\": 1}, {\"__count\": 46, \"bin_maxbins_50_age\": 58.0, \"bin_maxbins_50_age_end\": 60.0, \"target_default\": 1}, {\"__count\": 176, \"bin_maxbins_50_age\": 48.0, \"bin_maxbins_50_age_end\": 50.0, \"target_default\": 1}, {\"__count\": 47, \"bin_maxbins_50_age\": 62.0, \"bin_maxbins_50_age_end\": 64.0, \"target_default\": 0}, {\"__count\": 38, \"bin_maxbins_50_age\": 60.0, \"bin_maxbins_50_age_end\": 62.0, \"target_default\": 1}, {\"__count\": 39, \"bin_maxbins_50_age\": 20.0, \"bin_maxbins_50_age_end\": 22.0, \"target_default\": 0}, {\"__count\": 92, \"bin_maxbins_50_age\": 54.0, \"bin_maxbins_50_age_end\": 56.0, \"target_default\": 1}, {\"__count\": 14, \"bin_maxbins_50_age\": 68.0, \"bin_maxbins_50_age_end\": 70.0, \"target_default\": 0}, {\"__count\": 3, \"bin_maxbins_50_age\": 74.0, \"bin_maxbins_50_age_end\": 76.0, \"target_default\": 0}, {\"__count\": 11, \"bin_maxbins_50_age\": 20.0, \"bin_maxbins_50_age_end\": 22.0, \"target_default\": 1}, {\"__count\": 10, \"bin_maxbins_50_age\": 66.0, \"bin_maxbins_50_age_end\": 68.0, \"target_default\": 1}, {\"__count\": 7, \"bin_maxbins_50_age\": 70.0, \"bin_maxbins_50_age_end\": 72.0, \"target_default\": 0}, {\"__count\": 32, \"bin_maxbins_50_age\": 64.0, \"bin_maxbins_50_age_end\": 66.0, \"target_default\": 0}, {\"__count\": 4, \"bin_maxbins_50_age\": 68.0, \"bin_maxbins_50_age_end\": 70.0, \"target_default\": 1}, {\"__count\": 12, \"bin_maxbins_50_age\": 62.0, \"bin_maxbins_50_age_end\": 64.0, \"target_default\": 1}, {\"__count\": 4, \"bin_maxbins_50_age\": 72.0, \"bin_maxbins_50_age_end\": 74.0, \"target_default\": 1}, {\"__count\": 3, \"bin_maxbins_50_age\": 72.0, \"bin_maxbins_50_age_end\": 74.0, \"target_default\": 0}, {\"__count\": 1, \"bin_maxbins_50_age\": 78.0, \"bin_maxbins_50_age_end\": 80.0, \"target_default\": 0}, {\"__count\": 1, \"bin_maxbins_50_age\": 74.0, \"bin_maxbins_50_age_end\": 76.0, \"target_default\": 1}, {\"__count\": 1, \"bin_maxbins_50_age\": 70.0, \"bin_maxbins_50_age_end\": 72.0, \"target_default\": 1}]}, {\"name\": \"data_1_color_domain_target_default_0\", \"values\": [{\"target_default\": 0}, {\"target_default\": 1}]}, {\"name\": \"data_0_color_domain_target_default_1\", \"values\": [{\"target_default\": 0}, {\"target_default\": 1}]}, {\"name\": \"data_1_child__row_age_y_domain___count\", \"values\": [{\"min\": 1, \"max\": 1934}]}, {\"name\": \"data_0_child__row_limit_bal_y_domain___count\", \"values\": [{\"min\": 1, \"max\": 2096}]}], \"signals\": [{\"name\": \"child__row_age_bin_maxbins_50_age_bins\", \"value\": {\"fields\": [\"age\"], \"fname\": \"bin_age\", \"start\": 20.0, \"step\": 2.0, \"stop\": 80.0}}, {\"name\": \"child__row_limit_bal_bin_maxbins_50_limit_bal_bins\", \"value\": {\"fields\": [\"limit_bal\"], \"fname\": \"bin_limit_bal\", \"start\": 0.0, \"step\": 20000.0, \"stop\": 1000000.0}}, {\"name\": \"childHeight\", \"value\": 200}], \"marks\": [{\"type\": \"group\", \"name\": \"child__row_age_group\", \"encode\": {\"update\": {\"width\": {\"signal\": \"width\"}, \"height\": {\"signal\": \"childHeight\"}}}, \"marks\": [{\"type\": \"rect\", \"name\": \"child__row_age_marks\", \"from\": {\"data\": \"data_1\"}, \"encode\": {\"update\": {\"ariaRoleDescription\": {\"value\": \"bar\"}, \"x\": {\"field\": \"bin_maxbins_50_age_end\", \"scale\": \"child__row_age_x\", \"offset\": {\"signal\": \"0.5 + (abs(scale(\\\"child__row_age_x\\\", datum[\\\"bin_maxbins_50_age_end\\\"]) - scale(\\\"child__row_age_x\\\", datum[\\\"bin_maxbins_50_age\\\"])) < 0.25 ? 0.5 * (0.25 - (abs(scale(\\\"child__row_age_x\\\", datum[\\\"bin_maxbins_50_age_end\\\"]) - scale(\\\"child__row_age_x\\\", datum[\\\"bin_maxbins_50_age\\\"])))) : -0.5)\"}}, \"opacity\": {\"value\": 0.6}, \"y2\": {\"value\": 0, \"scale\": \"child__row_age_y\"}, \"x2\": {\"field\": \"bin_maxbins_50_age\", \"scale\": \"child__row_age_x\", \"offset\": {\"signal\": \"0.5 + (abs(scale(\\\"child__row_age_x\\\", datum[\\\"bin_maxbins_50_age_end\\\"]) - scale(\\\"child__row_age_x\\\", datum[\\\"bin_maxbins_50_age\\\"])) < 0.25 ? -0.5 * (0.25 - (abs(scale(\\\"child__row_age_x\\\", datum[\\\"bin_maxbins_50_age_end\\\"]) - scale(\\\"child__row_age_x\\\", datum[\\\"bin_maxbins_50_age\\\"])))) : 0.5)\"}}, \"y\": {\"field\": \"__count\", \"scale\": \"child__row_age_y\"}, \"fill\": {\"field\": \"target_default\", \"scale\": \"color\"}, \"description\": {\"signal\": \"\\\"age (binned): \\\" + (!isValid(datum[\\\"bin_maxbins_50_age\\\"]) || !isFinite(+datum[\\\"bin_maxbins_50_age\\\"]) ? \\\"null\\\" : format(datum[\\\"bin_maxbins_50_age\\\"], \\\"\\\") + \\\" \\u2013 \\\" + format(datum[\\\"bin_maxbins_50_age_end\\\"], \\\"\\\")) + \\\"; Count of Records: \\\" + (format(datum[\\\"__count\\\"], \\\"\\\")) + \\\"; target_default: \\\" + (isValid(datum[\\\"target_default\\\"]) ? datum[\\\"target_default\\\"] : \\\"\\\"+datum[\\\"target_default\\\"])\"}}}, \"style\": [\"bar\"]}], \"axes\": [{\"scale\": \"child__row_age_y\", \"orient\": \"left\", \"grid\": true, \"aria\": false, \"labels\": false, \"gridScale\": \"child__row_age_x\", \"tickCount\": {\"signal\": \"ceil(childHeight/40)\"}, \"domain\": false, \"maxExtent\": 0, \"minExtent\": 0, \"zindex\": 0, \"ticks\": false}, {\"scale\": \"child__row_age_x\", \"labelFlush\": true, \"title\": \"age (binned)\", \"zindex\": 0, \"tickCount\": {\"signal\": \"ceil(width/10)\"}, \"labelOverlap\": true, \"grid\": false, \"orient\": \"bottom\"}, {\"scale\": \"child__row_age_y\", \"orient\": \"left\", \"title\": \"Count of Records\", \"labelOverlap\": true, \"zindex\": 0, \"tickCount\": {\"signal\": \"ceil(childHeight/40)\"}, \"grid\": false}], \"style\": \"cell\"}, {\"type\": \"group\", \"name\": \"child__row_limit_bal_group\", \"encode\": {\"update\": {\"height\": {\"signal\": \"childHeight\"}, \"width\": {\"signal\": \"width\"}}}, \"marks\": [{\"type\": \"rect\", \"name\": \"child__row_limit_bal_marks\", \"from\": {\"data\": \"data_0\"}, \"encode\": {\"update\": {\"opacity\": {\"value\": 0.6}, \"x\": {\"field\": \"bin_maxbins_50_limit_bal_end\", \"scale\": \"child__row_limit_bal_x\", \"offset\": {\"signal\": \"0.5 + (abs(scale(\\\"child__row_limit_bal_x\\\", datum[\\\"bin_maxbins_50_limit_bal_end\\\"]) - scale(\\\"child__row_limit_bal_x\\\", datum[\\\"bin_maxbins_50_limit_bal\\\"])) < 0.25 ? 0.5 * (0.25 - (abs(scale(\\\"child__row_limit_bal_x\\\", datum[\\\"bin_maxbins_50_limit_bal_end\\\"]) - scale(\\\"child__row_limit_bal_x\\\", datum[\\\"bin_maxbins_50_limit_bal\\\"])))) : -0.5)\"}}, \"x2\": {\"field\": \"bin_maxbins_50_limit_bal\", \"scale\": \"child__row_limit_bal_x\", \"offset\": {\"signal\": \"0.5 + (abs(scale(\\\"child__row_limit_bal_x\\\", datum[\\\"bin_maxbins_50_limit_bal_end\\\"]) - scale(\\\"child__row_limit_bal_x\\\", datum[\\\"bin_maxbins_50_limit_bal\\\"])) < 0.25 ? -0.5 * (0.25 - (abs(scale(\\\"child__row_limit_bal_x\\\", datum[\\\"bin_maxbins_50_limit_bal_end\\\"]) - scale(\\\"child__row_limit_bal_x\\\", datum[\\\"bin_maxbins_50_limit_bal\\\"])))) : 0.5)\"}}, \"y\": {\"field\": \"__count\", \"scale\": \"child__row_limit_bal_y\"}, \"y2\": {\"value\": 0, \"scale\": \"child__row_limit_bal_y\"}, \"ariaRoleDescription\": {\"value\": \"bar\"}, \"description\": {\"signal\": \"\\\"limit_bal (binned): \\\" + (!isValid(datum[\\\"bin_maxbins_50_limit_bal\\\"]) || !isFinite(+datum[\\\"bin_maxbins_50_limit_bal\\\"]) ? \\\"null\\\" : format(datum[\\\"bin_maxbins_50_limit_bal\\\"], \\\"\\\") + \\\" \\u2013 \\\" + format(datum[\\\"bin_maxbins_50_limit_bal_end\\\"], \\\"\\\")) + \\\"; Count of Records: \\\" + (format(datum[\\\"__count\\\"], \\\"\\\")) + \\\"; target_default: \\\" + (isValid(datum[\\\"target_default\\\"]) ? datum[\\\"target_default\\\"] : \\\"\\\"+datum[\\\"target_default\\\"])\"}, \"fill\": {\"field\": \"target_default\", \"scale\": \"color\"}}}, \"style\": [\"bar\"]}], \"axes\": [{\"scale\": \"child__row_limit_bal_y\", \"aria\": false, \"maxExtent\": 0, \"minExtent\": 0, \"zindex\": 0, \"orient\": \"left\", \"gridScale\": \"child__row_limit_bal_x\", \"grid\": true, \"ticks\": false, \"domain\": false, \"tickCount\": {\"signal\": \"ceil(childHeight/40)\"}, \"labels\": false}, {\"scale\": \"child__row_limit_bal_x\", \"labelFlush\": true, \"tickCount\": {\"signal\": \"ceil(width/10)\"}, \"zindex\": 0, \"orient\": \"bottom\", \"grid\": false, \"title\": \"limit_bal (binned)\", \"labelOverlap\": true}, {\"scale\": \"child__row_limit_bal_y\", \"tickCount\": {\"signal\": \"ceil(childHeight/40)\"}, \"orient\": \"left\", \"title\": \"Count of Records\", \"grid\": false, \"labelOverlap\": true, \"zindex\": 0}], \"style\": \"cell\"}], \"scales\": [{\"name\": \"color\", \"type\": \"ordinal\", \"domain\": {\"fields\": [{\"data\": \"data_1_color_domain_target_default_0\", \"field\": \"target_default\"}, {\"data\": \"data_0_color_domain_target_default_1\", \"field\": \"target_default\"}], \"sort\": true}, \"range\": \"category\"}, {\"name\": \"child__row_age_x\", \"type\": \"linear\", \"domain\": {\"signal\": \"[child__row_age_bin_maxbins_50_age_bins.start, child__row_age_bin_maxbins_50_age_bins.stop]\"}, \"range\": [0, {\"signal\": \"width\"}], \"bins\": {\"signal\": \"child__row_age_bin_maxbins_50_age_bins\"}, \"zero\": false}, {\"name\": \"child__row_age_y\", \"type\": \"linear\", \"domain\": [{\"signal\": \"(data(\\\"data_1_child__row_age_y_domain___count\\\")[0] || {}).min\"}, {\"signal\": \"(data(\\\"data_1_child__row_age_y_domain___count\\\")[0] || {}).max\"}], \"range\": [{\"signal\": \"childHeight\"}, 0], \"nice\": true, \"zero\": true}, {\"name\": \"child__row_limit_bal_x\", \"type\": \"linear\", \"domain\": {\"signal\": \"[child__row_limit_bal_bin_maxbins_50_limit_bal_bins.start, child__row_limit_bal_bin_maxbins_50_limit_bal_bins.stop]\"}, \"range\": [0, {\"signal\": \"width\"}], \"bins\": {\"signal\": \"child__row_limit_bal_bin_maxbins_50_limit_bal_bins\"}, \"zero\": false}, {\"name\": \"child__row_limit_bal_y\", \"type\": \"linear\", \"domain\": [{\"signal\": \"(data(\\\"data_0_child__row_limit_bal_y_domain___count\\\")[0] || {}).min\"}, {\"signal\": \"(data(\\\"data_0_child__row_limit_bal_y_domain___count\\\")[0] || {}).max\"}], \"range\": [{\"signal\": \"childHeight\"}, 0], \"nice\": true, \"zero\": true}], \"layout\": {\"padding\": 20, \"columns\": 1, \"bounds\": \"full\", \"align\": \"all\"}, \"legends\": [{\"fill\": \"color\", \"symbolType\": \"square\", \"title\": \"target_default\", \"encode\": {\"symbols\": {\"update\": {\"opacity\": {\"value\": 0.6}}}}}], \"width\": 300, \"background\": \"white\", \"padding\": 5}, {\"mode\": \"vega\"});\n",
       "</script>"
      ],
      "text/plain": [
       "alt.RepeatChart(...)"
      ]
     },
     "execution_count": 9,
     "metadata": {},
     "output_type": "execute_result"
    }
   ],
   "source": [
    "# Distribution of some numerics columns\n",
    "eda_num_columns = ['age', 'limit_bal']\n",
    "alt.Chart(train_df).mark_bar(opacity=0.6).encode(\n",
    "    alt.X(alt.repeat('row')).bin(maxbins=50),\n",
    "    alt.Y('count()').stack(False),\n",
    "    color='target_default:N'\n",
    ").properties(\n",
    "    width=300,\n",
    "    height=200\n",
    ").repeat(row=eda_num_columns)"
   ]
  },
  {
   "cell_type": "code",
   "execution_count": 10,
   "metadata": {
    "tags": []
   },
   "outputs": [
    {
     "data": {
      "text/html": [
       "\n",
       "<style>\n",
       "  #altair-viz-f55e636dd582433680fb082c69ad2dae.vega-embed {\n",
       "    width: 100%;\n",
       "    display: flex;\n",
       "  }\n",
       "\n",
       "  #altair-viz-f55e636dd582433680fb082c69ad2dae.vega-embed details,\n",
       "  #altair-viz-f55e636dd582433680fb082c69ad2dae.vega-embed details summary {\n",
       "    position: relative;\n",
       "  }\n",
       "</style>\n",
       "<div id=\"altair-viz-f55e636dd582433680fb082c69ad2dae\"></div>\n",
       "<script type=\"text/javascript\">\n",
       "  var VEGA_DEBUG = (typeof VEGA_DEBUG == \"undefined\") ? {} : VEGA_DEBUG;\n",
       "  (function(spec, embedOpt){\n",
       "    let outputDiv = document.currentScript.previousElementSibling;\n",
       "    if (outputDiv.id !== \"altair-viz-f55e636dd582433680fb082c69ad2dae\") {\n",
       "      outputDiv = document.getElementById(\"altair-viz-f55e636dd582433680fb082c69ad2dae\");\n",
       "    }\n",
       "    const paths = {\n",
       "      \"vega\": \"https://cdn.jsdelivr.net/npm/vega@5?noext\",\n",
       "      \"vega-lib\": \"https://cdn.jsdelivr.net/npm/vega-lib?noext\",\n",
       "      \"vega-lite\": \"https://cdn.jsdelivr.net/npm/vega-lite@5.15.1?noext\",\n",
       "      \"vega-embed\": \"https://cdn.jsdelivr.net/npm/vega-embed@6?noext\",\n",
       "    };\n",
       "\n",
       "    function maybeLoadScript(lib, version) {\n",
       "      var key = `${lib.replace(\"-\", \"\")}_version`;\n",
       "      return (VEGA_DEBUG[key] == version) ?\n",
       "        Promise.resolve(paths[lib]) :\n",
       "        new Promise(function(resolve, reject) {\n",
       "          var s = document.createElement('script');\n",
       "          document.getElementsByTagName(\"head\")[0].appendChild(s);\n",
       "          s.async = true;\n",
       "          s.onload = () => {\n",
       "            VEGA_DEBUG[key] = version;\n",
       "            return resolve(paths[lib]);\n",
       "          };\n",
       "          s.onerror = () => reject(`Error loading script: ${paths[lib]}`);\n",
       "          s.src = paths[lib];\n",
       "        });\n",
       "    }\n",
       "\n",
       "    function showError(err) {\n",
       "      outputDiv.innerHTML = `<div class=\"error\" style=\"color:red;\">${err}</div>`;\n",
       "      throw err;\n",
       "    }\n",
       "\n",
       "    function displayChart(vegaEmbed) {\n",
       "      vegaEmbed(outputDiv, spec, embedOpt)\n",
       "        .catch(err => showError(`Javascript Error: ${err.message}<br>This usually means there's a typo in your chart specification. See the javascript console for the full traceback.`));\n",
       "    }\n",
       "\n",
       "    if(typeof define === \"function\" && define.amd) {\n",
       "      requirejs.config({paths});\n",
       "      require([\"vega-embed\"], displayChart, err => showError(`Error loading script: ${err.message}`));\n",
       "    } else {\n",
       "      maybeLoadScript(\"vega\", \"5\")\n",
       "        .then(() => maybeLoadScript(\"vega-lite\", \"5.15.1\"))\n",
       "        .then(() => maybeLoadScript(\"vega-embed\", \"6\"))\n",
       "        .catch(showError)\n",
       "        .then(() => displayChart(vegaEmbed));\n",
       "    }\n",
       "  })({\"$schema\": \"https://vega.github.io/schema/vega/v5.json\", \"data\": [{\"name\": \"source_0\"}, {\"name\": \"child__row_education_facet_domain\"}, {\"name\": \"child__row_education_facet_domain_row\", \"values\": [{\"data\": 0.0}]}, {\"name\": \"child__row_education_facet_domain_column\", \"values\": [{\"data\": 0.0}, {\"data\": 1.0}]}, {\"name\": \"data_2\", \"values\": [{\"__count_end\": 8559.0, \"__count_start\": 0.0, \"target_default\": 0}, {\"__count_end\": 1644.0, \"__count_start\": 0.0, \"target_default\": 1}, {\"__count_end\": 6850.0, \"__count_start\": 0.0, \"target_default\": 0}, {\"__count_end\": 213.0, \"__count_start\": 0.0, \"target_default\": 0}, {\"__count_end\": 2917.0, \"__count_start\": 0.0, \"target_default\": 0}, {\"__count_end\": 1021.0, \"__count_start\": 0.0, \"target_default\": 1}, {\"__count_end\": 2639.0, \"__count_start\": 0.0, \"target_default\": 1}, {\"__count_end\": 85.0, \"__count_start\": 0.0, \"target_default\": 0}, {\"__count_end\": 33.0, \"__count_start\": 0.0, \"target_default\": 0}, {\"__count_end\": 6.0, \"__count_start\": 0.0, \"target_default\": 1}, {\"__count_end\": 6.0, \"__count_start\": 0.0, \"target_default\": 1}, {\"__count_end\": 16.0, \"__count_start\": 0.0, \"target_default\": 1}, {\"__count_end\": 11.0, \"__count_start\": 0.0, \"target_default\": 0}]}, {\"name\": \"child__row_marriage_facet_domain\"}, {\"name\": \"child__row_marriage_facet_domain_row\", \"values\": [{\"data\": 0.0}]}, {\"name\": \"child__row_marriage_facet_domain_column\", \"values\": [{\"data\": 0.0}, {\"data\": 1.0}]}, {\"name\": \"data_4\", \"values\": [{\"__count_end\": 8344.0, \"__count_start\": 0.0, \"target_default\": 0}, {\"__count_end\": 2561.0, \"__count_start\": 0.0, \"target_default\": 1}, {\"__count_end\": 10099.0, \"__count_start\": 0.0, \"target_default\": 0}, {\"__count_end\": 193.0, \"__count_start\": 0.0, \"target_default\": 0}, {\"__count_end\": 32.0, \"__count_start\": 0.0, \"target_default\": 0}, {\"__count_end\": 2699.0, \"__count_start\": 0.0, \"target_default\": 1}, {\"__count_end\": 5.0, \"__count_start\": 0.0, \"target_default\": 1}, {\"__count_end\": 67.0, \"__count_start\": 0.0, \"target_default\": 1}]}, {\"name\": \"child__row_sex_facet_domain\"}, {\"name\": \"child__row_sex_facet_domain_row\", \"values\": [{\"data\": 0.0}]}, {\"name\": \"child__row_sex_facet_domain_column\", \"values\": [{\"data\": 0.0}, {\"data\": 1.0}]}, {\"name\": \"data_6\", \"values\": [{\"__count_end\": 11473.0, \"__count_start\": 0.0, \"target_default\": 0}, {\"__count_end\": 3002.0, \"__count_start\": 0.0, \"target_default\": 1}, {\"__count_end\": 7195.0, \"__count_start\": 0.0, \"target_default\": 0}, {\"__count_end\": 2330.0, \"__count_start\": 0.0, \"target_default\": 1}]}, {\"name\": \"data_2_color_domain_target_default_0\", \"values\": [{\"target_default\": 0}, {\"target_default\": 1}]}, {\"name\": \"data_4_color_domain_target_default_1\", \"values\": [{\"target_default\": 0}, {\"target_default\": 1}]}, {\"name\": \"data_6_color_domain_target_default_2\", \"values\": [{\"target_default\": 0}, {\"target_default\": 1}]}, {\"name\": \"source_0_child__row_education_y_domain_education\", \"values\": [{\"education\": 2, \"sort_field\": 11198}, {\"education\": 1, \"sort_field\": 8494}, {\"education\": 5, \"sort_field\": 229}, {\"education\": 3, \"sort_field\": 3938}, {\"education\": 4, \"sort_field\": 91}, {\"education\": 6, \"sort_field\": 39}, {\"education\": 0, \"sort_field\": 11}]}, {\"name\": \"source_0_child__row_marriage_y_domain_marriage\", \"values\": [{\"marriage\": 1, \"sort_field\": 10905}, {\"marriage\": 2, \"sort_field\": 12798}, {\"marriage\": 3, \"sort_field\": 260}, {\"marriage\": 0, \"sort_field\": 37}]}, {\"name\": \"source_0_child__row_sex_y_domain_sex\", \"values\": [{\"sex\": 2, \"sort_field\": 14475}, {\"sex\": 1, \"sort_field\": 9525}]}, {\"name\": \"source_0_facet_child__row_education_facet0\", \"values\": [{\"education\": 2, \"target_default\": 0, \"__count\": 8559}, {\"education\": 1, \"target_default\": 1, \"__count\": 1644}, {\"education\": 1, \"target_default\": 0, \"__count\": 6850}, {\"education\": 5, \"target_default\": 0, \"__count\": 213}, {\"education\": 3, \"target_default\": 0, \"__count\": 2917}, {\"education\": 3, \"target_default\": 1, \"__count\": 1021}, {\"education\": 2, \"target_default\": 1, \"__count\": 2639}, {\"education\": 4, \"target_default\": 0, \"__count\": 85}, {\"education\": 6, \"target_default\": 0, \"__count\": 33}, {\"education\": 6, \"target_default\": 1, \"__count\": 6}, {\"education\": 4, \"target_default\": 1, \"__count\": 6}, {\"education\": 5, \"target_default\": 1, \"__count\": 16}, {\"education\": 0, \"target_default\": 0, \"__count\": 11}]}, {\"name\": \"source_0_facet_child__row_marriage_facet1\", \"values\": [{\"marriage\": 1, \"target_default\": 0, \"__count\": 8344}, {\"marriage\": 1, \"target_default\": 1, \"__count\": 2561}, {\"marriage\": 2, \"target_default\": 0, \"__count\": 10099}, {\"marriage\": 3, \"target_default\": 0, \"__count\": 193}, {\"marriage\": 0, \"target_default\": 0, \"__count\": 32}, {\"marriage\": 2, \"target_default\": 1, \"__count\": 2699}, {\"marriage\": 0, \"target_default\": 1, \"__count\": 5}, {\"marriage\": 3, \"target_default\": 1, \"__count\": 67}]}, {\"name\": \"source_0_facet_child__row_sex_facet2\", \"values\": [{\"sex\": 2, \"target_default\": 0, \"__count\": 11473}, {\"sex\": 2, \"target_default\": 1, \"__count\": 3002}, {\"sex\": 1, \"target_default\": 0, \"__count\": 7195}, {\"sex\": 1, \"target_default\": 1, \"__count\": 2330}]}], \"signals\": [{\"name\": \"child__row_education_child_width\", \"value\": 300}, {\"name\": \"child__row_education_child_height\", \"value\": 200}, {\"name\": \"child__row_marriage_child_width\", \"value\": 300}, {\"name\": \"child__row_marriage_child_height\", \"value\": 200}, {\"name\": \"child__row_sex_child_width\", \"value\": 300}, {\"name\": \"child__row_sex_child_height\", \"value\": 200}], \"marks\": [{\"type\": \"group\", \"name\": \"child__row_education_group\", \"marks\": [{\"type\": \"group\", \"name\": \"facet-title\", \"title\": {\"text\": \"target_default\", \"style\": \"guide-title\", \"offset\": 10}, \"role\": \"column-title\"}, {\"type\": \"group\", \"name\": \"child__row_education_row_header\", \"from\": {\"data\": \"child__row_education_facet_domain_row\"}, \"encode\": {\"update\": {\"height\": {\"signal\": \"child__row_education_child_height\"}}}, \"axes\": [{\"scale\": \"child__row_education_y\", \"title\": \"education\", \"orient\": \"left\", \"grid\": false, \"zindex\": 0}], \"role\": \"row-header\"}, {\"type\": \"group\", \"name\": \"child__row_education_column_footer\", \"from\": {\"data\": \"child__row_education_facet_domain_column\"}, \"encode\": {\"update\": {\"width\": {\"signal\": \"child__row_education_child_width\"}}}, \"axes\": [{\"scale\": \"child__row_education_x\", \"orient\": \"bottom\", \"zindex\": 0, \"title\": \"Count of Records\", \"tickCount\": {\"signal\": \"ceil(child__row_education_child_width/40)\"}, \"labelFlush\": true, \"grid\": false, \"labelOverlap\": true}], \"role\": \"column-footer\"}, {\"type\": \"group\", \"name\": \"child__row_education_cell\", \"from\": {\"facet\": {\"data\": \"source_0_facet_child__row_education_facet0\", \"name\": \"child__row_education_facet\", \"groupby\": [\"target_default\"]}}, \"sort\": {\"field\": [\"datum[\\\"target_default\\\"]\"], \"order\": [\"ascending\"]}, \"encode\": {\"update\": {\"width\": {\"signal\": \"child__row_education_child_width\"}, \"height\": {\"signal\": \"child__row_education_child_height\"}}}, \"data\": [{\"name\": \"data_0\", \"source\": \"child__row_education_facet\", \"transform\": [{\"type\": \"stack\", \"field\": \"__count\", \"groupby\": [\"education\"], \"sort\": {\"field\": [\"target_default\"], \"order\": [\"ascending\"]}, \"as\": [\"__count_start\", \"__count_end\"], \"offset\": \"zero\"}, {\"type\": \"project\", \"fields\": [\"__count\", \"__count_end\", \"__count_start\", \"education\", \"target_default\"]}]}], \"marks\": [{\"type\": \"rect\", \"name\": \"child__row_education_child_marks\", \"from\": {\"data\": \"data_0\"}, \"encode\": {\"update\": {\"fill\": {\"field\": \"target_default\", \"scale\": \"color\"}, \"x\": {\"field\": \"__count_end\", \"scale\": \"child__row_education_x\"}, \"y\": {\"field\": \"education\", \"scale\": \"child__row_education_y\"}, \"ariaRoleDescription\": {\"value\": \"bar\"}, \"height\": {\"signal\": \"max(0.25, bandwidth('child__row_education_y'))\"}, \"x2\": {\"field\": \"__count_start\", \"scale\": \"child__row_education_x\"}, \"description\": {\"signal\": \"\\\"Count of Records: \\\" + (format(datum[\\\"__count\\\"], \\\"\\\")) + \\\"; education: \\\" + (isValid(datum[\\\"education\\\"]) ? datum[\\\"education\\\"] : \\\"\\\"+datum[\\\"education\\\"]) + \\\"; target_default: \\\" + (isValid(datum[\\\"target_default\\\"]) ? datum[\\\"target_default\\\"] : \\\"\\\"+datum[\\\"target_default\\\"])\"}}}, \"style\": [\"bar\"]}], \"axes\": [{\"scale\": \"child__row_education_x\", \"minExtent\": 0, \"tickCount\": {\"signal\": \"ceil(child__row_education_child_width/40)\"}, \"aria\": false, \"domain\": false, \"ticks\": false, \"grid\": true, \"zindex\": 0, \"gridScale\": \"child__row_education_y\", \"orient\": \"bottom\", \"maxExtent\": 0, \"labels\": false}], \"title\": {\"text\": {\"signal\": \"format(parent[\\\"target_default\\\"], \\\"\\\")\"}, \"offset\": 10, \"style\": \"guide-label\", \"frame\": \"group\"}, \"style\": \"cell\"}], \"layout\": {\"padding\": 20, \"bounds\": \"full\", \"align\": \"all\"}}, {\"type\": \"group\", \"name\": \"child__row_marriage_group\", \"marks\": [{\"type\": \"group\", \"name\": \"facet-title\", \"title\": {\"text\": \"target_default\", \"style\": \"guide-title\", \"offset\": 10}, \"role\": \"column-title\"}, {\"type\": \"group\", \"name\": \"child__row_marriage_row_header\", \"from\": {\"data\": \"child__row_marriage_facet_domain_row\"}, \"encode\": {\"update\": {\"height\": {\"signal\": \"child__row_marriage_child_height\"}}}, \"axes\": [{\"scale\": \"child__row_marriage_y\", \"grid\": false, \"title\": \"marriage\", \"zindex\": 0, \"orient\": \"left\"}], \"role\": \"row-header\"}, {\"type\": \"group\", \"name\": \"child__row_marriage_column_footer\", \"from\": {\"data\": \"child__row_marriage_facet_domain_column\"}, \"encode\": {\"update\": {\"width\": {\"signal\": \"child__row_marriage_child_width\"}}}, \"axes\": [{\"scale\": \"child__row_marriage_x\", \"title\": \"Count of Records\", \"labelFlush\": true, \"labelOverlap\": true, \"tickCount\": {\"signal\": \"ceil(child__row_marriage_child_width/40)\"}, \"zindex\": 0, \"grid\": false, \"orient\": \"bottom\"}], \"role\": \"column-footer\"}, {\"type\": \"group\", \"name\": \"child__row_marriage_cell\", \"from\": {\"facet\": {\"data\": \"source_0_facet_child__row_marriage_facet1\", \"name\": \"child__row_marriage_facet\", \"groupby\": [\"target_default\"]}}, \"sort\": {\"field\": [\"datum[\\\"target_default\\\"]\"], \"order\": [\"ascending\"]}, \"encode\": {\"update\": {\"width\": {\"signal\": \"child__row_marriage_child_width\"}, \"height\": {\"signal\": \"child__row_marriage_child_height\"}}}, \"data\": [{\"name\": \"data_0\", \"source\": \"child__row_marriage_facet\", \"transform\": [{\"type\": \"stack\", \"field\": \"__count\", \"groupby\": [\"marriage\"], \"sort\": {\"field\": [\"target_default\"], \"order\": [\"ascending\"]}, \"as\": [\"__count_start\", \"__count_end\"], \"offset\": \"zero\"}, {\"type\": \"project\", \"fields\": [\"__count\", \"__count_end\", \"__count_start\", \"marriage\", \"target_default\"]}]}], \"marks\": [{\"type\": \"rect\", \"name\": \"child__row_marriage_child_marks\", \"from\": {\"data\": \"data_0\"}, \"encode\": {\"update\": {\"fill\": {\"field\": \"target_default\", \"scale\": \"color\"}, \"ariaRoleDescription\": {\"value\": \"bar\"}, \"y\": {\"field\": \"marriage\", \"scale\": \"child__row_marriage_y\"}, \"height\": {\"signal\": \"max(0.25, bandwidth('child__row_marriage_y'))\"}, \"description\": {\"signal\": \"\\\"Count of Records: \\\" + (format(datum[\\\"__count\\\"], \\\"\\\")) + \\\"; marriage: \\\" + (isValid(datum[\\\"marriage\\\"]) ? datum[\\\"marriage\\\"] : \\\"\\\"+datum[\\\"marriage\\\"]) + \\\"; target_default: \\\" + (isValid(datum[\\\"target_default\\\"]) ? datum[\\\"target_default\\\"] : \\\"\\\"+datum[\\\"target_default\\\"])\"}, \"x\": {\"field\": \"__count_end\", \"scale\": \"child__row_marriage_x\"}, \"x2\": {\"field\": \"__count_start\", \"scale\": \"child__row_marriage_x\"}}}, \"style\": [\"bar\"]}], \"axes\": [{\"scale\": \"child__row_marriage_x\", \"tickCount\": {\"signal\": \"ceil(child__row_marriage_child_width/40)\"}, \"maxExtent\": 0, \"zindex\": 0, \"orient\": \"bottom\", \"grid\": true, \"gridScale\": \"child__row_marriage_y\", \"domain\": false, \"labels\": false, \"aria\": false, \"minExtent\": 0, \"ticks\": false}], \"title\": {\"text\": {\"signal\": \"format(parent[\\\"target_default\\\"], \\\"\\\")\"}, \"style\": \"guide-label\", \"frame\": \"group\", \"offset\": 10}, \"style\": \"cell\"}], \"layout\": {\"padding\": 20, \"bounds\": \"full\", \"align\": \"all\"}}, {\"type\": \"group\", \"name\": \"child__row_sex_group\", \"marks\": [{\"type\": \"group\", \"name\": \"facet-title\", \"title\": {\"text\": \"target_default\", \"offset\": 10, \"style\": \"guide-title\"}, \"role\": \"column-title\"}, {\"type\": \"group\", \"name\": \"child__row_sex_row_header\", \"from\": {\"data\": \"child__row_sex_facet_domain_row\"}, \"encode\": {\"update\": {\"height\": {\"signal\": \"child__row_sex_child_height\"}}}, \"axes\": [{\"scale\": \"child__row_sex_y\", \"orient\": \"left\", \"title\": \"sex\", \"zindex\": 0, \"grid\": false}], \"role\": \"row-header\"}, {\"type\": \"group\", \"name\": \"child__row_sex_column_footer\", \"from\": {\"data\": \"child__row_sex_facet_domain_column\"}, \"encode\": {\"update\": {\"width\": {\"signal\": \"child__row_sex_child_width\"}}}, \"axes\": [{\"scale\": \"child__row_sex_x\", \"zindex\": 0, \"grid\": false, \"title\": \"Count of Records\", \"labelOverlap\": true, \"orient\": \"bottom\", \"labelFlush\": true, \"tickCount\": {\"signal\": \"ceil(child__row_sex_child_width/40)\"}}], \"role\": \"column-footer\"}, {\"type\": \"group\", \"name\": \"child__row_sex_cell\", \"from\": {\"facet\": {\"data\": \"source_0_facet_child__row_sex_facet2\", \"name\": \"child__row_sex_facet\", \"groupby\": [\"target_default\"]}}, \"sort\": {\"field\": [\"datum[\\\"target_default\\\"]\"], \"order\": [\"ascending\"]}, \"encode\": {\"update\": {\"height\": {\"signal\": \"child__row_sex_child_height\"}, \"width\": {\"signal\": \"child__row_sex_child_width\"}}}, \"data\": [{\"name\": \"data_0\", \"source\": \"child__row_sex_facet\", \"transform\": [{\"type\": \"stack\", \"field\": \"__count\", \"groupby\": [\"sex\"], \"sort\": {\"field\": [\"target_default\"], \"order\": [\"ascending\"]}, \"as\": [\"__count_start\", \"__count_end\"], \"offset\": \"zero\"}, {\"type\": \"project\", \"fields\": [\"__count\", \"__count_end\", \"__count_start\", \"sex\", \"target_default\"]}]}], \"marks\": [{\"type\": \"rect\", \"name\": \"child__row_sex_child_marks\", \"from\": {\"data\": \"data_0\"}, \"encode\": {\"update\": {\"y\": {\"field\": \"sex\", \"scale\": \"child__row_sex_y\"}, \"x\": {\"field\": \"__count_end\", \"scale\": \"child__row_sex_x\"}, \"ariaRoleDescription\": {\"value\": \"bar\"}, \"description\": {\"signal\": \"\\\"Count of Records: \\\" + (format(datum[\\\"__count\\\"], \\\"\\\")) + \\\"; sex: \\\" + (isValid(datum[\\\"sex\\\"]) ? datum[\\\"sex\\\"] : \\\"\\\"+datum[\\\"sex\\\"]) + \\\"; target_default: \\\" + (isValid(datum[\\\"target_default\\\"]) ? datum[\\\"target_default\\\"] : \\\"\\\"+datum[\\\"target_default\\\"])\"}, \"x2\": {\"field\": \"__count_start\", \"scale\": \"child__row_sex_x\"}, \"fill\": {\"field\": \"target_default\", \"scale\": \"color\"}, \"height\": {\"signal\": \"max(0.25, bandwidth('child__row_sex_y'))\"}}}, \"style\": [\"bar\"]}], \"axes\": [{\"scale\": \"child__row_sex_x\", \"gridScale\": \"child__row_sex_y\", \"tickCount\": {\"signal\": \"ceil(child__row_sex_child_width/40)\"}, \"aria\": false, \"zindex\": 0, \"domain\": false, \"orient\": \"bottom\", \"labels\": false, \"grid\": true, \"ticks\": false, \"minExtent\": 0, \"maxExtent\": 0}], \"title\": {\"text\": {\"signal\": \"format(parent[\\\"target_default\\\"], \\\"\\\")\"}, \"offset\": 10, \"style\": \"guide-label\", \"frame\": \"group\"}, \"style\": \"cell\"}], \"layout\": {\"padding\": 20, \"bounds\": \"full\", \"align\": \"all\"}}], \"scales\": [{\"name\": \"color\", \"type\": \"ordinal\", \"domain\": {\"fields\": [{\"data\": \"data_2_color_domain_target_default_0\", \"field\": \"target_default\"}, {\"data\": \"data_4_color_domain_target_default_1\", \"field\": \"target_default\"}, {\"data\": \"data_6_color_domain_target_default_2\", \"field\": \"target_default\"}], \"sort\": true}, \"range\": \"category\"}, {\"name\": \"child__row_education_x\", \"type\": \"linear\", \"domain\": {\"data\": \"data_2\", \"fields\": [\"__count_start\", \"__count_end\"]}, \"range\": [0, {\"signal\": \"child__row_education_child_width\"}], \"nice\": true, \"zero\": true}, {\"name\": \"child__row_education_y\", \"type\": \"band\", \"domain\": {\"data\": \"source_0_child__row_education_y_domain_education\", \"field\": \"education\", \"sort\": {\"op\": \"max\", \"field\": \"sort_field\", \"order\": \"descending\"}}, \"range\": [0, {\"signal\": \"child__row_education_child_height\"}], \"paddingOuter\": 0.05, \"paddingInner\": 0.1}, {\"name\": \"child__row_marriage_x\", \"type\": \"linear\", \"domain\": {\"data\": \"data_4\", \"fields\": [\"__count_start\", \"__count_end\"]}, \"range\": [0, {\"signal\": \"child__row_marriage_child_width\"}], \"nice\": true, \"zero\": true}, {\"name\": \"child__row_marriage_y\", \"type\": \"band\", \"domain\": {\"data\": \"source_0_child__row_marriage_y_domain_marriage\", \"field\": \"marriage\", \"sort\": {\"op\": \"max\", \"field\": \"sort_field\", \"order\": \"descending\"}}, \"range\": [0, {\"signal\": \"child__row_marriage_child_height\"}], \"paddingOuter\": 0.05, \"paddingInner\": 0.1}, {\"name\": \"child__row_sex_x\", \"type\": \"linear\", \"domain\": {\"data\": \"data_6\", \"fields\": [\"__count_start\", \"__count_end\"]}, \"range\": [0, {\"signal\": \"child__row_sex_child_width\"}], \"nice\": true, \"zero\": true}, {\"name\": \"child__row_sex_y\", \"type\": \"band\", \"domain\": {\"data\": \"source_0_child__row_sex_y_domain_sex\", \"field\": \"sex\", \"sort\": {\"op\": \"max\", \"field\": \"sort_field\", \"order\": \"descending\"}}, \"range\": [0, {\"signal\": \"child__row_sex_child_height\"}], \"paddingOuter\": 0.05, \"paddingInner\": 0.1}], \"legends\": [{\"fill\": \"color\", \"symbolType\": \"square\", \"title\": \"target_default\"}], \"padding\": 5, \"layout\": {\"padding\": 20, \"columns\": 1, \"bounds\": \"full\", \"align\": \"all\"}, \"background\": \"white\"}, {\"mode\": \"vega\"});\n",
       "</script>"
      ],
      "text/plain": [
       "alt.RepeatChart(...)"
      ]
     },
     "execution_count": 10,
     "metadata": {},
     "output_type": "execute_result"
    }
   ],
   "source": [
    "# Distribution of some categorical columns\n",
    "eda_cat_columns = ['education', 'marriage', 'sex']\n",
    "alt.Chart(train_df).mark_bar().encode(\n",
    "    alt.Y(alt.repeat('row')).type(\"nominal\").sort('-x'),\n",
    "    alt.X('count()'),\n",
    "    color='target_default:N'\n",
    ").properties(\n",
    "    width=300,\n",
    "    height=200\n",
    ").facet('target_default').repeat(row=eda_cat_columns)"
   ]
  },
  {
   "cell_type": "markdown",
   "metadata": {
    "deletable": false,
    "editable": false
   },
   "source": [
    "<!-- END QUESTION -->\n",
    "\n",
    "<!-- BEGIN QUESTION -->\n",
    "\n",
    "<div class=\"alert alert-warning\">\n",
    "\n",
    "## 4. Feature engineering (Challenging)\n",
    "rubric={reasoning}\n",
    "\n",
    "**Your tasks:**\n",
    "\n",
    "1. Carry out feature engineering. In other words, extract new features relevant for the problem and work with your new feature set in the following exercises. You may have to go back and forth between feature engineering and preprocessing.\n",
    "    \n",
    "</div>\n",
    "\n",
    "_Points:_ 0.5"
   ]
  },
  {
   "cell_type": "code",
   "execution_count": 11,
   "metadata": {
    "tags": []
   },
   "outputs": [
    {
     "data": {
      "text/plain": [
       "Ellipsis"
      ]
     },
     "execution_count": 11,
     "metadata": {},
     "output_type": "execute_result"
    }
   ],
   "source": [
    "..."
   ]
  },
  {
   "cell_type": "markdown",
   "metadata": {
    "deletable": false,
    "editable": false
   },
   "source": [
    "<!-- END QUESTION -->\n",
    "\n",
    "<!-- BEGIN QUESTION -->\n",
    "\n",
    "<div class=\"alert alert-info\">\n",
    "\n",
    "## 5. Preprocessing and transformations <a name=\"5\"></a>\n",
    "rubric={accuracy,reasoning}\n",
    "\n",
    "**Your tasks:**\n",
    "\n",
    "1. Identify different feature types and the transformations you would apply on each feature type. \n",
    "2. Define a column transformer, if necessary. \n",
    "    \n",
    "</div>\n",
    "\n",
    "_Points:_ 4"
   ]
  },
  {
   "cell_type": "code",
   "execution_count": 12,
   "metadata": {
    "tags": []
   },
   "outputs": [],
   "source": [
    "drop_feats = ['id']\n",
    "numeric_feats = ['limit_bal', 'age',\n",
    "                 'bill_amt1', 'bill_amt2', 'bill_amt3', 'bill_amt4', 'bill_amt5', 'bill_amt6',\n",
    "                 'pay_amt1', 'pay_amt2', 'pay_amt3', 'pay_amt4', 'pay_amt5', 'pay_amt6']\n",
    "categorical_feats = ['sex', 'marriage']\n",
    "pass_feats = ['education',\n",
    "              'pay_0', 'pay_2', 'pay_3', 'pay_4', 'pay_5', 'pay_6']"
   ]
  },
  {
   "cell_type": "code",
   "execution_count": 13,
   "metadata": {
    "tags": []
   },
   "outputs": [
    {
     "data": {
      "text/html": [
       "<style>#sk-container-id-1 {color: black;}#sk-container-id-1 pre{padding: 0;}#sk-container-id-1 div.sk-toggleable {background-color: white;}#sk-container-id-1 label.sk-toggleable__label {cursor: pointer;display: block;width: 100%;margin-bottom: 0;padding: 0.3em;box-sizing: border-box;text-align: center;}#sk-container-id-1 label.sk-toggleable__label-arrow:before {content: \"▸\";float: left;margin-right: 0.25em;color: #696969;}#sk-container-id-1 label.sk-toggleable__label-arrow:hover:before {color: black;}#sk-container-id-1 div.sk-estimator:hover label.sk-toggleable__label-arrow:before {color: black;}#sk-container-id-1 div.sk-toggleable__content {max-height: 0;max-width: 0;overflow: hidden;text-align: left;background-color: #f0f8ff;}#sk-container-id-1 div.sk-toggleable__content pre {margin: 0.2em;color: black;border-radius: 0.25em;background-color: #f0f8ff;}#sk-container-id-1 input.sk-toggleable__control:checked~div.sk-toggleable__content {max-height: 200px;max-width: 100%;overflow: auto;}#sk-container-id-1 input.sk-toggleable__control:checked~label.sk-toggleable__label-arrow:before {content: \"▾\";}#sk-container-id-1 div.sk-estimator input.sk-toggleable__control:checked~label.sk-toggleable__label {background-color: #d4ebff;}#sk-container-id-1 div.sk-label input.sk-toggleable__control:checked~label.sk-toggleable__label {background-color: #d4ebff;}#sk-container-id-1 input.sk-hidden--visually {border: 0;clip: rect(1px 1px 1px 1px);clip: rect(1px, 1px, 1px, 1px);height: 1px;margin: -1px;overflow: hidden;padding: 0;position: absolute;width: 1px;}#sk-container-id-1 div.sk-estimator {font-family: monospace;background-color: #f0f8ff;border: 1px dotted black;border-radius: 0.25em;box-sizing: border-box;margin-bottom: 0.5em;}#sk-container-id-1 div.sk-estimator:hover {background-color: #d4ebff;}#sk-container-id-1 div.sk-parallel-item::after {content: \"\";width: 100%;border-bottom: 1px solid gray;flex-grow: 1;}#sk-container-id-1 div.sk-label:hover label.sk-toggleable__label {background-color: #d4ebff;}#sk-container-id-1 div.sk-serial::before {content: \"\";position: absolute;border-left: 1px solid gray;box-sizing: border-box;top: 0;bottom: 0;left: 50%;z-index: 0;}#sk-container-id-1 div.sk-serial {display: flex;flex-direction: column;align-items: center;background-color: white;padding-right: 0.2em;padding-left: 0.2em;position: relative;}#sk-container-id-1 div.sk-item {position: relative;z-index: 1;}#sk-container-id-1 div.sk-parallel {display: flex;align-items: stretch;justify-content: center;background-color: white;position: relative;}#sk-container-id-1 div.sk-item::before, #sk-container-id-1 div.sk-parallel-item::before {content: \"\";position: absolute;border-left: 1px solid gray;box-sizing: border-box;top: 0;bottom: 0;left: 50%;z-index: -1;}#sk-container-id-1 div.sk-parallel-item {display: flex;flex-direction: column;z-index: 1;position: relative;background-color: white;}#sk-container-id-1 div.sk-parallel-item:first-child::after {align-self: flex-end;width: 50%;}#sk-container-id-1 div.sk-parallel-item:last-child::after {align-self: flex-start;width: 50%;}#sk-container-id-1 div.sk-parallel-item:only-child::after {width: 0;}#sk-container-id-1 div.sk-dashed-wrapped {border: 1px dashed gray;margin: 0 0.4em 0.5em 0.4em;box-sizing: border-box;padding-bottom: 0.4em;background-color: white;}#sk-container-id-1 div.sk-label label {font-family: monospace;font-weight: bold;display: inline-block;line-height: 1.2em;}#sk-container-id-1 div.sk-label-container {text-align: center;}#sk-container-id-1 div.sk-container {/* jupyter's `normalize.less` sets `[hidden] { display: none; }` but bootstrap.min.css set `[hidden] { display: none !important; }` so we also need the `!important` here to be able to override the default hidden behavior on the sphinx rendered scikit-learn.org. See: https://github.com/scikit-learn/scikit-learn/issues/21755 */display: inline-block !important;position: relative;}#sk-container-id-1 div.sk-text-repr-fallback {display: none;}</style><div id=\"sk-container-id-1\" class=\"sk-top-container\"><div class=\"sk-text-repr-fallback\"><pre>ColumnTransformer(transformers=[(&#x27;standardscaler&#x27;, StandardScaler(),\n",
       "                                 [&#x27;limit_bal&#x27;, &#x27;age&#x27;, &#x27;bill_amt1&#x27;, &#x27;bill_amt2&#x27;,\n",
       "                                  &#x27;bill_amt3&#x27;, &#x27;bill_amt4&#x27;, &#x27;bill_amt5&#x27;,\n",
       "                                  &#x27;bill_amt6&#x27;, &#x27;pay_amt1&#x27;, &#x27;pay_amt2&#x27;,\n",
       "                                  &#x27;pay_amt3&#x27;, &#x27;pay_amt4&#x27;, &#x27;pay_amt5&#x27;,\n",
       "                                  &#x27;pay_amt6&#x27;]),\n",
       "                                (&#x27;passthrough&#x27;, &#x27;passthrough&#x27;,\n",
       "                                 [&#x27;education&#x27;, &#x27;pay_0&#x27;, &#x27;pay_2&#x27;, &#x27;pay_3&#x27;,\n",
       "                                  &#x27;pay_4&#x27;, &#x27;pay_5&#x27;, &#x27;pay_6&#x27;]),\n",
       "                                (&#x27;onehotencoder&#x27;,\n",
       "                                 OneHotEncoder(drop=&#x27;if_binary&#x27;,\n",
       "                                               handle_unknown=&#x27;ignore&#x27;),\n",
       "                                 [&#x27;sex&#x27;, &#x27;marriage&#x27;]),\n",
       "                                (&#x27;drop&#x27;, &#x27;drop&#x27;, [&#x27;id&#x27;])])</pre><b>In a Jupyter environment, please rerun this cell to show the HTML representation or trust the notebook. <br />On GitHub, the HTML representation is unable to render, please try loading this page with nbviewer.org.</b></div><div class=\"sk-container\" hidden><div class=\"sk-item sk-dashed-wrapped\"><div class=\"sk-label-container\"><div class=\"sk-label sk-toggleable\"><input class=\"sk-toggleable__control sk-hidden--visually\" id=\"sk-estimator-id-1\" type=\"checkbox\" ><label for=\"sk-estimator-id-1\" class=\"sk-toggleable__label sk-toggleable__label-arrow\">ColumnTransformer</label><div class=\"sk-toggleable__content\"><pre>ColumnTransformer(transformers=[(&#x27;standardscaler&#x27;, StandardScaler(),\n",
       "                                 [&#x27;limit_bal&#x27;, &#x27;age&#x27;, &#x27;bill_amt1&#x27;, &#x27;bill_amt2&#x27;,\n",
       "                                  &#x27;bill_amt3&#x27;, &#x27;bill_amt4&#x27;, &#x27;bill_amt5&#x27;,\n",
       "                                  &#x27;bill_amt6&#x27;, &#x27;pay_amt1&#x27;, &#x27;pay_amt2&#x27;,\n",
       "                                  &#x27;pay_amt3&#x27;, &#x27;pay_amt4&#x27;, &#x27;pay_amt5&#x27;,\n",
       "                                  &#x27;pay_amt6&#x27;]),\n",
       "                                (&#x27;passthrough&#x27;, &#x27;passthrough&#x27;,\n",
       "                                 [&#x27;education&#x27;, &#x27;pay_0&#x27;, &#x27;pay_2&#x27;, &#x27;pay_3&#x27;,\n",
       "                                  &#x27;pay_4&#x27;, &#x27;pay_5&#x27;, &#x27;pay_6&#x27;]),\n",
       "                                (&#x27;onehotencoder&#x27;,\n",
       "                                 OneHotEncoder(drop=&#x27;if_binary&#x27;,\n",
       "                                               handle_unknown=&#x27;ignore&#x27;),\n",
       "                                 [&#x27;sex&#x27;, &#x27;marriage&#x27;]),\n",
       "                                (&#x27;drop&#x27;, &#x27;drop&#x27;, [&#x27;id&#x27;])])</pre></div></div></div><div class=\"sk-parallel\"><div class=\"sk-parallel-item\"><div class=\"sk-item\"><div class=\"sk-label-container\"><div class=\"sk-label sk-toggleable\"><input class=\"sk-toggleable__control sk-hidden--visually\" id=\"sk-estimator-id-2\" type=\"checkbox\" ><label for=\"sk-estimator-id-2\" class=\"sk-toggleable__label sk-toggleable__label-arrow\">standardscaler</label><div class=\"sk-toggleable__content\"><pre>[&#x27;limit_bal&#x27;, &#x27;age&#x27;, &#x27;bill_amt1&#x27;, &#x27;bill_amt2&#x27;, &#x27;bill_amt3&#x27;, &#x27;bill_amt4&#x27;, &#x27;bill_amt5&#x27;, &#x27;bill_amt6&#x27;, &#x27;pay_amt1&#x27;, &#x27;pay_amt2&#x27;, &#x27;pay_amt3&#x27;, &#x27;pay_amt4&#x27;, &#x27;pay_amt5&#x27;, &#x27;pay_amt6&#x27;]</pre></div></div></div><div class=\"sk-serial\"><div class=\"sk-item\"><div class=\"sk-estimator sk-toggleable\"><input class=\"sk-toggleable__control sk-hidden--visually\" id=\"sk-estimator-id-3\" type=\"checkbox\" ><label for=\"sk-estimator-id-3\" class=\"sk-toggleable__label sk-toggleable__label-arrow\">StandardScaler</label><div class=\"sk-toggleable__content\"><pre>StandardScaler()</pre></div></div></div></div></div></div><div class=\"sk-parallel-item\"><div class=\"sk-item\"><div class=\"sk-label-container\"><div class=\"sk-label sk-toggleable\"><input class=\"sk-toggleable__control sk-hidden--visually\" id=\"sk-estimator-id-4\" type=\"checkbox\" ><label for=\"sk-estimator-id-4\" class=\"sk-toggleable__label sk-toggleable__label-arrow\">passthrough</label><div class=\"sk-toggleable__content\"><pre>[&#x27;education&#x27;, &#x27;pay_0&#x27;, &#x27;pay_2&#x27;, &#x27;pay_3&#x27;, &#x27;pay_4&#x27;, &#x27;pay_5&#x27;, &#x27;pay_6&#x27;]</pre></div></div></div><div class=\"sk-serial\"><div class=\"sk-item\"><div class=\"sk-estimator sk-toggleable\"><input class=\"sk-toggleable__control sk-hidden--visually\" id=\"sk-estimator-id-5\" type=\"checkbox\" ><label for=\"sk-estimator-id-5\" class=\"sk-toggleable__label sk-toggleable__label-arrow\">passthrough</label><div class=\"sk-toggleable__content\"><pre>passthrough</pre></div></div></div></div></div></div><div class=\"sk-parallel-item\"><div class=\"sk-item\"><div class=\"sk-label-container\"><div class=\"sk-label sk-toggleable\"><input class=\"sk-toggleable__control sk-hidden--visually\" id=\"sk-estimator-id-6\" type=\"checkbox\" ><label for=\"sk-estimator-id-6\" class=\"sk-toggleable__label sk-toggleable__label-arrow\">onehotencoder</label><div class=\"sk-toggleable__content\"><pre>[&#x27;sex&#x27;, &#x27;marriage&#x27;]</pre></div></div></div><div class=\"sk-serial\"><div class=\"sk-item\"><div class=\"sk-estimator sk-toggleable\"><input class=\"sk-toggleable__control sk-hidden--visually\" id=\"sk-estimator-id-7\" type=\"checkbox\" ><label for=\"sk-estimator-id-7\" class=\"sk-toggleable__label sk-toggleable__label-arrow\">OneHotEncoder</label><div class=\"sk-toggleable__content\"><pre>OneHotEncoder(drop=&#x27;if_binary&#x27;, handle_unknown=&#x27;ignore&#x27;)</pre></div></div></div></div></div></div><div class=\"sk-parallel-item\"><div class=\"sk-item\"><div class=\"sk-label-container\"><div class=\"sk-label sk-toggleable\"><input class=\"sk-toggleable__control sk-hidden--visually\" id=\"sk-estimator-id-8\" type=\"checkbox\" ><label for=\"sk-estimator-id-8\" class=\"sk-toggleable__label sk-toggleable__label-arrow\">drop</label><div class=\"sk-toggleable__content\"><pre>[&#x27;id&#x27;]</pre></div></div></div><div class=\"sk-serial\"><div class=\"sk-item\"><div class=\"sk-estimator sk-toggleable\"><input class=\"sk-toggleable__control sk-hidden--visually\" id=\"sk-estimator-id-9\" type=\"checkbox\" ><label for=\"sk-estimator-id-9\" class=\"sk-toggleable__label sk-toggleable__label-arrow\">drop</label><div class=\"sk-toggleable__content\"><pre>drop</pre></div></div></div></div></div></div></div></div></div></div>"
      ],
      "text/plain": [
       "ColumnTransformer(transformers=[('standardscaler', StandardScaler(),\n",
       "                                 ['limit_bal', 'age', 'bill_amt1', 'bill_amt2',\n",
       "                                  'bill_amt3', 'bill_amt4', 'bill_amt5',\n",
       "                                  'bill_amt6', 'pay_amt1', 'pay_amt2',\n",
       "                                  'pay_amt3', 'pay_amt4', 'pay_amt5',\n",
       "                                  'pay_amt6']),\n",
       "                                ('passthrough', 'passthrough',\n",
       "                                 ['education', 'pay_0', 'pay_2', 'pay_3',\n",
       "                                  'pay_4', 'pay_5', 'pay_6']),\n",
       "                                ('onehotencoder',\n",
       "                                 OneHotEncoder(drop='if_binary',\n",
       "                                               handle_unknown='ignore'),\n",
       "                                 ['sex', 'marriage']),\n",
       "                                ('drop', 'drop', ['id'])])"
      ]
     },
     "execution_count": 13,
     "metadata": {},
     "output_type": "execute_result"
    }
   ],
   "source": [
    "# Create the column transformer\n",
    "preprocessor = make_column_transformer(\n",
    "    (StandardScaler(), numeric_feats),\n",
    "    ('passthrough', pass_feats),\n",
    "    (OneHotEncoder(drop='if_binary', handle_unknown=\"ignore\"), categorical_feats),\n",
    "    (\"drop\", drop_feats)\n",
    ")\n",
    "\n",
    "# Show the preprocessor\n",
    "preprocessor"
   ]
  },
  {
   "cell_type": "markdown",
   "metadata": {
    "deletable": false,
    "editable": false
   },
   "source": [
    "<!-- END QUESTION -->\n",
    "\n",
    "<!-- BEGIN QUESTION -->\n",
    "\n",
    "<div class=\"alert alert-info\">\n",
    "\n",
    "## 6. Baseline model <a name=\"6\"></a>\n",
    "rubric={accuracy}\n",
    "\n",
    "**Your tasks:**\n",
    "1. Train a baseline model for your task and report its performance.\n",
    "    \n",
    "</div>\n",
    "\n",
    "_Points:_ 2"
   ]
  },
  {
   "cell_type": "markdown",
   "metadata": {},
   "source": [
    "As noticed before, because of the imbalanced class, the dummy classifier has a high accuracy score."
   ]
  },
  {
   "cell_type": "code",
   "execution_count": 64,
   "metadata": {
    "tags": []
   },
   "outputs": [
    {
     "name": "stdout",
     "output_type": "stream",
     "text": [
      "Dummy Classifier:\n",
      "Accuracy: 0.7827\n",
      "\n",
      "Classification Report:\n",
      "               precision    recall  f1-score   support\n",
      "\n",
      "           0       0.78      1.00      0.88      4696\n",
      "           1       0.00      0.00      0.00      1304\n",
      "\n",
      "    accuracy                           0.78      6000\n",
      "   macro avg       0.39      0.50      0.44      6000\n",
      "weighted avg       0.61      0.78      0.69      6000\n",
      "\n"
     ]
    },
    {
     "name": "stderr",
     "output_type": "stream",
     "text": [
      "/Users/chenxinwang/miniconda3/envs/573/lib/python3.11/site-packages/sklearn/metrics/_classification.py:1471: UndefinedMetricWarning: Precision and F-score are ill-defined and being set to 0.0 in labels with no predicted samples. Use `zero_division` parameter to control this behavior.\n",
      "  _warn_prf(average, modifier, msg_start, len(result))\n",
      "/Users/chenxinwang/miniconda3/envs/573/lib/python3.11/site-packages/sklearn/metrics/_classification.py:1471: UndefinedMetricWarning: Precision and F-score are ill-defined and being set to 0.0 in labels with no predicted samples. Use `zero_division` parameter to control this behavior.\n",
      "  _warn_prf(average, modifier, msg_start, len(result))\n",
      "/Users/chenxinwang/miniconda3/envs/573/lib/python3.11/site-packages/sklearn/metrics/_classification.py:1471: UndefinedMetricWarning: Precision and F-score are ill-defined and being set to 0.0 in labels with no predicted samples. Use `zero_division` parameter to control this behavior.\n",
      "  _warn_prf(average, modifier, msg_start, len(result))\n"
     ]
    }
   ],
   "source": [
    "from sklearn.dummy import DummyClassifier\n",
    "from sklearn.metrics import accuracy_score, classification_report\n",
    "\n",
    "dummy_classifier = DummyClassifier(strategy=\"most_frequent\")\n",
    "dummy_classifier.fit(X_train, y_train)\n",
    "\n",
    "# Evaluate the performance\n",
    "accuracy_dummy = accuracy_score(y_test, y_pred_dummy)\n",
    "classification_rep_dummy = classification_report(y_test, dummy_classifier.predict(X_test))\n",
    "\n",
    "# Print the results\n",
    "print(\"Dummy Classifier:\")\n",
    "print(f\"Accuracy: {accuracy_dummy:.4f}\")\n",
    "print(\"\\nClassification Report:\\n\", classification_rep_dummy)"
   ]
  },
  {
   "cell_type": "code",
   "execution_count": 65,
   "metadata": {},
   "outputs": [
    {
     "data": {
      "text/plain": [
       "<sklearn.metrics._plot.confusion_matrix.ConfusionMatrixDisplay at 0x16b9be9d0>"
      ]
     },
     "execution_count": 65,
     "metadata": {},
     "output_type": "execute_result"
    },
    {
     "data": {
      "image/png": "[encoded data removed]",
      "text/plain": [
       "<Figure size 640x480 with 2 Axes>"
      ]
     },
     "metadata": {},
     "output_type": "display_data"
    }
   ],
   "source": [
    "from sklearn.metrics import confusion_matrix, ConfusionMatrixDisplay\n",
    "from sklearn.model_selection import cross_val_predict\n",
    "confmat = ConfusionMatrixDisplay.from_predictions(\n",
    "    y_train,\n",
    "    cross_val_predict(dummy_classifier, X_train, y_train)\n",
    ")\n",
    "\n",
    "# Show the matrix\n",
    "confmat"
   ]
  },
  {
   "cell_type": "markdown",
   "metadata": {
    "deletable": false,
    "editable": false
   },
   "source": [
    "<!-- END QUESTION -->\n",
    "\n",
    "<!-- BEGIN QUESTION -->\n",
    "\n",
    "<div class=\"alert alert-info\">\n",
    "\n",
    "## 7. Linear models <a name=\"7\"></a>\n",
    "rubric={accuracy,reasoning}\n",
    "\n",
    "**Your tasks:**\n",
    "\n",
    "1. Try a linear model as a first real attempt. \n",
    "2. Carry out hyperparameter tuning to explore different values for the regularization hyperparameter. \n",
    "3. Report cross-validation scores along with standard deviation. \n",
    "4. Summarize your results.\n",
    "    \n",
    "</div>\n",
    "\n",
    "_Points:_ 8"
   ]
  },
  {
   "cell_type": "markdown",
   "metadata": {},
   "source": [
    "_Type your answer here, replacing this text._"
   ]
  },
  {
   "cell_type": "code",
   "execution_count": 15,
   "metadata": {
    "tags": []
   },
   "outputs": [
    {
     "data": {
      "text/plain": [
       "Ellipsis"
      ]
     },
     "execution_count": 15,
     "metadata": {},
     "output_type": "execute_result"
    }
   ],
   "source": [
    "..."
   ]
  },
  {
   "cell_type": "code",
   "execution_count": 16,
   "metadata": {
    "tags": []
   },
   "outputs": [
    {
     "data": {
      "text/plain": [
       "Ellipsis"
      ]
     },
     "execution_count": 16,
     "metadata": {},
     "output_type": "execute_result"
    }
   ],
   "source": [
    "..."
   ]
  },
  {
   "cell_type": "code",
   "execution_count": 17,
   "metadata": {
    "tags": []
   },
   "outputs": [
    {
     "data": {
      "text/plain": [
       "Ellipsis"
      ]
     },
     "execution_count": 17,
     "metadata": {},
     "output_type": "execute_result"
    }
   ],
   "source": [
    "..."
   ]
  },
  {
   "cell_type": "code",
   "execution_count": 18,
   "metadata": {
    "tags": []
   },
   "outputs": [
    {
     "data": {
      "text/plain": [
       "Ellipsis"
      ]
     },
     "execution_count": 18,
     "metadata": {},
     "output_type": "execute_result"
    }
   ],
   "source": [
    "..."
   ]
  },
  {
   "cell_type": "markdown",
   "metadata": {
    "deletable": false,
    "editable": false
   },
   "source": [
    "<!-- END QUESTION -->\n",
    "\n",
    "<!-- BEGIN QUESTION -->\n",
    "\n",
    "<div class=\"alert alert-info\">\n",
    "\n",
    "## 8. Different models <a name=\"8\"></a>\n",
    "rubric={accuracy,reasoning}\n",
    "\n",
    "**Your tasks:**\n",
    "1. Try out three other models aside from the linear model. \n",
    "2. Summarize your results in terms of overfitting/underfitting and fit and score times. Can you beat the performance of the linear model? \n",
    "    \n",
    "</div>\n",
    "\n",
    "_Points:_ 10"
   ]
  },
  {
   "cell_type": "markdown",
   "metadata": {},
   "source": [
    "_Type your answer here, replacing this text._"
   ]
  },
  {
   "cell_type": "code",
   "execution_count": 19,
   "metadata": {
    "tags": []
   },
   "outputs": [
    {
     "data": {
      "text/plain": [
       "Ellipsis"
      ]
     },
     "execution_count": 19,
     "metadata": {},
     "output_type": "execute_result"
    }
   ],
   "source": [
    "..."
   ]
  },
  {
   "cell_type": "code",
   "execution_count": 20,
   "metadata": {
    "tags": []
   },
   "outputs": [
    {
     "data": {
      "text/plain": [
       "Ellipsis"
      ]
     },
     "execution_count": 20,
     "metadata": {},
     "output_type": "execute_result"
    }
   ],
   "source": [
    "..."
   ]
  },
  {
   "cell_type": "code",
   "execution_count": 21,
   "metadata": {
    "tags": []
   },
   "outputs": [
    {
     "data": {
      "text/plain": [
       "Ellipsis"
      ]
     },
     "execution_count": 21,
     "metadata": {},
     "output_type": "execute_result"
    }
   ],
   "source": [
    "..."
   ]
  },
  {
   "cell_type": "markdown",
   "metadata": {
    "deletable": false,
    "editable": false
   },
   "source": [
    "<!-- END QUESTION -->\n",
    "\n",
    "<!-- BEGIN QUESTION -->\n",
    "\n",
    "<div class=\"alert alert-warning\">\n",
    "\n",
    "## 9. Feature selection (Challenging)\n",
    "rubric={reasoning}\n",
    "\n",
    "**Your tasks:**\n",
    "\n",
    "Make some attempts to select relevant features. You may try `RFECV`, forward/backward selection or L1 regularization for this. Do the results improve with feature selection? Summarize your results. If you see improvements in the results, keep feature selection in your pipeline. If not, you may abandon it in the next exercises unless you think there are other benefits with using less features.\n",
    "    \n",
    "</div>\n",
    "\n",
    "_Points:_ 0.5"
   ]
  },
  {
   "cell_type": "markdown",
   "metadata": {},
   "source": [
    "_Type your answer here, replacing this text._"
   ]
  },
  {
   "cell_type": "code",
   "execution_count": 22,
   "metadata": {
    "tags": []
   },
   "outputs": [
    {
     "data": {
      "text/plain": [
       "Ellipsis"
      ]
     },
     "execution_count": 22,
     "metadata": {},
     "output_type": "execute_result"
    }
   ],
   "source": [
    "..."
   ]
  },
  {
   "cell_type": "code",
   "execution_count": 23,
   "metadata": {
    "tags": []
   },
   "outputs": [
    {
     "data": {
      "text/plain": [
       "Ellipsis"
      ]
     },
     "execution_count": 23,
     "metadata": {},
     "output_type": "execute_result"
    }
   ],
   "source": [
    "..."
   ]
  },
  {
   "cell_type": "code",
   "execution_count": 24,
   "metadata": {
    "tags": []
   },
   "outputs": [
    {
     "data": {
      "text/plain": [
       "Ellipsis"
      ]
     },
     "execution_count": 24,
     "metadata": {},
     "output_type": "execute_result"
    }
   ],
   "source": [
    "..."
   ]
  },
  {
   "cell_type": "markdown",
   "metadata": {
    "deletable": false,
    "editable": false
   },
   "source": [
    "<!-- END QUESTION -->\n",
    "\n",
    "<!-- BEGIN QUESTION -->\n",
    "\n",
    "<div class=\"alert alert-info\">\n",
    "\n",
    "## 10. Hyperparameter optimization\n",
    "rubric={accuracy,reasoning}\n",
    "\n",
    "**Your tasks:**\n",
    "\n",
    "Make some attempts to optimize hyperparameters for the models you've tried and summarize your results. In at least one case you should be optimizing multiple hyperparameters for a single model. You may use `sklearn`'s methods for hyperparameter optimization or fancier Bayesian optimization methods.  Briefly summarize your results.\n",
    "  - [GridSearchCV](http://scikit-learn.org/stable/modules/generated/sklearn.model_selection.GridSearchCV.html)   \n",
    "  - [RandomizedSearchCV](http://scikit-learn.org/stable/modules/generated/sklearn.model_selection.RandomizedSearchCV.html)\n",
    "  - [scikit-optimize](https://github.com/scikit-optimize/scikit-optimize) \n",
    "    \n",
    "</div>\n",
    "\n",
    "_Points:_ 6"
   ]
  },
  {
   "cell_type": "markdown",
   "metadata": {},
   "source": [
    "_Type your answer here, replacing this text._"
   ]
  },
  {
   "cell_type": "code",
   "execution_count": 25,
   "metadata": {
    "tags": []
   },
   "outputs": [
    {
     "data": {
      "text/plain": [
       "Ellipsis"
      ]
     },
     "execution_count": 25,
     "metadata": {},
     "output_type": "execute_result"
    }
   ],
   "source": [
    "..."
   ]
  },
  {
   "cell_type": "code",
   "execution_count": 26,
   "metadata": {
    "tags": []
   },
   "outputs": [
    {
     "data": {
      "text/plain": [
       "Ellipsis"
      ]
     },
     "execution_count": 26,
     "metadata": {},
     "output_type": "execute_result"
    }
   ],
   "source": [
    "..."
   ]
  },
  {
   "cell_type": "code",
   "execution_count": 27,
   "metadata": {
    "tags": []
   },
   "outputs": [
    {
     "data": {
      "text/plain": [
       "Ellipsis"
      ]
     },
     "execution_count": 27,
     "metadata": {},
     "output_type": "execute_result"
    }
   ],
   "source": [
    "..."
   ]
  },
  {
   "cell_type": "code",
   "execution_count": 28,
   "metadata": {
    "tags": []
   },
   "outputs": [
    {
     "data": {
      "text/plain": [
       "Ellipsis"
      ]
     },
     "execution_count": 28,
     "metadata": {},
     "output_type": "execute_result"
    }
   ],
   "source": [
    "..."
   ]
  },
  {
   "cell_type": "code",
   "execution_count": 29,
   "metadata": {
    "tags": []
   },
   "outputs": [
    {
     "data": {
      "text/plain": [
       "Ellipsis"
      ]
     },
     "execution_count": 29,
     "metadata": {},
     "output_type": "execute_result"
    }
   ],
   "source": [
    "..."
   ]
  },
  {
   "cell_type": "code",
   "execution_count": 30,
   "metadata": {
    "tags": []
   },
   "outputs": [
    {
     "data": {
      "text/plain": [
       "Ellipsis"
      ]
     },
     "execution_count": 30,
     "metadata": {},
     "output_type": "execute_result"
    }
   ],
   "source": [
    "..."
   ]
  },
  {
   "cell_type": "code",
   "execution_count": 31,
   "metadata": {
    "tags": []
   },
   "outputs": [
    {
     "data": {
      "text/plain": [
       "Ellipsis"
      ]
     },
     "execution_count": 31,
     "metadata": {},
     "output_type": "execute_result"
    }
   ],
   "source": [
    "..."
   ]
  },
  {
   "cell_type": "code",
   "execution_count": 32,
   "metadata": {
    "tags": []
   },
   "outputs": [
    {
     "data": {
      "text/plain": [
       "Ellipsis"
      ]
     },
     "execution_count": 32,
     "metadata": {},
     "output_type": "execute_result"
    }
   ],
   "source": [
    "..."
   ]
  },
  {
   "cell_type": "markdown",
   "metadata": {
    "deletable": false,
    "editable": false
   },
   "source": [
    "<!-- END QUESTION -->\n",
    "\n",
    "<!-- BEGIN QUESTION -->\n",
    "\n",
    "<div class=\"alert alert-info\">\n",
    "\n",
    "## 11. Interpretation and feature importances <a name=\"1\"></a>\n",
    "rubric={accuracy,reasoning}\n",
    "\n",
    "**Your tasks:**\n",
    "\n",
    "1. Use the methods we saw in class (e.g., `eli5`, `shap`) (or any other methods of your choice) to examine the most important features of one of the non-linear models. \n",
    "2. Summarize your observations. \n",
    "    \n",
    "</div>\n",
    "\n",
    "_Points:_ 8"
   ]
  },
  {
   "cell_type": "markdown",
   "metadata": {},
   "source": [
    "_Type your answer here, replacing this text._"
   ]
  },
  {
   "cell_type": "code",
   "execution_count": 33,
   "metadata": {
    "tags": []
   },
   "outputs": [
    {
     "data": {
      "text/plain": [
       "Ellipsis"
      ]
     },
     "execution_count": 33,
     "metadata": {},
     "output_type": "execute_result"
    }
   ],
   "source": [
    "..."
   ]
  },
  {
   "cell_type": "code",
   "execution_count": 34,
   "metadata": {
    "tags": []
   },
   "outputs": [
    {
     "data": {
      "text/plain": [
       "Ellipsis"
      ]
     },
     "execution_count": 34,
     "metadata": {},
     "output_type": "execute_result"
    }
   ],
   "source": [
    "..."
   ]
  },
  {
   "cell_type": "code",
   "execution_count": 35,
   "metadata": {
    "tags": []
   },
   "outputs": [
    {
     "data": {
      "text/plain": [
       "Ellipsis"
      ]
     },
     "execution_count": 35,
     "metadata": {},
     "output_type": "execute_result"
    }
   ],
   "source": [
    "..."
   ]
  },
  {
   "cell_type": "code",
   "execution_count": 36,
   "metadata": {
    "tags": []
   },
   "outputs": [
    {
     "data": {
      "text/plain": [
       "Ellipsis"
      ]
     },
     "execution_count": 36,
     "metadata": {},
     "output_type": "execute_result"
    }
   ],
   "source": [
    "..."
   ]
  },
  {
   "cell_type": "code",
   "execution_count": 37,
   "metadata": {
    "tags": []
   },
   "outputs": [
    {
     "data": {
      "text/plain": [
       "Ellipsis"
      ]
     },
     "execution_count": 37,
     "metadata": {},
     "output_type": "execute_result"
    }
   ],
   "source": [
    "..."
   ]
  },
  {
   "cell_type": "code",
   "execution_count": 38,
   "metadata": {
    "tags": []
   },
   "outputs": [
    {
     "data": {
      "text/plain": [
       "Ellipsis"
      ]
     },
     "execution_count": 38,
     "metadata": {},
     "output_type": "execute_result"
    }
   ],
   "source": [
    "..."
   ]
  },
  {
   "cell_type": "code",
   "execution_count": 39,
   "metadata": {
    "tags": []
   },
   "outputs": [
    {
     "data": {
      "text/plain": [
       "Ellipsis"
      ]
     },
     "execution_count": 39,
     "metadata": {},
     "output_type": "execute_result"
    }
   ],
   "source": [
    "..."
   ]
  },
  {
   "cell_type": "code",
   "execution_count": 40,
   "metadata": {
    "tags": []
   },
   "outputs": [
    {
     "data": {
      "text/plain": [
       "Ellipsis"
      ]
     },
     "execution_count": 40,
     "metadata": {},
     "output_type": "execute_result"
    }
   ],
   "source": [
    "..."
   ]
  },
  {
   "cell_type": "code",
   "execution_count": 41,
   "metadata": {
    "tags": []
   },
   "outputs": [
    {
     "data": {
      "text/plain": [
       "Ellipsis"
      ]
     },
     "execution_count": 41,
     "metadata": {},
     "output_type": "execute_result"
    }
   ],
   "source": [
    "..."
   ]
  },
  {
   "cell_type": "code",
   "execution_count": 42,
   "metadata": {
    "tags": []
   },
   "outputs": [
    {
     "data": {
      "text/plain": [
       "Ellipsis"
      ]
     },
     "execution_count": 42,
     "metadata": {},
     "output_type": "execute_result"
    }
   ],
   "source": [
    "..."
   ]
  },
  {
   "cell_type": "code",
   "execution_count": 43,
   "metadata": {
    "tags": []
   },
   "outputs": [
    {
     "data": {
      "text/plain": [
       "Ellipsis"
      ]
     },
     "execution_count": 43,
     "metadata": {},
     "output_type": "execute_result"
    }
   ],
   "source": [
    "..."
   ]
  },
  {
   "cell_type": "markdown",
   "metadata": {
    "deletable": false,
    "editable": false
   },
   "source": [
    "<!-- END QUESTION -->\n",
    "\n",
    "<!-- BEGIN QUESTION -->\n",
    "\n",
    "<div class=\"alert alert-info\">\n",
    "\n",
    "## 12. Results on the test set <a name=\"12\"></a>\n",
    "rubric={accuracy,reasoning}\n",
    "\n",
    "**Your tasks:**\n",
    "\n",
    "1. Try your best performing model on the test data and report test scores. \n",
    "2. Do the test scores agree with the validation scores from before? To what extent do you trust your results? Do you think you've had issues with optimization bias? \n",
    "3. Take one or two test predictions and explain them with SHAP force plots.  \n",
    "    \n",
    "</div>\n",
    "\n",
    "_Points:_ 6"
   ]
  },
  {
   "cell_type": "markdown",
   "metadata": {},
   "source": [
    "_Type your answer here, replacing this text._"
   ]
  },
  {
   "cell_type": "code",
   "execution_count": 44,
   "metadata": {
    "tags": []
   },
   "outputs": [
    {
     "data": {
      "text/plain": [
       "Ellipsis"
      ]
     },
     "execution_count": 44,
     "metadata": {},
     "output_type": "execute_result"
    }
   ],
   "source": [
    "..."
   ]
  },
  {
   "cell_type": "code",
   "execution_count": 45,
   "metadata": {
    "tags": []
   },
   "outputs": [
    {
     "data": {
      "text/plain": [
       "Ellipsis"
      ]
     },
     "execution_count": 45,
     "metadata": {},
     "output_type": "execute_result"
    }
   ],
   "source": [
    "..."
   ]
  },
  {
   "cell_type": "code",
   "execution_count": 46,
   "metadata": {
    "tags": []
   },
   "outputs": [
    {
     "data": {
      "text/plain": [
       "Ellipsis"
      ]
     },
     "execution_count": 46,
     "metadata": {},
     "output_type": "execute_result"
    }
   ],
   "source": [
    "..."
   ]
  },
  {
   "cell_type": "code",
   "execution_count": 47,
   "metadata": {
    "tags": []
   },
   "outputs": [
    {
     "data": {
      "text/plain": [
       "Ellipsis"
      ]
     },
     "execution_count": 47,
     "metadata": {},
     "output_type": "execute_result"
    }
   ],
   "source": [
    "..."
   ]
  },
  {
   "cell_type": "code",
   "execution_count": 48,
   "metadata": {
    "tags": []
   },
   "outputs": [
    {
     "data": {
      "text/plain": [
       "Ellipsis"
      ]
     },
     "execution_count": 48,
     "metadata": {},
     "output_type": "execute_result"
    }
   ],
   "source": [
    "..."
   ]
  },
  {
   "cell_type": "code",
   "execution_count": 49,
   "metadata": {
    "tags": []
   },
   "outputs": [
    {
     "data": {
      "text/plain": [
       "Ellipsis"
      ]
     },
     "execution_count": 49,
     "metadata": {},
     "output_type": "execute_result"
    }
   ],
   "source": [
    "..."
   ]
  },
  {
   "cell_type": "code",
   "execution_count": 50,
   "metadata": {
    "tags": []
   },
   "outputs": [
    {
     "data": {
      "text/plain": [
       "Ellipsis"
      ]
     },
     "execution_count": 50,
     "metadata": {},
     "output_type": "execute_result"
    }
   ],
   "source": [
    "..."
   ]
  },
  {
   "cell_type": "code",
   "execution_count": 51,
   "metadata": {
    "tags": []
   },
   "outputs": [
    {
     "data": {
      "text/plain": [
       "Ellipsis"
      ]
     },
     "execution_count": 51,
     "metadata": {},
     "output_type": "execute_result"
    }
   ],
   "source": [
    "..."
   ]
  },
  {
   "cell_type": "code",
   "execution_count": 52,
   "metadata": {
    "tags": []
   },
   "outputs": [
    {
     "data": {
      "text/plain": [
       "Ellipsis"
      ]
     },
     "execution_count": 52,
     "metadata": {},
     "output_type": "execute_result"
    }
   ],
   "source": [
    "..."
   ]
  },
  {
   "cell_type": "code",
   "execution_count": 53,
   "metadata": {
    "tags": []
   },
   "outputs": [
    {
     "data": {
      "text/plain": [
       "Ellipsis"
      ]
     },
     "execution_count": 53,
     "metadata": {},
     "output_type": "execute_result"
    }
   ],
   "source": [
    "..."
   ]
  },
  {
   "cell_type": "code",
   "execution_count": 54,
   "metadata": {
    "tags": []
   },
   "outputs": [
    {
     "data": {
      "text/plain": [
       "Ellipsis"
      ]
     },
     "execution_count": 54,
     "metadata": {},
     "output_type": "execute_result"
    }
   ],
   "source": [
    "..."
   ]
  },
  {
   "cell_type": "code",
   "execution_count": 55,
   "metadata": {
    "tags": []
   },
   "outputs": [
    {
     "data": {
      "text/plain": [
       "Ellipsis"
      ]
     },
     "execution_count": 55,
     "metadata": {},
     "output_type": "execute_result"
    }
   ],
   "source": [
    "..."
   ]
  },
  {
   "cell_type": "markdown",
   "metadata": {
    "deletable": false,
    "editable": false
   },
   "source": [
    "<!-- END QUESTION -->\n",
    "\n",
    "<!-- BEGIN QUESTION -->\n",
    "\n",
    "<div class=\"alert alert-info\">\n",
    "\n",
    "## 13. Summary of results <a name=\"13\"></a>\n",
    "rubric={reasoning}\n",
    "\n",
    "Imagine that you want to present the summary of these results to your boss and co-workers. \n",
    "\n",
    "**Your tasks:**\n",
    "\n",
    "1. Create a table summarizing important results. \n",
    "2. Write concluding remarks.\n",
    "3. Discuss other ideas that you did not try but could potentially improve the performance/interpretability . \n",
    "3. Report your final test score along with the metric you used at the top of this notebook.\n",
    "    \n",
    "</div>\n",
    "\n",
    "_Points:_ 8"
   ]
  },
  {
   "cell_type": "markdown",
   "metadata": {},
   "source": [
    "_Type your answer here, replacing this text._"
   ]
  },
  {
   "cell_type": "code",
   "execution_count": 56,
   "metadata": {
    "tags": []
   },
   "outputs": [
    {
     "data": {
      "text/plain": [
       "Ellipsis"
      ]
     },
     "execution_count": 56,
     "metadata": {},
     "output_type": "execute_result"
    }
   ],
   "source": [
    "..."
   ]
  },
  {
   "cell_type": "code",
   "execution_count": 57,
   "metadata": {
    "tags": []
   },
   "outputs": [
    {
     "data": {
      "text/plain": [
       "Ellipsis"
      ]
     },
     "execution_count": 57,
     "metadata": {},
     "output_type": "execute_result"
    }
   ],
   "source": [
    "..."
   ]
  },
  {
   "cell_type": "markdown",
   "metadata": {
    "deletable": false,
    "editable": false
   },
   "source": [
    "<!-- END QUESTION -->\n",
    "\n",
    "<!-- BEGIN QUESTION -->\n",
    "\n",
    "<div class=\"alert alert-warning\">\n",
    "\n",
    "## 14. Creating a data analysis pipeline (Challenging)\n",
    "rubric={reasoning}\n",
    "\n",
    "**Your tasks:**\n",
    "\n",
    "- Convert this notebook into scripts to create a reproducible data analysis pipeline with appropriate documentation. Submit your project folder in addition to this notebook on GitHub and briefly comment on your organization in the text box below.\n",
    "    \n",
    "</div>\n",
    "\n",
    "_Points:_ 2"
   ]
  },
  {
   "cell_type": "markdown",
   "metadata": {},
   "source": [
    "_Type your answer here, replacing this text._"
   ]
  },
  {
   "cell_type": "markdown",
   "metadata": {
    "deletable": false,
    "editable": false
   },
   "source": [
    "<!-- END QUESTION -->\n",
    "\n",
    "<!-- BEGIN QUESTION -->\n",
    "\n",
    "<div class=\"alert alert-warning\">\n",
    "\n",
    "## 15. Your takeaway from the course (Challenging)\n",
    "rubric={reasoning}\n",
    "\n",
    "**Your tasks:**\n",
    "\n",
    "What is your biggest takeaway from this course? \n",
    "    \n",
    "</div>\n",
    "\n",
    "_Points:_ 0.25"
   ]
  },
  {
   "cell_type": "markdown",
   "metadata": {},
   "source": [
    "_Type your answer here, replacing this text._"
   ]
  },
  {
   "cell_type": "markdown",
   "metadata": {
    "deletable": false,
    "editable": false
   },
   "source": [
    "<!-- END QUESTION -->\n",
    "\n",
    "<div class=\"alert alert-danger\" style=\"color:black\">\n",
    "    \n",
    "**Restart, run all and export a PDF before submitting**\n",
    "    \n",
    "Before submitting,\n",
    "don't forget to run all cells in your notebook\n",
    "to make sure there are no errors\n",
    "and so that the TAs can see your plots on Gradescope.\n",
    "You can do this by clicking the ▶▶ button\n",
    "or going to `Kernel -> Restart Kernel and Run All Cells...` in the menu.\n",
    "This is not only important for MDS,\n",
    "but a good habit you should get into before ever committing a notebook to GitHub,\n",
    "so that your collaborators can run it from top to bottom\n",
    "without issues.\n",
    "    \n",
    "After running all the cells,\n",
    "export a PDF of the notebook (preferably the WebPDF export)\n",
    "and upload this PDF together with the ipynb file to Gradescope\n",
    "(you can select two files when uploading to Gradescope)\n",
    "</div>"
   ]
  },
  {
   "cell_type": "markdown",
   "metadata": {
    "tags": [
     "feedback"
    ]
   },
   "source": [
    "---\n",
    "\n",
    "## Help us improve the labs\n",
    "\n",
    "The MDS program is continually looking to improve our courses, including lab questions and content. The following optional questions will not affect your grade in any way nor will they be used for anything other than program improvement:\n",
    "\n",
    "1. Approximately how many hours did you spend working or thinking about this assignment (including lab time)?\n",
    "\n",
    "#Ans:\n",
    "\n",
    "2. Do you have any feedback on the lab you be willing to share? For example, any part or question that you particularly liked or disliked?\n",
    "\n",
    "#Ans:"
   ]
  }
 ],
 "metadata": {
  "kernelspec": {
   "display_name": "Python [conda env:573]",
   "language": "python",
   "name": "conda-env-573-py"
  },
  "language_info": {
   "codemirror_mode": {
    "name": "ipython",
    "version": 3
   },
   "file_extension": ".py",
   "mimetype": "text/x-python",
   "name": "python",
   "nbconvert_exporter": "python",
   "pygments_lexer": "ipython3",
   "version": "3.11.6"
  },
  "otter": {
   "OK_FORMAT": true,
   "tests": {}
  }
 },
 "nbformat": 4,
 "nbformat_minor": 4
}
